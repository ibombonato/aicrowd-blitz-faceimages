{
  "nbformat": 4,
  "nbformat_minor": 0,
  "metadata": {
    "colab": {
      "name": "Cópia de Cópia de Getting Starter Notebook for Sentiment Classification ",
      "provenance": [],
      "collapsed_sections": [],
      "include_colab_link": true
    },
    "kernelspec": {
      "name": "python3",
      "display_name": "Python 3"
    },
    "language_info": {
      "name": "python"
    },
    "widgets": {
      "application/vnd.jupyter.widget-state+json": {
        "cf1c87fbc7ae4b01a7f9982e118a83a6": {
          "model_module": "@jupyter-widgets/controls",
          "model_name": "HBoxModel",
          "model_module_version": "1.5.0",
          "state": {
            "_view_name": "HBoxView",
            "_dom_classes": [],
            "_model_name": "HBoxModel",
            "_view_module": "@jupyter-widgets/controls",
            "_model_module_version": "1.5.0",
            "_view_count": null,
            "_view_module_version": "1.5.0",
            "box_style": "",
            "layout": "IPY_MODEL_72b786e0bec646bfab0c8b9029b2fafe",
            "_model_module": "@jupyter-widgets/controls",
            "children": [
              "IPY_MODEL_ad46253ff0144e8999e36975287b8528",
              "IPY_MODEL_2fc221e61a4845c888c118817a55e71f",
              "IPY_MODEL_5f4c87592e1d457dbb5bfbe60d0cf3ae"
            ]
          }
        },
        "72b786e0bec646bfab0c8b9029b2fafe": {
          "model_module": "@jupyter-widgets/base",
          "model_name": "LayoutModel",
          "model_module_version": "1.2.0",
          "state": {
            "_view_name": "LayoutView",
            "grid_template_rows": null,
            "right": null,
            "justify_content": null,
            "_view_module": "@jupyter-widgets/base",
            "overflow": null,
            "_model_module_version": "1.2.0",
            "_view_count": null,
            "flex_flow": null,
            "width": null,
            "min_width": null,
            "border": null,
            "align_items": null,
            "bottom": null,
            "_model_module": "@jupyter-widgets/base",
            "top": null,
            "grid_column": null,
            "overflow_y": null,
            "overflow_x": null,
            "grid_auto_flow": null,
            "grid_area": null,
            "grid_template_columns": null,
            "flex": null,
            "_model_name": "LayoutModel",
            "justify_items": null,
            "grid_row": null,
            "max_height": null,
            "align_content": null,
            "visibility": null,
            "align_self": null,
            "height": null,
            "min_height": null,
            "padding": null,
            "grid_auto_rows": null,
            "grid_gap": null,
            "max_width": null,
            "order": null,
            "_view_module_version": "1.2.0",
            "grid_template_areas": null,
            "object_position": null,
            "object_fit": null,
            "grid_auto_columns": null,
            "margin": null,
            "display": null,
            "left": null
          }
        },
        "ad46253ff0144e8999e36975287b8528": {
          "model_module": "@jupyter-widgets/controls",
          "model_name": "HTMLModel",
          "model_module_version": "1.5.0",
          "state": {
            "_view_name": "HTMLView",
            "style": "IPY_MODEL_4d522d87966c4985ba0697c9858c554c",
            "_dom_classes": [],
            "description": "",
            "_model_name": "HTMLModel",
            "placeholder": "​",
            "_view_module": "@jupyter-widgets/controls",
            "_model_module_version": "1.5.0",
            "value": "sample_submission.csv: 100%",
            "_view_count": null,
            "_view_module_version": "1.5.0",
            "description_tooltip": null,
            "_model_module": "@jupyter-widgets/controls",
            "layout": "IPY_MODEL_7f249c7233124d77adb7a574a34b134c"
          }
        },
        "2fc221e61a4845c888c118817a55e71f": {
          "model_module": "@jupyter-widgets/controls",
          "model_name": "FloatProgressModel",
          "model_module_version": "1.5.0",
          "state": {
            "_view_name": "ProgressView",
            "style": "IPY_MODEL_692d2bb34fe34a06838989a5b5f11b50",
            "_dom_classes": [],
            "description": "",
            "_model_name": "FloatProgressModel",
            "bar_style": "success",
            "max": 30904133,
            "_view_module": "@jupyter-widgets/controls",
            "_model_module_version": "1.5.0",
            "value": 30904133,
            "_view_count": null,
            "_view_module_version": "1.5.0",
            "orientation": "horizontal",
            "min": 0,
            "description_tooltip": null,
            "_model_module": "@jupyter-widgets/controls",
            "layout": "IPY_MODEL_8a427029657d4f59a0746b0493b7ec7c"
          }
        },
        "5f4c87592e1d457dbb5bfbe60d0cf3ae": {
          "model_module": "@jupyter-widgets/controls",
          "model_name": "HTMLModel",
          "model_module_version": "1.5.0",
          "state": {
            "_view_name": "HTMLView",
            "style": "IPY_MODEL_f581a5f3eb2348ad866249a43633fd56",
            "_dom_classes": [],
            "description": "",
            "_model_name": "HTMLModel",
            "placeholder": "​",
            "_view_module": "@jupyter-widgets/controls",
            "_model_module_version": "1.5.0",
            "value": " 30.9M/30.9M [00:04&lt;00:00, 7.21MB/s]",
            "_view_count": null,
            "_view_module_version": "1.5.0",
            "description_tooltip": null,
            "_model_module": "@jupyter-widgets/controls",
            "layout": "IPY_MODEL_ac014c3562af4218801bd26686ee5ba8"
          }
        },
        "4d522d87966c4985ba0697c9858c554c": {
          "model_module": "@jupyter-widgets/controls",
          "model_name": "DescriptionStyleModel",
          "model_module_version": "1.5.0",
          "state": {
            "_view_name": "StyleView",
            "_model_name": "DescriptionStyleModel",
            "description_width": "",
            "_view_module": "@jupyter-widgets/base",
            "_model_module_version": "1.5.0",
            "_view_count": null,
            "_view_module_version": "1.2.0",
            "_model_module": "@jupyter-widgets/controls"
          }
        },
        "7f249c7233124d77adb7a574a34b134c": {
          "model_module": "@jupyter-widgets/base",
          "model_name": "LayoutModel",
          "model_module_version": "1.2.0",
          "state": {
            "_view_name": "LayoutView",
            "grid_template_rows": null,
            "right": null,
            "justify_content": null,
            "_view_module": "@jupyter-widgets/base",
            "overflow": null,
            "_model_module_version": "1.2.0",
            "_view_count": null,
            "flex_flow": null,
            "width": null,
            "min_width": null,
            "border": null,
            "align_items": null,
            "bottom": null,
            "_model_module": "@jupyter-widgets/base",
            "top": null,
            "grid_column": null,
            "overflow_y": null,
            "overflow_x": null,
            "grid_auto_flow": null,
            "grid_area": null,
            "grid_template_columns": null,
            "flex": null,
            "_model_name": "LayoutModel",
            "justify_items": null,
            "grid_row": null,
            "max_height": null,
            "align_content": null,
            "visibility": null,
            "align_self": null,
            "height": null,
            "min_height": null,
            "padding": null,
            "grid_auto_rows": null,
            "grid_gap": null,
            "max_width": null,
            "order": null,
            "_view_module_version": "1.2.0",
            "grid_template_areas": null,
            "object_position": null,
            "object_fit": null,
            "grid_auto_columns": null,
            "margin": null,
            "display": null,
            "left": null
          }
        },
        "692d2bb34fe34a06838989a5b5f11b50": {
          "model_module": "@jupyter-widgets/controls",
          "model_name": "ProgressStyleModel",
          "model_module_version": "1.5.0",
          "state": {
            "_view_name": "StyleView",
            "_model_name": "ProgressStyleModel",
            "description_width": "",
            "_view_module": "@jupyter-widgets/base",
            "_model_module_version": "1.5.0",
            "_view_count": null,
            "_view_module_version": "1.2.0",
            "bar_color": null,
            "_model_module": "@jupyter-widgets/controls"
          }
        },
        "8a427029657d4f59a0746b0493b7ec7c": {
          "model_module": "@jupyter-widgets/base",
          "model_name": "LayoutModel",
          "model_module_version": "1.2.0",
          "state": {
            "_view_name": "LayoutView",
            "grid_template_rows": null,
            "right": null,
            "justify_content": null,
            "_view_module": "@jupyter-widgets/base",
            "overflow": null,
            "_model_module_version": "1.2.0",
            "_view_count": null,
            "flex_flow": null,
            "width": null,
            "min_width": null,
            "border": null,
            "align_items": null,
            "bottom": null,
            "_model_module": "@jupyter-widgets/base",
            "top": null,
            "grid_column": null,
            "overflow_y": null,
            "overflow_x": null,
            "grid_auto_flow": null,
            "grid_area": null,
            "grid_template_columns": null,
            "flex": null,
            "_model_name": "LayoutModel",
            "justify_items": null,
            "grid_row": null,
            "max_height": null,
            "align_content": null,
            "visibility": null,
            "align_self": null,
            "height": null,
            "min_height": null,
            "padding": null,
            "grid_auto_rows": null,
            "grid_gap": null,
            "max_width": null,
            "order": null,
            "_view_module_version": "1.2.0",
            "grid_template_areas": null,
            "object_position": null,
            "object_fit": null,
            "grid_auto_columns": null,
            "margin": null,
            "display": null,
            "left": null
          }
        },
        "f581a5f3eb2348ad866249a43633fd56": {
          "model_module": "@jupyter-widgets/controls",
          "model_name": "DescriptionStyleModel",
          "model_module_version": "1.5.0",
          "state": {
            "_view_name": "StyleView",
            "_model_name": "DescriptionStyleModel",
            "description_width": "",
            "_view_module": "@jupyter-widgets/base",
            "_model_module_version": "1.5.0",
            "_view_count": null,
            "_view_module_version": "1.2.0",
            "_model_module": "@jupyter-widgets/controls"
          }
        },
        "ac014c3562af4218801bd26686ee5ba8": {
          "model_module": "@jupyter-widgets/base",
          "model_name": "LayoutModel",
          "model_module_version": "1.2.0",
          "state": {
            "_view_name": "LayoutView",
            "grid_template_rows": null,
            "right": null,
            "justify_content": null,
            "_view_module": "@jupyter-widgets/base",
            "overflow": null,
            "_model_module_version": "1.2.0",
            "_view_count": null,
            "flex_flow": null,
            "width": null,
            "min_width": null,
            "border": null,
            "align_items": null,
            "bottom": null,
            "_model_module": "@jupyter-widgets/base",
            "top": null,
            "grid_column": null,
            "overflow_y": null,
            "overflow_x": null,
            "grid_auto_flow": null,
            "grid_area": null,
            "grid_template_columns": null,
            "flex": null,
            "_model_name": "LayoutModel",
            "justify_items": null,
            "grid_row": null,
            "max_height": null,
            "align_content": null,
            "visibility": null,
            "align_self": null,
            "height": null,
            "min_height": null,
            "padding": null,
            "grid_auto_rows": null,
            "grid_gap": null,
            "max_width": null,
            "order": null,
            "_view_module_version": "1.2.0",
            "grid_template_areas": null,
            "object_position": null,
            "object_fit": null,
            "grid_auto_columns": null,
            "margin": null,
            "display": null,
            "left": null
          }
        },
        "c3bcc8a476f14352a2ae412cc27c1979": {
          "model_module": "@jupyter-widgets/controls",
          "model_name": "HBoxModel",
          "model_module_version": "1.5.0",
          "state": {
            "_view_name": "HBoxView",
            "_dom_classes": [],
            "_model_name": "HBoxModel",
            "_view_module": "@jupyter-widgets/controls",
            "_model_module_version": "1.5.0",
            "_view_count": null,
            "_view_module_version": "1.5.0",
            "box_style": "",
            "layout": "IPY_MODEL_be1836b42cfb450796e4a02b562ccc6b",
            "_model_module": "@jupyter-widgets/controls",
            "children": [
              "IPY_MODEL_4cedc9f3f35a40bba13eaa29b25403dd",
              "IPY_MODEL_01c92451a6ef4002b8ecf6c71f3d724d",
              "IPY_MODEL_65d510b7e59e462484e4fcbe2218bf4d"
            ]
          }
        },
        "be1836b42cfb450796e4a02b562ccc6b": {
          "model_module": "@jupyter-widgets/base",
          "model_name": "LayoutModel",
          "model_module_version": "1.2.0",
          "state": {
            "_view_name": "LayoutView",
            "grid_template_rows": null,
            "right": null,
            "justify_content": null,
            "_view_module": "@jupyter-widgets/base",
            "overflow": null,
            "_model_module_version": "1.2.0",
            "_view_count": null,
            "flex_flow": null,
            "width": null,
            "min_width": null,
            "border": null,
            "align_items": null,
            "bottom": null,
            "_model_module": "@jupyter-widgets/base",
            "top": null,
            "grid_column": null,
            "overflow_y": null,
            "overflow_x": null,
            "grid_auto_flow": null,
            "grid_area": null,
            "grid_template_columns": null,
            "flex": null,
            "_model_name": "LayoutModel",
            "justify_items": null,
            "grid_row": null,
            "max_height": null,
            "align_content": null,
            "visibility": null,
            "align_self": null,
            "height": null,
            "min_height": null,
            "padding": null,
            "grid_auto_rows": null,
            "grid_gap": null,
            "max_width": null,
            "order": null,
            "_view_module_version": "1.2.0",
            "grid_template_areas": null,
            "object_position": null,
            "object_fit": null,
            "grid_auto_columns": null,
            "margin": null,
            "display": null,
            "left": null
          }
        },
        "4cedc9f3f35a40bba13eaa29b25403dd": {
          "model_module": "@jupyter-widgets/controls",
          "model_name": "HTMLModel",
          "model_module_version": "1.5.0",
          "state": {
            "_view_name": "HTMLView",
            "style": "IPY_MODEL_ffcd57bf54c1476294afe85a6d4870dc",
            "_dom_classes": [],
            "description": "",
            "_model_name": "HTMLModel",
            "placeholder": "​",
            "_view_module": "@jupyter-widgets/controls",
            "_model_module_version": "1.5.0",
            "value": "test.csv: 100%",
            "_view_count": null,
            "_view_module_version": "1.5.0",
            "description_tooltip": null,
            "_model_module": "@jupyter-widgets/controls",
            "layout": "IPY_MODEL_716f335661744457aea265ea633c6d36"
          }
        },
        "01c92451a6ef4002b8ecf6c71f3d724d": {
          "model_module": "@jupyter-widgets/controls",
          "model_name": "FloatProgressModel",
          "model_module_version": "1.5.0",
          "state": {
            "_view_name": "ProgressView",
            "style": "IPY_MODEL_d196a8da97604e29888adab8efe7c7fb",
            "_dom_classes": [],
            "description": "",
            "_model_name": "FloatProgressModel",
            "bar_style": "success",
            "max": 30878108,
            "_view_module": "@jupyter-widgets/controls",
            "_model_module_version": "1.5.0",
            "value": 30878108,
            "_view_count": null,
            "_view_module_version": "1.5.0",
            "orientation": "horizontal",
            "min": 0,
            "description_tooltip": null,
            "_model_module": "@jupyter-widgets/controls",
            "layout": "IPY_MODEL_7264d0e4227d468eb74fb7aaccbd99b7"
          }
        },
        "65d510b7e59e462484e4fcbe2218bf4d": {
          "model_module": "@jupyter-widgets/controls",
          "model_name": "HTMLModel",
          "model_module_version": "1.5.0",
          "state": {
            "_view_name": "HTMLView",
            "style": "IPY_MODEL_254b1f9cf86248c7916b3e93ebf7f86a",
            "_dom_classes": [],
            "description": "",
            "_model_name": "HTMLModel",
            "placeholder": "​",
            "_view_module": "@jupyter-widgets/controls",
            "_model_module_version": "1.5.0",
            "value": " 30.9M/30.9M [00:03&lt;00:00, 9.05MB/s]",
            "_view_count": null,
            "_view_module_version": "1.5.0",
            "description_tooltip": null,
            "_model_module": "@jupyter-widgets/controls",
            "layout": "IPY_MODEL_0f80e5ad02a04419b5459c777cea24ca"
          }
        },
        "ffcd57bf54c1476294afe85a6d4870dc": {
          "model_module": "@jupyter-widgets/controls",
          "model_name": "DescriptionStyleModel",
          "model_module_version": "1.5.0",
          "state": {
            "_view_name": "StyleView",
            "_model_name": "DescriptionStyleModel",
            "description_width": "",
            "_view_module": "@jupyter-widgets/base",
            "_model_module_version": "1.5.0",
            "_view_count": null,
            "_view_module_version": "1.2.0",
            "_model_module": "@jupyter-widgets/controls"
          }
        },
        "716f335661744457aea265ea633c6d36": {
          "model_module": "@jupyter-widgets/base",
          "model_name": "LayoutModel",
          "model_module_version": "1.2.0",
          "state": {
            "_view_name": "LayoutView",
            "grid_template_rows": null,
            "right": null,
            "justify_content": null,
            "_view_module": "@jupyter-widgets/base",
            "overflow": null,
            "_model_module_version": "1.2.0",
            "_view_count": null,
            "flex_flow": null,
            "width": null,
            "min_width": null,
            "border": null,
            "align_items": null,
            "bottom": null,
            "_model_module": "@jupyter-widgets/base",
            "top": null,
            "grid_column": null,
            "overflow_y": null,
            "overflow_x": null,
            "grid_auto_flow": null,
            "grid_area": null,
            "grid_template_columns": null,
            "flex": null,
            "_model_name": "LayoutModel",
            "justify_items": null,
            "grid_row": null,
            "max_height": null,
            "align_content": null,
            "visibility": null,
            "align_self": null,
            "height": null,
            "min_height": null,
            "padding": null,
            "grid_auto_rows": null,
            "grid_gap": null,
            "max_width": null,
            "order": null,
            "_view_module_version": "1.2.0",
            "grid_template_areas": null,
            "object_position": null,
            "object_fit": null,
            "grid_auto_columns": null,
            "margin": null,
            "display": null,
            "left": null
          }
        },
        "d196a8da97604e29888adab8efe7c7fb": {
          "model_module": "@jupyter-widgets/controls",
          "model_name": "ProgressStyleModel",
          "model_module_version": "1.5.0",
          "state": {
            "_view_name": "StyleView",
            "_model_name": "ProgressStyleModel",
            "description_width": "",
            "_view_module": "@jupyter-widgets/base",
            "_model_module_version": "1.5.0",
            "_view_count": null,
            "_view_module_version": "1.2.0",
            "bar_color": null,
            "_model_module": "@jupyter-widgets/controls"
          }
        },
        "7264d0e4227d468eb74fb7aaccbd99b7": {
          "model_module": "@jupyter-widgets/base",
          "model_name": "LayoutModel",
          "model_module_version": "1.2.0",
          "state": {
            "_view_name": "LayoutView",
            "grid_template_rows": null,
            "right": null,
            "justify_content": null,
            "_view_module": "@jupyter-widgets/base",
            "overflow": null,
            "_model_module_version": "1.2.0",
            "_view_count": null,
            "flex_flow": null,
            "width": null,
            "min_width": null,
            "border": null,
            "align_items": null,
            "bottom": null,
            "_model_module": "@jupyter-widgets/base",
            "top": null,
            "grid_column": null,
            "overflow_y": null,
            "overflow_x": null,
            "grid_auto_flow": null,
            "grid_area": null,
            "grid_template_columns": null,
            "flex": null,
            "_model_name": "LayoutModel",
            "justify_items": null,
            "grid_row": null,
            "max_height": null,
            "align_content": null,
            "visibility": null,
            "align_self": null,
            "height": null,
            "min_height": null,
            "padding": null,
            "grid_auto_rows": null,
            "grid_gap": null,
            "max_width": null,
            "order": null,
            "_view_module_version": "1.2.0",
            "grid_template_areas": null,
            "object_position": null,
            "object_fit": null,
            "grid_auto_columns": null,
            "margin": null,
            "display": null,
            "left": null
          }
        },
        "254b1f9cf86248c7916b3e93ebf7f86a": {
          "model_module": "@jupyter-widgets/controls",
          "model_name": "DescriptionStyleModel",
          "model_module_version": "1.5.0",
          "state": {
            "_view_name": "StyleView",
            "_model_name": "DescriptionStyleModel",
            "description_width": "",
            "_view_module": "@jupyter-widgets/base",
            "_model_module_version": "1.5.0",
            "_view_count": null,
            "_view_module_version": "1.2.0",
            "_model_module": "@jupyter-widgets/controls"
          }
        },
        "0f80e5ad02a04419b5459c777cea24ca": {
          "model_module": "@jupyter-widgets/base",
          "model_name": "LayoutModel",
          "model_module_version": "1.2.0",
          "state": {
            "_view_name": "LayoutView",
            "grid_template_rows": null,
            "right": null,
            "justify_content": null,
            "_view_module": "@jupyter-widgets/base",
            "overflow": null,
            "_model_module_version": "1.2.0",
            "_view_count": null,
            "flex_flow": null,
            "width": null,
            "min_width": null,
            "border": null,
            "align_items": null,
            "bottom": null,
            "_model_module": "@jupyter-widgets/base",
            "top": null,
            "grid_column": null,
            "overflow_y": null,
            "overflow_x": null,
            "grid_auto_flow": null,
            "grid_area": null,
            "grid_template_columns": null,
            "flex": null,
            "_model_name": "LayoutModel",
            "justify_items": null,
            "grid_row": null,
            "max_height": null,
            "align_content": null,
            "visibility": null,
            "align_self": null,
            "height": null,
            "min_height": null,
            "padding": null,
            "grid_auto_rows": null,
            "grid_gap": null,
            "max_width": null,
            "order": null,
            "_view_module_version": "1.2.0",
            "grid_template_areas": null,
            "object_position": null,
            "object_fit": null,
            "grid_auto_columns": null,
            "margin": null,
            "display": null,
            "left": null
          }
        },
        "97ffec82263d413aa35d0df36c9e36eb": {
          "model_module": "@jupyter-widgets/controls",
          "model_name": "HBoxModel",
          "model_module_version": "1.5.0",
          "state": {
            "_view_name": "HBoxView",
            "_dom_classes": [],
            "_model_name": "HBoxModel",
            "_view_module": "@jupyter-widgets/controls",
            "_model_module_version": "1.5.0",
            "_view_count": null,
            "_view_module_version": "1.5.0",
            "box_style": "",
            "layout": "IPY_MODEL_eec3f303c952431c8ad6377cf38aa8a0",
            "_model_module": "@jupyter-widgets/controls",
            "children": [
              "IPY_MODEL_7c18cec2a4094fcab91e8cc3f1754229",
              "IPY_MODEL_56fadee042d14a3a82fcb05cba184caf",
              "IPY_MODEL_d6ed8f52517945068e9e53377ee6b7dc"
            ]
          }
        },
        "eec3f303c952431c8ad6377cf38aa8a0": {
          "model_module": "@jupyter-widgets/base",
          "model_name": "LayoutModel",
          "model_module_version": "1.2.0",
          "state": {
            "_view_name": "LayoutView",
            "grid_template_rows": null,
            "right": null,
            "justify_content": null,
            "_view_module": "@jupyter-widgets/base",
            "overflow": null,
            "_model_module_version": "1.2.0",
            "_view_count": null,
            "flex_flow": null,
            "width": null,
            "min_width": null,
            "border": null,
            "align_items": null,
            "bottom": null,
            "_model_module": "@jupyter-widgets/base",
            "top": null,
            "grid_column": null,
            "overflow_y": null,
            "overflow_x": null,
            "grid_auto_flow": null,
            "grid_area": null,
            "grid_template_columns": null,
            "flex": null,
            "_model_name": "LayoutModel",
            "justify_items": null,
            "grid_row": null,
            "max_height": null,
            "align_content": null,
            "visibility": null,
            "align_self": null,
            "height": null,
            "min_height": null,
            "padding": null,
            "grid_auto_rows": null,
            "grid_gap": null,
            "max_width": null,
            "order": null,
            "_view_module_version": "1.2.0",
            "grid_template_areas": null,
            "object_position": null,
            "object_fit": null,
            "grid_auto_columns": null,
            "margin": null,
            "display": null,
            "left": null
          }
        },
        "7c18cec2a4094fcab91e8cc3f1754229": {
          "model_module": "@jupyter-widgets/controls",
          "model_name": "HTMLModel",
          "model_module_version": "1.5.0",
          "state": {
            "_view_name": "HTMLView",
            "style": "IPY_MODEL_1e8a714606164364b1982b7caa7f226f",
            "_dom_classes": [],
            "description": "",
            "_model_name": "HTMLModel",
            "placeholder": "​",
            "_view_module": "@jupyter-widgets/controls",
            "_model_module_version": "1.5.0",
            "value": "train.csv: 100%",
            "_view_count": null,
            "_view_module_version": "1.5.0",
            "description_tooltip": null,
            "_model_module": "@jupyter-widgets/controls",
            "layout": "IPY_MODEL_e77215b3cfd940499832f9ba833eab41"
          }
        },
        "56fadee042d14a3a82fcb05cba184caf": {
          "model_module": "@jupyter-widgets/controls",
          "model_name": "FloatProgressModel",
          "model_module_version": "1.5.0",
          "state": {
            "_view_name": "ProgressView",
            "style": "IPY_MODEL_44c0ef99a1c44ce4858384dd04826c70",
            "_dom_classes": [],
            "description": "",
            "_model_name": "FloatProgressModel",
            "bar_style": "success",
            "max": 51491549,
            "_view_module": "@jupyter-widgets/controls",
            "_model_module_version": "1.5.0",
            "value": 51491549,
            "_view_count": null,
            "_view_module_version": "1.5.0",
            "orientation": "horizontal",
            "min": 0,
            "description_tooltip": null,
            "_model_module": "@jupyter-widgets/controls",
            "layout": "IPY_MODEL_93e6632610844ce492b9c9c64af3ceb1"
          }
        },
        "d6ed8f52517945068e9e53377ee6b7dc": {
          "model_module": "@jupyter-widgets/controls",
          "model_name": "HTMLModel",
          "model_module_version": "1.5.0",
          "state": {
            "_view_name": "HTMLView",
            "style": "IPY_MODEL_ff71b94ceedb4e5ebc329e3906130f23",
            "_dom_classes": [],
            "description": "",
            "_model_name": "HTMLModel",
            "placeholder": "​",
            "_view_module": "@jupyter-widgets/controls",
            "_model_module_version": "1.5.0",
            "value": " 51.5M/51.5M [00:10&lt;00:00, 4.95MB/s]",
            "_view_count": null,
            "_view_module_version": "1.5.0",
            "description_tooltip": null,
            "_model_module": "@jupyter-widgets/controls",
            "layout": "IPY_MODEL_fdaaeeedb8ef447e9bd8088ede74afcb"
          }
        },
        "1e8a714606164364b1982b7caa7f226f": {
          "model_module": "@jupyter-widgets/controls",
          "model_name": "DescriptionStyleModel",
          "model_module_version": "1.5.0",
          "state": {
            "_view_name": "StyleView",
            "_model_name": "DescriptionStyleModel",
            "description_width": "",
            "_view_module": "@jupyter-widgets/base",
            "_model_module_version": "1.5.0",
            "_view_count": null,
            "_view_module_version": "1.2.0",
            "_model_module": "@jupyter-widgets/controls"
          }
        },
        "e77215b3cfd940499832f9ba833eab41": {
          "model_module": "@jupyter-widgets/base",
          "model_name": "LayoutModel",
          "model_module_version": "1.2.0",
          "state": {
            "_view_name": "LayoutView",
            "grid_template_rows": null,
            "right": null,
            "justify_content": null,
            "_view_module": "@jupyter-widgets/base",
            "overflow": null,
            "_model_module_version": "1.2.0",
            "_view_count": null,
            "flex_flow": null,
            "width": null,
            "min_width": null,
            "border": null,
            "align_items": null,
            "bottom": null,
            "_model_module": "@jupyter-widgets/base",
            "top": null,
            "grid_column": null,
            "overflow_y": null,
            "overflow_x": null,
            "grid_auto_flow": null,
            "grid_area": null,
            "grid_template_columns": null,
            "flex": null,
            "_model_name": "LayoutModel",
            "justify_items": null,
            "grid_row": null,
            "max_height": null,
            "align_content": null,
            "visibility": null,
            "align_self": null,
            "height": null,
            "min_height": null,
            "padding": null,
            "grid_auto_rows": null,
            "grid_gap": null,
            "max_width": null,
            "order": null,
            "_view_module_version": "1.2.0",
            "grid_template_areas": null,
            "object_position": null,
            "object_fit": null,
            "grid_auto_columns": null,
            "margin": null,
            "display": null,
            "left": null
          }
        },
        "44c0ef99a1c44ce4858384dd04826c70": {
          "model_module": "@jupyter-widgets/controls",
          "model_name": "ProgressStyleModel",
          "model_module_version": "1.5.0",
          "state": {
            "_view_name": "StyleView",
            "_model_name": "ProgressStyleModel",
            "description_width": "",
            "_view_module": "@jupyter-widgets/base",
            "_model_module_version": "1.5.0",
            "_view_count": null,
            "_view_module_version": "1.2.0",
            "bar_color": null,
            "_model_module": "@jupyter-widgets/controls"
          }
        },
        "93e6632610844ce492b9c9c64af3ceb1": {
          "model_module": "@jupyter-widgets/base",
          "model_name": "LayoutModel",
          "model_module_version": "1.2.0",
          "state": {
            "_view_name": "LayoutView",
            "grid_template_rows": null,
            "right": null,
            "justify_content": null,
            "_view_module": "@jupyter-widgets/base",
            "overflow": null,
            "_model_module_version": "1.2.0",
            "_view_count": null,
            "flex_flow": null,
            "width": null,
            "min_width": null,
            "border": null,
            "align_items": null,
            "bottom": null,
            "_model_module": "@jupyter-widgets/base",
            "top": null,
            "grid_column": null,
            "overflow_y": null,
            "overflow_x": null,
            "grid_auto_flow": null,
            "grid_area": null,
            "grid_template_columns": null,
            "flex": null,
            "_model_name": "LayoutModel",
            "justify_items": null,
            "grid_row": null,
            "max_height": null,
            "align_content": null,
            "visibility": null,
            "align_self": null,
            "height": null,
            "min_height": null,
            "padding": null,
            "grid_auto_rows": null,
            "grid_gap": null,
            "max_width": null,
            "order": null,
            "_view_module_version": "1.2.0",
            "grid_template_areas": null,
            "object_position": null,
            "object_fit": null,
            "grid_auto_columns": null,
            "margin": null,
            "display": null,
            "left": null
          }
        },
        "ff71b94ceedb4e5ebc329e3906130f23": {
          "model_module": "@jupyter-widgets/controls",
          "model_name": "DescriptionStyleModel",
          "model_module_version": "1.5.0",
          "state": {
            "_view_name": "StyleView",
            "_model_name": "DescriptionStyleModel",
            "description_width": "",
            "_view_module": "@jupyter-widgets/base",
            "_model_module_version": "1.5.0",
            "_view_count": null,
            "_view_module_version": "1.2.0",
            "_model_module": "@jupyter-widgets/controls"
          }
        },
        "fdaaeeedb8ef447e9bd8088ede74afcb": {
          "model_module": "@jupyter-widgets/base",
          "model_name": "LayoutModel",
          "model_module_version": "1.2.0",
          "state": {
            "_view_name": "LayoutView",
            "grid_template_rows": null,
            "right": null,
            "justify_content": null,
            "_view_module": "@jupyter-widgets/base",
            "overflow": null,
            "_model_module_version": "1.2.0",
            "_view_count": null,
            "flex_flow": null,
            "width": null,
            "min_width": null,
            "border": null,
            "align_items": null,
            "bottom": null,
            "_model_module": "@jupyter-widgets/base",
            "top": null,
            "grid_column": null,
            "overflow_y": null,
            "overflow_x": null,
            "grid_auto_flow": null,
            "grid_area": null,
            "grid_template_columns": null,
            "flex": null,
            "_model_name": "LayoutModel",
            "justify_items": null,
            "grid_row": null,
            "max_height": null,
            "align_content": null,
            "visibility": null,
            "align_self": null,
            "height": null,
            "min_height": null,
            "padding": null,
            "grid_auto_rows": null,
            "grid_gap": null,
            "max_width": null,
            "order": null,
            "_view_module_version": "1.2.0",
            "grid_template_areas": null,
            "object_position": null,
            "object_fit": null,
            "grid_auto_columns": null,
            "margin": null,
            "display": null,
            "left": null
          }
        },
        "28819fe58d824068942e364f56435e87": {
          "model_module": "@jupyter-widgets/controls",
          "model_name": "HBoxModel",
          "model_module_version": "1.5.0",
          "state": {
            "_view_name": "HBoxView",
            "_dom_classes": [],
            "_model_name": "HBoxModel",
            "_view_module": "@jupyter-widgets/controls",
            "_model_module_version": "1.5.0",
            "_view_count": null,
            "_view_module_version": "1.5.0",
            "box_style": "",
            "layout": "IPY_MODEL_93806853463f4f89a3cb1c7b8c18a10d",
            "_model_module": "@jupyter-widgets/controls",
            "children": [
              "IPY_MODEL_0a19e8c25f654a288bca0308ff403bf7",
              "IPY_MODEL_8c11566d27d7460c9d84bafcd9d372a3",
              "IPY_MODEL_f15b43ed7d724940bf33333c6404f8d7"
            ]
          }
        },
        "93806853463f4f89a3cb1c7b8c18a10d": {
          "model_module": "@jupyter-widgets/base",
          "model_name": "LayoutModel",
          "model_module_version": "1.2.0",
          "state": {
            "_view_name": "LayoutView",
            "grid_template_rows": null,
            "right": null,
            "justify_content": null,
            "_view_module": "@jupyter-widgets/base",
            "overflow": null,
            "_model_module_version": "1.2.0",
            "_view_count": null,
            "flex_flow": null,
            "width": null,
            "min_width": null,
            "border": null,
            "align_items": null,
            "bottom": null,
            "_model_module": "@jupyter-widgets/base",
            "top": null,
            "grid_column": null,
            "overflow_y": null,
            "overflow_x": null,
            "grid_auto_flow": null,
            "grid_area": null,
            "grid_template_columns": null,
            "flex": null,
            "_model_name": "LayoutModel",
            "justify_items": null,
            "grid_row": null,
            "max_height": null,
            "align_content": null,
            "visibility": null,
            "align_self": null,
            "height": null,
            "min_height": null,
            "padding": null,
            "grid_auto_rows": null,
            "grid_gap": null,
            "max_width": null,
            "order": null,
            "_view_module_version": "1.2.0",
            "grid_template_areas": null,
            "object_position": null,
            "object_fit": null,
            "grid_auto_columns": null,
            "margin": null,
            "display": null,
            "left": null
          }
        },
        "0a19e8c25f654a288bca0308ff403bf7": {
          "model_module": "@jupyter-widgets/controls",
          "model_name": "HTMLModel",
          "model_module_version": "1.5.0",
          "state": {
            "_view_name": "HTMLView",
            "style": "IPY_MODEL_fc1891ccd63d4685a1b558480f8460f0",
            "_dom_classes": [],
            "description": "",
            "_model_name": "HTMLModel",
            "placeholder": "​",
            "_view_module": "@jupyter-widgets/controls",
            "_model_module_version": "1.5.0",
            "value": "val.csv: 100%",
            "_view_count": null,
            "_view_module_version": "1.5.0",
            "description_tooltip": null,
            "_model_module": "@jupyter-widgets/controls",
            "layout": "IPY_MODEL_633b08b32fd1405894efac11aff7ac9b"
          }
        },
        "8c11566d27d7460c9d84bafcd9d372a3": {
          "model_module": "@jupyter-widgets/controls",
          "model_name": "FloatProgressModel",
          "model_module_version": "1.5.0",
          "state": {
            "_view_name": "ProgressView",
            "style": "IPY_MODEL_8d4cd5918cab43508417271175b8c5f9",
            "_dom_classes": [],
            "description": "",
            "_model_name": "FloatProgressModel",
            "bar_style": "success",
            "max": 20596780,
            "_view_module": "@jupyter-widgets/controls",
            "_model_module_version": "1.5.0",
            "value": 20596780,
            "_view_count": null,
            "_view_module_version": "1.5.0",
            "orientation": "horizontal",
            "min": 0,
            "description_tooltip": null,
            "_model_module": "@jupyter-widgets/controls",
            "layout": "IPY_MODEL_b048a094eb764cf2ac64f602f449927a"
          }
        },
        "f15b43ed7d724940bf33333c6404f8d7": {
          "model_module": "@jupyter-widgets/controls",
          "model_name": "HTMLModel",
          "model_module_version": "1.5.0",
          "state": {
            "_view_name": "HTMLView",
            "style": "IPY_MODEL_f00e33aabec741ed9ff3e1f30b163742",
            "_dom_classes": [],
            "description": "",
            "_model_name": "HTMLModel",
            "placeholder": "​",
            "_view_module": "@jupyter-widgets/controls",
            "_model_module_version": "1.5.0",
            "value": " 20.6M/20.6M [00:03&lt;00:00, 6.52MB/s]",
            "_view_count": null,
            "_view_module_version": "1.5.0",
            "description_tooltip": null,
            "_model_module": "@jupyter-widgets/controls",
            "layout": "IPY_MODEL_cbe04fc1882f429d8dee0d890be60abb"
          }
        },
        "fc1891ccd63d4685a1b558480f8460f0": {
          "model_module": "@jupyter-widgets/controls",
          "model_name": "DescriptionStyleModel",
          "model_module_version": "1.5.0",
          "state": {
            "_view_name": "StyleView",
            "_model_name": "DescriptionStyleModel",
            "description_width": "",
            "_view_module": "@jupyter-widgets/base",
            "_model_module_version": "1.5.0",
            "_view_count": null,
            "_view_module_version": "1.2.0",
            "_model_module": "@jupyter-widgets/controls"
          }
        },
        "633b08b32fd1405894efac11aff7ac9b": {
          "model_module": "@jupyter-widgets/base",
          "model_name": "LayoutModel",
          "model_module_version": "1.2.0",
          "state": {
            "_view_name": "LayoutView",
            "grid_template_rows": null,
            "right": null,
            "justify_content": null,
            "_view_module": "@jupyter-widgets/base",
            "overflow": null,
            "_model_module_version": "1.2.0",
            "_view_count": null,
            "flex_flow": null,
            "width": null,
            "min_width": null,
            "border": null,
            "align_items": null,
            "bottom": null,
            "_model_module": "@jupyter-widgets/base",
            "top": null,
            "grid_column": null,
            "overflow_y": null,
            "overflow_x": null,
            "grid_auto_flow": null,
            "grid_area": null,
            "grid_template_columns": null,
            "flex": null,
            "_model_name": "LayoutModel",
            "justify_items": null,
            "grid_row": null,
            "max_height": null,
            "align_content": null,
            "visibility": null,
            "align_self": null,
            "height": null,
            "min_height": null,
            "padding": null,
            "grid_auto_rows": null,
            "grid_gap": null,
            "max_width": null,
            "order": null,
            "_view_module_version": "1.2.0",
            "grid_template_areas": null,
            "object_position": null,
            "object_fit": null,
            "grid_auto_columns": null,
            "margin": null,
            "display": null,
            "left": null
          }
        },
        "8d4cd5918cab43508417271175b8c5f9": {
          "model_module": "@jupyter-widgets/controls",
          "model_name": "ProgressStyleModel",
          "model_module_version": "1.5.0",
          "state": {
            "_view_name": "StyleView",
            "_model_name": "ProgressStyleModel",
            "description_width": "",
            "_view_module": "@jupyter-widgets/base",
            "_model_module_version": "1.5.0",
            "_view_count": null,
            "_view_module_version": "1.2.0",
            "bar_color": null,
            "_model_module": "@jupyter-widgets/controls"
          }
        },
        "b048a094eb764cf2ac64f602f449927a": {
          "model_module": "@jupyter-widgets/base",
          "model_name": "LayoutModel",
          "model_module_version": "1.2.0",
          "state": {
            "_view_name": "LayoutView",
            "grid_template_rows": null,
            "right": null,
            "justify_content": null,
            "_view_module": "@jupyter-widgets/base",
            "overflow": null,
            "_model_module_version": "1.2.0",
            "_view_count": null,
            "flex_flow": null,
            "width": null,
            "min_width": null,
            "border": null,
            "align_items": null,
            "bottom": null,
            "_model_module": "@jupyter-widgets/base",
            "top": null,
            "grid_column": null,
            "overflow_y": null,
            "overflow_x": null,
            "grid_auto_flow": null,
            "grid_area": null,
            "grid_template_columns": null,
            "flex": null,
            "_model_name": "LayoutModel",
            "justify_items": null,
            "grid_row": null,
            "max_height": null,
            "align_content": null,
            "visibility": null,
            "align_self": null,
            "height": null,
            "min_height": null,
            "padding": null,
            "grid_auto_rows": null,
            "grid_gap": null,
            "max_width": null,
            "order": null,
            "_view_module_version": "1.2.0",
            "grid_template_areas": null,
            "object_position": null,
            "object_fit": null,
            "grid_auto_columns": null,
            "margin": null,
            "display": null,
            "left": null
          }
        },
        "f00e33aabec741ed9ff3e1f30b163742": {
          "model_module": "@jupyter-widgets/controls",
          "model_name": "DescriptionStyleModel",
          "model_module_version": "1.5.0",
          "state": {
            "_view_name": "StyleView",
            "_model_name": "DescriptionStyleModel",
            "description_width": "",
            "_view_module": "@jupyter-widgets/base",
            "_model_module_version": "1.5.0",
            "_view_count": null,
            "_view_module_version": "1.2.0",
            "_model_module": "@jupyter-widgets/controls"
          }
        },
        "cbe04fc1882f429d8dee0d890be60abb": {
          "model_module": "@jupyter-widgets/base",
          "model_name": "LayoutModel",
          "model_module_version": "1.2.0",
          "state": {
            "_view_name": "LayoutView",
            "grid_template_rows": null,
            "right": null,
            "justify_content": null,
            "_view_module": "@jupyter-widgets/base",
            "overflow": null,
            "_model_module_version": "1.2.0",
            "_view_count": null,
            "flex_flow": null,
            "width": null,
            "min_width": null,
            "border": null,
            "align_items": null,
            "bottom": null,
            "_model_module": "@jupyter-widgets/base",
            "top": null,
            "grid_column": null,
            "overflow_y": null,
            "overflow_x": null,
            "grid_auto_flow": null,
            "grid_area": null,
            "grid_template_columns": null,
            "flex": null,
            "_model_name": "LayoutModel",
            "justify_items": null,
            "grid_row": null,
            "max_height": null,
            "align_content": null,
            "visibility": null,
            "align_self": null,
            "height": null,
            "min_height": null,
            "padding": null,
            "grid_auto_rows": null,
            "grid_gap": null,
            "max_width": null,
            "order": null,
            "_view_module_version": "1.2.0",
            "grid_template_areas": null,
            "object_position": null,
            "object_fit": null,
            "grid_auto_columns": null,
            "margin": null,
            "display": null,
            "left": null
          }
        },
        "32dd6d0038644457a336035784ced507": {
          "model_module": "@jupyter-widgets/output",
          "model_name": "OutputModel",
          "model_module_version": "1.0.0",
          "state": {
            "_view_name": "OutputView",
            "msg_id": "",
            "_dom_classes": [],
            "_model_name": "OutputModel",
            "outputs": [
              {
                "output_type": "display_data",
                "data": {
                  "text/html": "<pre style=\"white-space:pre;overflow-x:auto;line-height:normal;font-family:Menlo,'DejaVu Sans Mono',consolas,'Courier New',monospace\"><span style=\"color: #000080; text-decoration-color: #000080; font-weight: bold\">submission.zip</span> <span style=\"color: #729c1f; text-decoration-color: #729c1f\">━━━━━━━━━━━━━━━━━━━━━━━━━━━━━━━━━</span> <span style=\"color: #800080; text-decoration-color: #800080\">100.0%</span> • <span style=\"color: #008000; text-decoration-color: #008000\">14.2/14.2 MB</span> • <span style=\"color: #800000; text-decoration-color: #800000\">642.7 kB/s</span> • <span style=\"color: #008080; text-decoration-color: #008080\">0:00:00</span>\n</pre>\n",
                  "text/plain": "\u001b[1;34msubmission.zip\u001b[0m \u001b[38;2;114;156;31m━━━━━━━━━━━━━━━━━━━━━━━━━━━━━━━━━\u001b[0m \u001b[35m100.0%\u001b[0m • \u001b[32m14.2/14.2 MB\u001b[0m • \u001b[31m642.7 kB/s\u001b[0m • \u001b[36m0:00:00\u001b[0m\n"
                },
                "metadata": {}
              }
            ],
            "_view_module": "@jupyter-widgets/output",
            "_model_module_version": "1.0.0",
            "_view_count": null,
            "_view_module_version": "1.0.0",
            "layout": "IPY_MODEL_c6c2e4a32985470bb77b6b1324aa8da6",
            "_model_module": "@jupyter-widgets/output"
          }
        },
        "c6c2e4a32985470bb77b6b1324aa8da6": {
          "model_module": "@jupyter-widgets/base",
          "model_name": "LayoutModel",
          "model_module_version": "1.2.0",
          "state": {
            "_view_name": "LayoutView",
            "grid_template_rows": null,
            "right": null,
            "justify_content": null,
            "_view_module": "@jupyter-widgets/base",
            "overflow": null,
            "_model_module_version": "1.2.0",
            "_view_count": null,
            "flex_flow": null,
            "width": null,
            "min_width": null,
            "border": null,
            "align_items": null,
            "bottom": null,
            "_model_module": "@jupyter-widgets/base",
            "top": null,
            "grid_column": null,
            "overflow_y": null,
            "overflow_x": null,
            "grid_auto_flow": null,
            "grid_area": null,
            "grid_template_columns": null,
            "flex": null,
            "_model_name": "LayoutModel",
            "justify_items": null,
            "grid_row": null,
            "max_height": null,
            "align_content": null,
            "visibility": null,
            "align_self": null,
            "height": null,
            "min_height": null,
            "padding": null,
            "grid_auto_rows": null,
            "grid_gap": null,
            "max_width": null,
            "order": null,
            "_view_module_version": "1.2.0",
            "grid_template_areas": null,
            "object_position": null,
            "object_fit": null,
            "grid_auto_columns": null,
            "margin": null,
            "display": null,
            "left": null
          }
        }
      }
    }
  },
  "cells": [
    {
      "cell_type": "markdown",
      "metadata": {
        "id": "view-in-github",
        "colab_type": "text"
      },
      "source": [
        "<a href=\"https://colab.research.google.com/github/ibombonato/aicrowd-blitz-faceimages/blob/main/AiCrowd_Tabular_Sentiment_Classification.ipynb\" target=\"_parent\"><img src=\"https://colab.research.google.com/assets/colab-badge.svg\" alt=\"Open In Colab\"/></a>"
      ]
    },
    {
      "cell_type": "code",
      "source": [
        "!nvidia-smi"
      ],
      "metadata": {
        "colab": {
          "base_uri": "https://localhost:8080/"
        },
        "id": "Jdz2TT2GzzF_",
        "outputId": "dee79053-27f5-434c-c8ad-7983c62cd24d"
      },
      "execution_count": 3,
      "outputs": [
        {
          "output_type": "stream",
          "name": "stdout",
          "text": [
            "NVIDIA-SMI has failed because it couldn't communicate with the NVIDIA driver. Make sure that the latest NVIDIA driver is installed and running.\n",
            "\n"
          ]
        }
      ]
    },
    {
      "cell_type": "markdown",
      "source": [
        "![Sentiment_Desktop Banner-2.png](data:image/png;base64,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)"
      ],
      "metadata": {
        "id": "L0dLjQvFv5kx"
      }
    },
    {
      "cell_type": "markdown",
      "metadata": {
        "id": "0KgOzMgr-PJN"
      },
      "source": [
        "<h2><center> Getting Started with Sentiment Classification</center></h2>\n",
        "\n",
        "In this puzzle, we have to classify the sentiment into 3 classes, positive, negative and neutral from the given features of an human face. \n",
        "\n",
        "This is a starter kit explaining how to download the data and also submit direcly via this notebook. \n",
        "\n",
        "We will be submitting the sample prediction directly in the required format.\n",
        "\n",
        "\n"
      ]
    },
    {
      "cell_type": "markdown",
      "source": [
        "\n",
        "# Download the files 💾¶\n",
        "## Download AIcrowd CLI\n",
        "\n",
        "We will first install aicrowd-cli which will help you download and later make submission directly via the notebook.\n"
      ],
      "metadata": {
        "id": "pYnuxNvIJZRn"
      }
    },
    {
      "cell_type": "code",
      "source": [
        "!pip install aicrowd-cli"
      ],
      "metadata": {
        "id": "m4w04PPgJf3T"
      },
      "execution_count": null,
      "outputs": []
    },
    {
      "cell_type": "code",
      "source": [
        "!pip install --upgrade fastai\n",
        "!pip install pyjanitor\n",
        "!pip install bayesian-optimization\n",
        "!pip install catboost\n",
        "!pip install pytorch-tabnet fast_tabnet"
      ],
      "metadata": {
        "id": "lYG272GZ3LkD"
      },
      "execution_count": null,
      "outputs": []
    },
    {
      "cell_type": "code",
      "source": [
        "import fastai\n",
        "fastai.__version__"
      ],
      "metadata": {
        "colab": {
          "base_uri": "https://localhost:8080/",
          "height": 36
        },
        "id": "bz_RXuoq3Qv9",
        "outputId": "a2b25e10-d3df-4546-f9f4-8f1ce4eb3204"
      },
      "execution_count": 1,
      "outputs": [
        {
          "output_type": "execute_result",
          "data": {
            "application/vnd.google.colaboratory.intrinsic+json": {
              "type": "string"
            },
            "text/plain": [
              "'2.5.3'"
            ]
          },
          "metadata": {},
          "execution_count": 1
        }
      ]
    },
    {
      "cell_type": "code",
      "source": [
        "from google.colab import drive\n",
        "drive.mount('/content/drive')"
      ],
      "metadata": {
        "colab": {
          "base_uri": "https://localhost:8080/"
        },
        "id": "et_IOXwv_ia-",
        "outputId": "22c9ba70-4210-482c-c05a-d4346767d21a"
      },
      "execution_count": 2,
      "outputs": [
        {
          "output_type": "stream",
          "name": "stdout",
          "text": [
            "Mounted at /content/drive\n"
          ]
        }
      ]
    },
    {
      "cell_type": "markdown",
      "source": [
        "\n",
        "## Login to AIcrowd ㊗¶\n"
      ],
      "metadata": {
        "id": "aqmhTshfJzbz"
      }
    },
    {
      "cell_type": "code",
      "source": [
        "%load_ext aicrowd.magic\n",
        "%aicrowd login"
      ],
      "metadata": {
        "colab": {
          "base_uri": "https://localhost:8080/"
        },
        "id": "5vRJiRKJJoe2",
        "outputId": "ecc98280-1ebe-4118-ee4c-41a6728ebb82"
      },
      "execution_count": 3,
      "outputs": [
        {
          "output_type": "stream",
          "name": "stdout",
          "text": [
            "Please login here: \u001b[34m\u001b[1m\u001b[4mhttps://api.aicrowd.com/auth/vtiKQLRG41YY0pYe311YXOzb3Hdb5e-KGLuxKRbicwg\u001b[0m\n",
            "\u001b[32mAPI Key valid\u001b[0m\n",
            "\u001b[32mGitlab access token valid\u001b[0m\n",
            "\u001b[32mSaved details successfully!\u001b[0m\n"
          ]
        }
      ]
    },
    {
      "cell_type": "markdown",
      "source": [
        "\n",
        "## Download Dataset¶\n",
        "\n",
        "We will create a folder name data and download the files there.\n"
      ],
      "metadata": {
        "id": "1Qavs9YbJ-_z"
      }
    },
    {
      "cell_type": "code",
      "source": [
        "!rm -rf data\n",
        "!mkdir data\n",
        "%aicrowd ds dl -c sentiment-classification -o data"
      ],
      "metadata": {
        "colab": {
          "base_uri": "https://localhost:8080/",
          "height": 145,
          "referenced_widgets": [
            "cf1c87fbc7ae4b01a7f9982e118a83a6",
            "72b786e0bec646bfab0c8b9029b2fafe",
            "ad46253ff0144e8999e36975287b8528",
            "2fc221e61a4845c888c118817a55e71f",
            "5f4c87592e1d457dbb5bfbe60d0cf3ae",
            "4d522d87966c4985ba0697c9858c554c",
            "7f249c7233124d77adb7a574a34b134c",
            "692d2bb34fe34a06838989a5b5f11b50",
            "8a427029657d4f59a0746b0493b7ec7c",
            "f581a5f3eb2348ad866249a43633fd56",
            "ac014c3562af4218801bd26686ee5ba8",
            "c3bcc8a476f14352a2ae412cc27c1979",
            "be1836b42cfb450796e4a02b562ccc6b",
            "4cedc9f3f35a40bba13eaa29b25403dd",
            "01c92451a6ef4002b8ecf6c71f3d724d",
            "65d510b7e59e462484e4fcbe2218bf4d",
            "ffcd57bf54c1476294afe85a6d4870dc",
            "716f335661744457aea265ea633c6d36",
            "d196a8da97604e29888adab8efe7c7fb",
            "7264d0e4227d468eb74fb7aaccbd99b7",
            "254b1f9cf86248c7916b3e93ebf7f86a",
            "0f80e5ad02a04419b5459c777cea24ca",
            "97ffec82263d413aa35d0df36c9e36eb",
            "eec3f303c952431c8ad6377cf38aa8a0",
            "7c18cec2a4094fcab91e8cc3f1754229",
            "56fadee042d14a3a82fcb05cba184caf",
            "d6ed8f52517945068e9e53377ee6b7dc",
            "1e8a714606164364b1982b7caa7f226f",
            "e77215b3cfd940499832f9ba833eab41",
            "44c0ef99a1c44ce4858384dd04826c70",
            "93e6632610844ce492b9c9c64af3ceb1",
            "ff71b94ceedb4e5ebc329e3906130f23",
            "fdaaeeedb8ef447e9bd8088ede74afcb",
            "28819fe58d824068942e364f56435e87",
            "93806853463f4f89a3cb1c7b8c18a10d",
            "0a19e8c25f654a288bca0308ff403bf7",
            "8c11566d27d7460c9d84bafcd9d372a3",
            "f15b43ed7d724940bf33333c6404f8d7",
            "fc1891ccd63d4685a1b558480f8460f0",
            "633b08b32fd1405894efac11aff7ac9b",
            "8d4cd5918cab43508417271175b8c5f9",
            "b048a094eb764cf2ac64f602f449927a",
            "f00e33aabec741ed9ff3e1f30b163742",
            "cbe04fc1882f429d8dee0d890be60abb"
          ]
        },
        "id": "YQI8-4M7KE2W",
        "outputId": "1d37b077-0073-498d-cb8e-89a7ebbdb0c7"
      },
      "execution_count": 4,
      "outputs": [
        {
          "output_type": "display_data",
          "data": {
            "application/vnd.jupyter.widget-view+json": {
              "model_id": "cf1c87fbc7ae4b01a7f9982e118a83a6",
              "version_minor": 0,
              "version_major": 2
            },
            "text/plain": [
              "sample_submission.csv:   0%|          | 0.00/30.9M [00:00<?, ?B/s]"
            ]
          },
          "metadata": {}
        },
        {
          "output_type": "display_data",
          "data": {
            "application/vnd.jupyter.widget-view+json": {
              "model_id": "c3bcc8a476f14352a2ae412cc27c1979",
              "version_minor": 0,
              "version_major": 2
            },
            "text/plain": [
              "test.csv:   0%|          | 0.00/30.9M [00:00<?, ?B/s]"
            ]
          },
          "metadata": {}
        },
        {
          "output_type": "display_data",
          "data": {
            "application/vnd.jupyter.widget-view+json": {
              "model_id": "97ffec82263d413aa35d0df36c9e36eb",
              "version_minor": 0,
              "version_major": 2
            },
            "text/plain": [
              "train.csv:   0%|          | 0.00/51.5M [00:00<?, ?B/s]"
            ]
          },
          "metadata": {}
        },
        {
          "output_type": "display_data",
          "data": {
            "application/vnd.jupyter.widget-view+json": {
              "model_id": "28819fe58d824068942e364f56435e87",
              "version_minor": 0,
              "version_major": 2
            },
            "text/plain": [
              "val.csv:   0%|          | 0.00/20.6M [00:00<?, ?B/s]"
            ]
          },
          "metadata": {}
        }
      ]
    },
    {
      "cell_type": "markdown",
      "metadata": {
        "id": "Da9HOX9CF7Th"
      },
      "source": [
        "## Importing Libraries:"
      ]
    },
    {
      "cell_type": "code",
      "metadata": {
        "id": "PKg7dTVDF9n0"
      },
      "source": [
        "import pandas as pd\n",
        "import numpy as np\n",
        "import os\n",
        "from ast import literal_eval\n",
        "from fastai.tabular.all import *\n",
        "import janitor"
      ],
      "execution_count": 5,
      "outputs": []
    },
    {
      "cell_type": "markdown",
      "metadata": {
        "id": "UitqWMEr48hW"
      },
      "source": [
        "## Diving in the dataset 🕵️‍♂️"
      ]
    },
    {
      "cell_type": "code",
      "metadata": {
        "id": "zI0bUy6OGLFH"
      },
      "source": [
        "train_df = pd.read_csv(\"data/train.csv\")\n",
        "val_df = pd.read_csv(\"data/val.csv\")"
      ],
      "execution_count": 6,
      "outputs": []
    },
    {
      "cell_type": "code",
      "metadata": {
        "id": "oQJG0KflGC-N"
      },
      "source": [
        "test_df = pd.read_csv(\"data/test.csv\")"
      ],
      "execution_count": 7,
      "outputs": []
    },
    {
      "cell_type": "code",
      "source": [
        "def make_df(df):\n",
        "  X = [literal_eval(embedding) for embedding in df['embeddings'].values]\n",
        "  df_new = pd.DataFrame(X)\n",
        "  if 'label' in df.columns:\n",
        "    df_new['label'] = df['label'].values\n",
        "\n",
        "  return df_new.clean_names()"
      ],
      "metadata": {
        "id": "FlpNCMh03hVs"
      },
      "execution_count": 8,
      "outputs": []
    },
    {
      "cell_type": "code",
      "source": [
        "df_train = make_df(train_df)\n",
        "df_val = make_df(val_df)\n",
        "df_test = make_df(test_df)"
      ],
      "metadata": {
        "id": "2BhRW1mj6a-O"
      },
      "execution_count": 9,
      "outputs": []
    },
    {
      "cell_type": "code",
      "source": [
        "df_train['is_valid'] = False\n",
        "df_val['is_valid'] = True"
      ],
      "metadata": {
        "id": "0yuaeSClXL56"
      },
      "execution_count": 10,
      "outputs": []
    },
    {
      "cell_type": "code",
      "source": [
        "df_all = pd.concat([df_train, df_val])"
      ],
      "metadata": {
        "id": "pwhqvPOFHegx"
      },
      "execution_count": 11,
      "outputs": []
    },
    {
      "cell_type": "markdown",
      "source": [
        "## Optim"
      ],
      "metadata": {
        "id": "zU_g1JdVIVnP"
      }
    },
    {
      "cell_type": "code",
      "source": [
        "accuracy_score([le_scaler.classes_[item.argmax()] for item in svm_preds], le_scaler.inverse_transform(Y_val_scaled))from bayes_opt import BayesianOptimization\n",
        "\n",
        "def fit_with(lr:float, wd:float, dp:float, n_layers:float, layer_1:float, layer_2:float, layer_3:float):\n",
        "\n",
        "    print(lr, wd, dp)\n",
        "    if round(n_layers) == 2:\n",
        "        layers = [round(layer_1), round(layer_2)]\n",
        "    elif int(n_layers) == 3:\n",
        "        layers = [round(layer_1), round(layer_2), round(layer_3)]\n",
        "    else:\n",
        "        layers = [round(layer_1)]\n",
        "    config = tabular_config(embed_p=float(dp),\n",
        "                          ps=float(wd))\n",
        "    learn = tabular_learner(dls, layers=layers, metrics=accuracy, config = config)\n",
        "\n",
        "    with learn.no_bar() and learn.no_logging():\n",
        "        learn.fit(5, lr=float(lr))\n",
        "\n",
        "    acc = float(learn.validate()[1])\n",
        "\n",
        "    return acc"
      ],
      "metadata": {
        "id": "qicwd0DQIYD6"
      },
      "execution_count": 24,
      "outputs": []
    },
    {
      "cell_type": "markdown",
      "source": [
        "## Training FastAI"
      ],
      "metadata": {
        "id": "b3U4JgJp9DAe"
      }
    },
    {
      "cell_type": "code",
      "source": [
        "splits = ColSplitter()(df_all)"
      ],
      "metadata": {
        "id": "UAsp3UvvBn-5"
      },
      "execution_count": 25,
      "outputs": []
    },
    {
      "cell_type": "code",
      "source": [
        "to = TabularPandas(df_all, \n",
        "                   procs=[Normalize],\n",
        "                   cont_names = list(map(str, np.arange(1,512))),\n",
        "                   y_names='label',\n",
        "                   y_block = CategoryBlock(),\n",
        "                   splits=splits,\n",
        "                   )"
      ],
      "metadata": {
        "id": "wFrL_QTd9IgX"
      },
      "execution_count": 26,
      "outputs": []
    },
    {
      "cell_type": "code",
      "source": [
        "dls = to.dataloaders(bs=512)"
      ],
      "metadata": {
        "id": "sr5bzJNUA6pB"
      },
      "execution_count": 27,
      "outputs": []
    },
    {
      "cell_type": "code",
      "source": [
        "hps = {'lr': (1e-05, 1e-01),\n",
        "      'wd': (4e-4, 0.4),\n",
        "      'dp': (0.01, 0.5),\n",
        "       'n_layers': (1,3),\n",
        "       'layer_1': (50, 200),\n",
        "       'layer_2': (100, 1000),\n",
        "       'layer_3': (200, 2000)}"
      ],
      "metadata": {
        "id": "tSJzrN0HYj1o"
      },
      "execution_count": 28,
      "outputs": []
    },
    {
      "cell_type": "code",
      "source": [
        "optim = BayesianOptimization(\n",
        "    f = fit_with, # our fit function\n",
        "    pbounds = hps, # our hyper parameters to tune\n",
        "    verbose = 2, # 1 prints out when a maximum is observed, 0 for silent\n",
        "    random_state=1\n",
        ")"
      ],
      "metadata": {
        "id": "w8cQDaiqYnb6"
      },
      "execution_count": 29,
      "outputs": []
    },
    {
      "cell_type": "code",
      "source": [
        "%time optim.maximize(n_iter=20)"
      ],
      "metadata": {
        "colab": {
          "base_uri": "https://localhost:8080/",
          "height": 1000
        },
        "id": "hkEoXmCmYqhE",
        "outputId": "38fbc263-e62d-493b-b5a1-d9df70bc6226"
      },
      "execution_count": 30,
      "outputs": [
        {
          "output_type": "stream",
          "name": "stdout",
          "text": [
            "|   iter    |  target   |    dp     |  layer_1  |  layer_2  |  layer_3  |    lr     | n_layers  |    wd     |\n",
            "-------------------------------------------------------------------------------------------------------------\n",
            "0.014684121522803134 0.07482958046651729 0.21434078230426126\n"
          ]
        },
        {
          "output_type": "display_data",
          "data": {
            "text/html": [
              "\n",
              "<style>\n",
              "    /* Turns off some styling */\n",
              "    progress {\n",
              "        /* gets rid of default border in Firefox and Opera. */\n",
              "        border: none;\n",
              "        /* Needs to be in here for Safari polyfill so background images work as expected. */\n",
              "        background-size: auto;\n",
              "    }\n",
              "    .progress-bar-interrupted, .progress-bar-interrupted::-webkit-progress-bar {\n",
              "        background: #F44336;\n",
              "    }\n",
              "</style>\n"
            ],
            "text/plain": [
              "<IPython.core.display.HTML object>"
            ]
          },
          "metadata": {}
        },
        {
          "output_type": "display_data",
          "data": {
            "text/html": [
              ""
            ],
            "text/plain": [
              "<IPython.core.display.HTML object>"
            ]
          },
          "metadata": {}
        },
        {
          "output_type": "display_data",
          "data": {
            "text/html": [
              "\n",
              "<style>\n",
              "    /* Turns off some styling */\n",
              "    progress {\n",
              "        /* gets rid of default border in Firefox and Opera. */\n",
              "        border: none;\n",
              "        /* Needs to be in here for Safari polyfill so background images work as expected. */\n",
              "        background-size: auto;\n",
              "    }\n",
              "    .progress-bar-interrupted, .progress-bar-interrupted::-webkit-progress-bar {\n",
              "        background: #F44336;\n",
              "    }\n",
              "</style>\n"
            ],
            "text/plain": [
              "<IPython.core.display.HTML object>"
            ]
          },
          "metadata": {}
        },
        {
          "output_type": "display_data",
          "data": {
            "text/html": [
              ""
            ],
            "text/plain": [
              "<IPython.core.display.HTML object>"
            ]
          },
          "metadata": {}
        },
        {
          "output_type": "stream",
          "name": "stdout",
          "text": [
            "| \u001b[0m 1       \u001b[0m | \u001b[0m 0.7815  \u001b[0m | \u001b[0m 0.2143  \u001b[0m | \u001b[0m 158.0   \u001b[0m | \u001b[0m 100.1   \u001b[0m | \u001b[0m 744.2   \u001b[0m | \u001b[0m 0.01468 \u001b[0m | \u001b[0m 1.185   \u001b[0m | \u001b[0m 0.07483 \u001b[0m |\n",
            "0.06852509784467198 0.3512957275818218 0.1793247562510934\n"
          ]
        },
        {
          "output_type": "display_data",
          "data": {
            "text/html": [
              "\n",
              "<style>\n",
              "    /* Turns off some styling */\n",
              "    progress {\n",
              "        /* gets rid of default border in Firefox and Opera. */\n",
              "        border: none;\n",
              "        /* Needs to be in here for Safari polyfill so background images work as expected. */\n",
              "        background-size: auto;\n",
              "    }\n",
              "    .progress-bar-interrupted, .progress-bar-interrupted::-webkit-progress-bar {\n",
              "        background: #F44336;\n",
              "    }\n",
              "</style>\n"
            ],
            "text/plain": [
              "<IPython.core.display.HTML object>"
            ]
          },
          "metadata": {}
        },
        {
          "output_type": "display_data",
          "data": {
            "text/html": [
              ""
            ],
            "text/plain": [
              "<IPython.core.display.HTML object>"
            ]
          },
          "metadata": {}
        },
        {
          "output_type": "display_data",
          "data": {
            "text/html": [
              "\n",
              "<style>\n",
              "    /* Turns off some styling */\n",
              "    progress {\n",
              "        /* gets rid of default border in Firefox and Opera. */\n",
              "        border: none;\n",
              "        /* Needs to be in here for Safari polyfill so background images work as expected. */\n",
              "        background-size: auto;\n",
              "    }\n",
              "    .progress-bar-interrupted, .progress-bar-interrupted::-webkit-progress-bar {\n",
              "        background: #F44336;\n",
              "    }\n",
              "</style>\n"
            ],
            "text/plain": [
              "<IPython.core.display.HTML object>"
            ]
          },
          "metadata": {}
        },
        {
          "output_type": "display_data",
          "data": {
            "text/html": [
              ""
            ],
            "text/plain": [
              "<IPython.core.display.HTML object>"
            ]
          },
          "metadata": {}
        },
        {
          "output_type": "stream",
          "name": "stdout",
          "text": [
            "| \u001b[0m 2       \u001b[0m | \u001b[0m 0.7735  \u001b[0m | \u001b[0m 0.1793  \u001b[0m | \u001b[0m 109.5   \u001b[0m | \u001b[0m 584.9   \u001b[0m | \u001b[0m 954.6   \u001b[0m | \u001b[0m 0.06853 \u001b[0m | \u001b[0m 1.409   \u001b[0m | \u001b[0m 0.3513  \u001b[0m |\n",
            "0.014047289990137426 0.32037752964274446 0.02341992066698382\n"
          ]
        },
        {
          "output_type": "display_data",
          "data": {
            "text/html": [
              "\n",
              "<style>\n",
              "    /* Turns off some styling */\n",
              "    progress {\n",
              "        /* gets rid of default border in Firefox and Opera. */\n",
              "        border: none;\n",
              "        /* Needs to be in here for Safari polyfill so background images work as expected. */\n",
              "        background-size: auto;\n",
              "    }\n",
              "    .progress-bar-interrupted, .progress-bar-interrupted::-webkit-progress-bar {\n",
              "        background: #F44336;\n",
              "    }\n",
              "</style>\n"
            ],
            "text/plain": [
              "<IPython.core.display.HTML object>"
            ]
          },
          "metadata": {}
        },
        {
          "output_type": "display_data",
          "data": {
            "text/html": [
              ""
            ],
            "text/plain": [
              "<IPython.core.display.HTML object>"
            ]
          },
          "metadata": {}
        },
        {
          "output_type": "display_data",
          "data": {
            "text/html": [
              "\n",
              "<style>\n",
              "    /* Turns off some styling */\n",
              "    progress {\n",
              "        /* gets rid of default border in Firefox and Opera. */\n",
              "        border: none;\n",
              "        /* Needs to be in here for Safari polyfill so background images work as expected. */\n",
              "        background-size: auto;\n",
              "    }\n",
              "    .progress-bar-interrupted, .progress-bar-interrupted::-webkit-progress-bar {\n",
              "        background: #F44336;\n",
              "    }\n",
              "</style>\n"
            ],
            "text/plain": [
              "<IPython.core.display.HTML object>"
            ]
          },
          "metadata": {}
        },
        {
          "output_type": "display_data",
          "data": {
            "text/html": [
              ""
            ],
            "text/plain": [
              "<IPython.core.display.HTML object>"
            ]
          },
          "metadata": {}
        },
        {
          "output_type": "stream",
          "name": "stdout",
          "text": [
            "| \u001b[0m 3       \u001b[0m | \u001b[0m 0.7755  \u001b[0m | \u001b[0m 0.02342 \u001b[0m | \u001b[0m 150.6   \u001b[0m | \u001b[0m 475.6   \u001b[0m | \u001b[0m 1.206e+0\u001b[0m | \u001b[0m 0.01405 \u001b[0m | \u001b[0m 1.396   \u001b[0m | \u001b[0m 0.3204  \u001b[0m |\n",
            "0.0894617202837497 0.016006291379859792 0.4844481721025048\n"
          ]
        },
        {
          "output_type": "display_data",
          "data": {
            "text/html": [
              "\n",
              "<style>\n",
              "    /* Turns off some styling */\n",
              "    progress {\n",
              "        /* gets rid of default border in Firefox and Opera. */\n",
              "        border: none;\n",
              "        /* Needs to be in here for Safari polyfill so background images work as expected. */\n",
              "        background-size: auto;\n",
              "    }\n",
              "    .progress-bar-interrupted, .progress-bar-interrupted::-webkit-progress-bar {\n",
              "        background: #F44336;\n",
              "    }\n",
              "</style>\n"
            ],
            "text/plain": [
              "<IPython.core.display.HTML object>"
            ]
          },
          "metadata": {}
        },
        {
          "output_type": "display_data",
          "data": {
            "text/html": [
              ""
            ],
            "text/plain": [
              "<IPython.core.display.HTML object>"
            ]
          },
          "metadata": {}
        },
        {
          "output_type": "display_data",
          "data": {
            "text/html": [
              "\n",
              "<style>\n",
              "    /* Turns off some styling */\n",
              "    progress {\n",
              "        /* gets rid of default border in Firefox and Opera. */\n",
              "        border: none;\n",
              "        /* Needs to be in here for Safari polyfill so background images work as expected. */\n",
              "        background-size: auto;\n",
              "    }\n",
              "    .progress-bar-interrupted, .progress-bar-interrupted::-webkit-progress-bar {\n",
              "        background: #F44336;\n",
              "    }\n",
              "</style>\n"
            ],
            "text/plain": [
              "<IPython.core.display.HTML object>"
            ]
          },
          "metadata": {}
        },
        {
          "output_type": "display_data",
          "data": {
            "text/html": [
              ""
            ],
            "text/plain": [
              "<IPython.core.display.HTML object>"
            ]
          },
          "metadata": {}
        },
        {
          "output_type": "stream",
          "name": "stdout",
          "text": [
            "| \u001b[0m 4       \u001b[0m | \u001b[0m 0.758   \u001b[0m | \u001b[0m 0.4844  \u001b[0m | \u001b[0m 97.01   \u001b[0m | \u001b[0m 723.1   \u001b[0m | \u001b[0m 1.778e+0\u001b[0m | \u001b[0m 0.08946 \u001b[0m | \u001b[0m 1.17    \u001b[0m | \u001b[0m 0.01601 \u001b[0m |\n",
            "0.0957893741197487 0.27687409473460917 0.09321690558663875\n"
          ]
        },
        {
          "output_type": "display_data",
          "data": {
            "text/html": [
              "\n",
              "<style>\n",
              "    /* Turns off some styling */\n",
              "    progress {\n",
              "        /* gets rid of default border in Firefox and Opera. */\n",
              "        border: none;\n",
              "        /* Needs to be in here for Safari polyfill so background images work as expected. */\n",
              "        background-size: auto;\n",
              "    }\n",
              "    .progress-bar-interrupted, .progress-bar-interrupted::-webkit-progress-bar {\n",
              "        background: #F44336;\n",
              "    }\n",
              "</style>\n"
            ],
            "text/plain": [
              "<IPython.core.display.HTML object>"
            ]
          },
          "metadata": {}
        },
        {
          "output_type": "display_data",
          "data": {
            "text/html": [
              ""
            ],
            "text/plain": [
              "<IPython.core.display.HTML object>"
            ]
          },
          "metadata": {}
        },
        {
          "output_type": "display_data",
          "data": {
            "text/html": [
              "\n",
              "<style>\n",
              "    /* Turns off some styling */\n",
              "    progress {\n",
              "        /* gets rid of default border in Firefox and Opera. */\n",
              "        border: none;\n",
              "        /* Needs to be in here for Safari polyfill so background images work as expected. */\n",
              "        background-size: auto;\n",
              "    }\n",
              "    .progress-bar-interrupted, .progress-bar-interrupted::-webkit-progress-bar {\n",
              "        background: #F44336;\n",
              "    }\n",
              "</style>\n"
            ],
            "text/plain": [
              "<IPython.core.display.HTML object>"
            ]
          },
          "metadata": {}
        },
        {
          "output_type": "display_data",
          "data": {
            "text/html": [
              ""
            ],
            "text/plain": [
              "<IPython.core.display.HTML object>"
            ]
          },
          "metadata": {}
        },
        {
          "output_type": "stream",
          "name": "stdout",
          "text": [
            "| \u001b[0m 5       \u001b[0m | \u001b[0m 0.757   \u001b[0m | \u001b[0m 0.09322 \u001b[0m | \u001b[0m 181.7   \u001b[0m | \u001b[0m 188.5   \u001b[0m | \u001b[0m 958.0   \u001b[0m | \u001b[0m 0.09579 \u001b[0m | \u001b[0m 2.066   \u001b[0m | \u001b[0m 0.2769  \u001b[0m |\n",
            "0.09979808009825568 0.018916516025050015 0.36477578863998344\n"
          ]
        },
        {
          "output_type": "display_data",
          "data": {
            "text/html": [
              "\n",
              "<style>\n",
              "    /* Turns off some styling */\n",
              "    progress {\n",
              "        /* gets rid of default border in Firefox and Opera. */\n",
              "        border: none;\n",
              "        /* Needs to be in here for Safari polyfill so background images work as expected. */\n",
              "        background-size: auto;\n",
              "    }\n",
              "    .progress-bar-interrupted, .progress-bar-interrupted::-webkit-progress-bar {\n",
              "        background: #F44336;\n",
              "    }\n",
              "</style>\n"
            ],
            "text/plain": [
              "<IPython.core.display.HTML object>"
            ]
          },
          "metadata": {}
        },
        {
          "output_type": "display_data",
          "data": {
            "text/html": [
              ""
            ],
            "text/plain": [
              "<IPython.core.display.HTML object>"
            ]
          },
          "metadata": {}
        },
        {
          "output_type": "display_data",
          "data": {
            "text/html": [
              "\n",
              "<style>\n",
              "    /* Turns off some styling */\n",
              "    progress {\n",
              "        /* gets rid of default border in Firefox and Opera. */\n",
              "        border: none;\n",
              "        /* Needs to be in here for Safari polyfill so background images work as expected. */\n",
              "        background-size: auto;\n",
              "    }\n",
              "    .progress-bar-interrupted, .progress-bar-interrupted::-webkit-progress-bar {\n",
              "        background: #F44336;\n",
              "    }\n",
              "</style>\n"
            ],
            "text/plain": [
              "<IPython.core.display.HTML object>"
            ]
          },
          "metadata": {}
        },
        {
          "output_type": "display_data",
          "data": {
            "text/html": [
              ""
            ],
            "text/plain": [
              "<IPython.core.display.HTML object>"
            ]
          },
          "metadata": {}
        },
        {
          "output_type": "stream",
          "name": "stdout",
          "text": [
            "| \u001b[0m 6       \u001b[0m | \u001b[0m 0.757   \u001b[0m | \u001b[0m 0.3648  \u001b[0m | \u001b[0m 160.9   \u001b[0m | \u001b[0m 483.1   \u001b[0m | \u001b[0m 1.197e+0\u001b[0m | \u001b[0m 0.0998  \u001b[0m | \u001b[0m 2.64    \u001b[0m | \u001b[0m 0.01892 \u001b[0m |\n",
            "0.06871704593431362 0.08108907855876547 0.38494126892841346\n"
          ]
        },
        {
          "output_type": "display_data",
          "data": {
            "text/html": [
              "\n",
              "<style>\n",
              "    /* Turns off some styling */\n",
              "    progress {\n",
              "        /* gets rid of default border in Firefox and Opera. */\n",
              "        border: none;\n",
              "        /* Needs to be in here for Safari polyfill so background images work as expected. */\n",
              "        background-size: auto;\n",
              "    }\n",
              "    .progress-bar-interrupted, .progress-bar-interrupted::-webkit-progress-bar {\n",
              "        background: #F44336;\n",
              "    }\n",
              "</style>\n"
            ],
            "text/plain": [
              "<IPython.core.display.HTML object>"
            ]
          },
          "metadata": {}
        },
        {
          "output_type": "display_data",
          "data": {
            "text/html": [
              ""
            ],
            "text/plain": [
              "<IPython.core.display.HTML object>"
            ]
          },
          "metadata": {}
        },
        {
          "output_type": "display_data",
          "data": {
            "text/html": [
              "\n",
              "<style>\n",
              "    /* Turns off some styling */\n",
              "    progress {\n",
              "        /* gets rid of default border in Firefox and Opera. */\n",
              "        border: none;\n",
              "        /* Needs to be in here for Safari polyfill so background images work as expected. */\n",
              "        background-size: auto;\n",
              "    }\n",
              "    .progress-bar-interrupted, .progress-bar-interrupted::-webkit-progress-bar {\n",
              "        background: #F44336;\n",
              "    }\n",
              "</style>\n"
            ],
            "text/plain": [
              "<IPython.core.display.HTML object>"
            ]
          },
          "metadata": {}
        },
        {
          "output_type": "display_data",
          "data": {
            "text/html": [
              ""
            ],
            "text/plain": [
              "<IPython.core.display.HTML object>"
            ]
          },
          "metadata": {}
        },
        {
          "output_type": "stream",
          "name": "stdout",
          "text": [
            "| \u001b[0m 7       \u001b[0m | \u001b[0m 0.774   \u001b[0m | \u001b[0m 0.3849  \u001b[0m | \u001b[0m 66.43   \u001b[0m | \u001b[0m 569.8   \u001b[0m | \u001b[0m 1.583e+0\u001b[0m | \u001b[0m 0.06872 \u001b[0m | \u001b[0m 1.266   \u001b[0m | \u001b[0m 0.08109 \u001b[0m |\n",
            "0.057910440131609765 0.16129406478624328 0.4828208474809104\n"
          ]
        },
        {
          "output_type": "display_data",
          "data": {
            "text/html": [
              "\n",
              "<style>\n",
              "    /* Turns off some styling */\n",
              "    progress {\n",
              "        /* gets rid of default border in Firefox and Opera. */\n",
              "        border: none;\n",
              "        /* Needs to be in here for Safari polyfill so background images work as expected. */\n",
              "        background-size: auto;\n",
              "    }\n",
              "    .progress-bar-interrupted, .progress-bar-interrupted::-webkit-progress-bar {\n",
              "        background: #F44336;\n",
              "    }\n",
              "</style>\n"
            ],
            "text/plain": [
              "<IPython.core.display.HTML object>"
            ]
          },
          "metadata": {}
        },
        {
          "output_type": "display_data",
          "data": {
            "text/html": [
              ""
            ],
            "text/plain": [
              "<IPython.core.display.HTML object>"
            ]
          },
          "metadata": {}
        },
        {
          "output_type": "display_data",
          "data": {
            "text/html": [
              "\n",
              "<style>\n",
              "    /* Turns off some styling */\n",
              "    progress {\n",
              "        /* gets rid of default border in Firefox and Opera. */\n",
              "        border: none;\n",
              "        /* Needs to be in here for Safari polyfill so background images work as expected. */\n",
              "        background-size: auto;\n",
              "    }\n",
              "    .progress-bar-interrupted, .progress-bar-interrupted::-webkit-progress-bar {\n",
              "        background: #F44336;\n",
              "    }\n",
              "</style>\n"
            ],
            "text/plain": [
              "<IPython.core.display.HTML object>"
            ]
          },
          "metadata": {}
        },
        {
          "output_type": "display_data",
          "data": {
            "text/html": [
              ""
            ],
            "text/plain": [
              "<IPython.core.display.HTML object>"
            ]
          },
          "metadata": {}
        },
        {
          "output_type": "stream",
          "name": "stdout",
          "text": [
            "| \u001b[0m 8       \u001b[0m | \u001b[0m 0.773   \u001b[0m | \u001b[0m 0.4828  \u001b[0m | \u001b[0m 59.94   \u001b[0m | \u001b[0m 147.0   \u001b[0m | \u001b[0m 1.301e+0\u001b[0m | \u001b[0m 0.05791 \u001b[0m | \u001b[0m 2.722   \u001b[0m | \u001b[0m 0.1613  \u001b[0m |\n",
            "0.06825546229572553 0.38961448701474927 0.16830582168120725\n"
          ]
        },
        {
          "output_type": "display_data",
          "data": {
            "text/html": [
              "\n",
              "<style>\n",
              "    /* Turns off some styling */\n",
              "    progress {\n",
              "        /* gets rid of default border in Firefox and Opera. */\n",
              "        border: none;\n",
              "        /* Needs to be in here for Safari polyfill so background images work as expected. */\n",
              "        background-size: auto;\n",
              "    }\n",
              "    .progress-bar-interrupted, .progress-bar-interrupted::-webkit-progress-bar {\n",
              "        background: #F44336;\n",
              "    }\n",
              "</style>\n"
            ],
            "text/plain": [
              "<IPython.core.display.HTML object>"
            ]
          },
          "metadata": {}
        },
        {
          "output_type": "display_data",
          "data": {
            "text/html": [
              ""
            ],
            "text/plain": [
              "<IPython.core.display.HTML object>"
            ]
          },
          "metadata": {}
        },
        {
          "output_type": "display_data",
          "data": {
            "text/html": [
              "\n",
              "<style>\n",
              "    /* Turns off some styling */\n",
              "    progress {\n",
              "        /* gets rid of default border in Firefox and Opera. */\n",
              "        border: none;\n",
              "        /* Needs to be in here for Safari polyfill so background images work as expected. */\n",
              "        background-size: auto;\n",
              "    }\n",
              "    .progress-bar-interrupted, .progress-bar-interrupted::-webkit-progress-bar {\n",
              "        background: #F44336;\n",
              "    }\n",
              "</style>\n"
            ],
            "text/plain": [
              "<IPython.core.display.HTML object>"
            ]
          },
          "metadata": {}
        },
        {
          "output_type": "display_data",
          "data": {
            "text/html": [
              ""
            ],
            "text/plain": [
              "<IPython.core.display.HTML object>"
            ]
          },
          "metadata": {}
        },
        {
          "output_type": "stream",
          "name": "stdout",
          "text": [
            "| \u001b[0m 9       \u001b[0m | \u001b[0m 0.767   \u001b[0m | \u001b[0m 0.1683  \u001b[0m | \u001b[0m 156.9   \u001b[0m | \u001b[0m 531.9   \u001b[0m | \u001b[0m 248.2   \u001b[0m | \u001b[0m 0.06826 \u001b[0m | \u001b[0m 2.559   \u001b[0m | \u001b[0m 0.3896  \u001b[0m |\n",
            "0.0002796637130848967 0.0448370970701597 0.22630281827604312\n"
          ]
        },
        {
          "output_type": "display_data",
          "data": {
            "text/html": [
              "\n",
              "<style>\n",
              "    /* Turns off some styling */\n",
              "    progress {\n",
              "        /* gets rid of default border in Firefox and Opera. */\n",
              "        border: none;\n",
              "        /* Needs to be in here for Safari polyfill so background images work as expected. */\n",
              "        background-size: auto;\n",
              "    }\n",
              "    .progress-bar-interrupted, .progress-bar-interrupted::-webkit-progress-bar {\n",
              "        background: #F44336;\n",
              "    }\n",
              "</style>\n"
            ],
            "text/plain": [
              "<IPython.core.display.HTML object>"
            ]
          },
          "metadata": {}
        },
        {
          "output_type": "display_data",
          "data": {
            "text/html": [
              ""
            ],
            "text/plain": [
              "<IPython.core.display.HTML object>"
            ]
          },
          "metadata": {}
        },
        {
          "output_type": "display_data",
          "data": {
            "text/html": [
              "\n",
              "<style>\n",
              "    /* Turns off some styling */\n",
              "    progress {\n",
              "        /* gets rid of default border in Firefox and Opera. */\n",
              "        border: none;\n",
              "        /* Needs to be in here for Safari polyfill so background images work as expected. */\n",
              "        background-size: auto;\n",
              "    }\n",
              "    .progress-bar-interrupted, .progress-bar-interrupted::-webkit-progress-bar {\n",
              "        background: #F44336;\n",
              "    }\n",
              "</style>\n"
            ],
            "text/plain": [
              "<IPython.core.display.HTML object>"
            ]
          },
          "metadata": {}
        },
        {
          "output_type": "display_data",
          "data": {
            "text/html": [
              ""
            ],
            "text/plain": [
              "<IPython.core.display.HTML object>"
            ]
          },
          "metadata": {}
        },
        {
          "output_type": "stream",
          "name": "stdout",
          "text": [
            "| \u001b[0m 10      \u001b[0m | \u001b[0m 0.733   \u001b[0m | \u001b[0m 0.2263  \u001b[0m | \u001b[0m 126.3   \u001b[0m | \u001b[0m 625.4   \u001b[0m | \u001b[0m 1.711e+0\u001b[0m | \u001b[0m 0.000279\u001b[0m | \u001b[0m 2.636   \u001b[0m | \u001b[0m 0.04484 \u001b[0m |\n",
            "0.06552505896942336 0.08103743930918762 0.36112697236765107\n"
          ]
        },
        {
          "output_type": "display_data",
          "data": {
            "text/html": [
              "\n",
              "<style>\n",
              "    /* Turns off some styling */\n",
              "    progress {\n",
              "        /* gets rid of default border in Firefox and Opera. */\n",
              "        border: none;\n",
              "        /* Needs to be in here for Safari polyfill so background images work as expected. */\n",
              "        background-size: auto;\n",
              "    }\n",
              "    .progress-bar-interrupted, .progress-bar-interrupted::-webkit-progress-bar {\n",
              "        background: #F44336;\n",
              "    }\n",
              "</style>\n"
            ],
            "text/plain": [
              "<IPython.core.display.HTML object>"
            ]
          },
          "metadata": {}
        },
        {
          "output_type": "display_data",
          "data": {
            "text/html": [
              ""
            ],
            "text/plain": [
              "<IPython.core.display.HTML object>"
            ]
          },
          "metadata": {}
        },
        {
          "output_type": "display_data",
          "data": {
            "text/html": [
              "\n",
              "<style>\n",
              "    /* Turns off some styling */\n",
              "    progress {\n",
              "        /* gets rid of default border in Firefox and Opera. */\n",
              "        border: none;\n",
              "        /* Needs to be in here for Safari polyfill so background images work as expected. */\n",
              "        background-size: auto;\n",
              "    }\n",
              "    .progress-bar-interrupted, .progress-bar-interrupted::-webkit-progress-bar {\n",
              "        background: #F44336;\n",
              "    }\n",
              "</style>\n"
            ],
            "text/plain": [
              "<IPython.core.display.HTML object>"
            ]
          },
          "metadata": {}
        },
        {
          "output_type": "display_data",
          "data": {
            "text/html": [
              ""
            ],
            "text/plain": [
              "<IPython.core.display.HTML object>"
            ]
          },
          "metadata": {}
        },
        {
          "output_type": "stream",
          "name": "stdout",
          "text": [
            "| \u001b[0m 11      \u001b[0m | \u001b[0m 0.761   \u001b[0m | \u001b[0m 0.3611  \u001b[0m | \u001b[0m 147.7   \u001b[0m | \u001b[0m 194.1   \u001b[0m | \u001b[0m 356.8   \u001b[0m | \u001b[0m 0.06553 \u001b[0m | \u001b[0m 2.663   \u001b[0m | \u001b[0m 0.08104 \u001b[0m |\n",
            "0.0005465734116890944 0.17802142541867974 0.46329843491833883\n"
          ]
        },
        {
          "output_type": "display_data",
          "data": {
            "text/html": [
              "\n",
              "<style>\n",
              "    /* Turns off some styling */\n",
              "    progress {\n",
              "        /* gets rid of default border in Firefox and Opera. */\n",
              "        border: none;\n",
              "        /* Needs to be in here for Safari polyfill so background images work as expected. */\n",
              "        background-size: auto;\n",
              "    }\n",
              "    .progress-bar-interrupted, .progress-bar-interrupted::-webkit-progress-bar {\n",
              "        background: #F44336;\n",
              "    }\n",
              "</style>\n"
            ],
            "text/plain": [
              "<IPython.core.display.HTML object>"
            ]
          },
          "metadata": {}
        },
        {
          "output_type": "display_data",
          "data": {
            "text/html": [
              ""
            ],
            "text/plain": [
              "<IPython.core.display.HTML object>"
            ]
          },
          "metadata": {}
        },
        {
          "output_type": "display_data",
          "data": {
            "text/html": [
              "\n",
              "<style>\n",
              "    /* Turns off some styling */\n",
              "    progress {\n",
              "        /* gets rid of default border in Firefox and Opera. */\n",
              "        border: none;\n",
              "        /* Needs to be in here for Safari polyfill so background images work as expected. */\n",
              "        background-size: auto;\n",
              "    }\n",
              "    .progress-bar-interrupted, .progress-bar-interrupted::-webkit-progress-bar {\n",
              "        background: #F44336;\n",
              "    }\n",
              "</style>\n"
            ],
            "text/plain": [
              "<IPython.core.display.HTML object>"
            ]
          },
          "metadata": {}
        },
        {
          "output_type": "display_data",
          "data": {
            "text/html": [
              ""
            ],
            "text/plain": [
              "<IPython.core.display.HTML object>"
            ]
          },
          "metadata": {}
        },
        {
          "output_type": "stream",
          "name": "stdout",
          "text": [
            "| \u001b[0m 12      \u001b[0m | \u001b[0m 0.7595  \u001b[0m | \u001b[0m 0.4633  \u001b[0m | \u001b[0m 175.7   \u001b[0m | \u001b[0m 106.8   \u001b[0m | \u001b[0m 1.81e+03\u001b[0m | \u001b[0m 0.000546\u001b[0m | \u001b[0m 2.017   \u001b[0m | \u001b[0m 0.178   \u001b[0m |\n",
            "0.0404514572663943 0.31234441498440596 0.4911455437346324\n"
          ]
        },
        {
          "output_type": "display_data",
          "data": {
            "text/html": [
              "\n",
              "<style>\n",
              "    /* Turns off some styling */\n",
              "    progress {\n",
              "        /* gets rid of default border in Firefox and Opera. */\n",
              "        border: none;\n",
              "        /* Needs to be in here for Safari polyfill so background images work as expected. */\n",
              "        background-size: auto;\n",
              "    }\n",
              "    .progress-bar-interrupted, .progress-bar-interrupted::-webkit-progress-bar {\n",
              "        background: #F44336;\n",
              "    }\n",
              "</style>\n"
            ],
            "text/plain": [
              "<IPython.core.display.HTML object>"
            ]
          },
          "metadata": {}
        },
        {
          "output_type": "display_data",
          "data": {
            "text/html": [
              ""
            ],
            "text/plain": [
              "<IPython.core.display.HTML object>"
            ]
          },
          "metadata": {}
        },
        {
          "output_type": "display_data",
          "data": {
            "text/html": [
              "\n",
              "<style>\n",
              "    /* Turns off some styling */\n",
              "    progress {\n",
              "        /* gets rid of default border in Firefox and Opera. */\n",
              "        border: none;\n",
              "        /* Needs to be in here for Safari polyfill so background images work as expected. */\n",
              "        background-size: auto;\n",
              "    }\n",
              "    .progress-bar-interrupted, .progress-bar-interrupted::-webkit-progress-bar {\n",
              "        background: #F44336;\n",
              "    }\n",
              "</style>\n"
            ],
            "text/plain": [
              "<IPython.core.display.HTML object>"
            ]
          },
          "metadata": {}
        },
        {
          "output_type": "display_data",
          "data": {
            "text/html": [
              ""
            ],
            "text/plain": [
              "<IPython.core.display.HTML object>"
            ]
          },
          "metadata": {}
        },
        {
          "output_type": "stream",
          "name": "stdout",
          "text": [
            "| \u001b[0m 13      \u001b[0m | \u001b[0m 0.748   \u001b[0m | \u001b[0m 0.4911  \u001b[0m | \u001b[0m 79.71   \u001b[0m | \u001b[0m 936.3   \u001b[0m | \u001b[0m 947.6   \u001b[0m | \u001b[0m 0.04045 \u001b[0m | \u001b[0m 1.032   \u001b[0m | \u001b[0m 0.3123  \u001b[0m |\n",
            "0.029415674202259722 0.005868544291961274 0.31814795484259445\n"
          ]
        },
        {
          "output_type": "display_data",
          "data": {
            "text/html": [
              "\n",
              "<style>\n",
              "    /* Turns off some styling */\n",
              "    progress {\n",
              "        /* gets rid of default border in Firefox and Opera. */\n",
              "        border: none;\n",
              "        /* Needs to be in here for Safari polyfill so background images work as expected. */\n",
              "        background-size: auto;\n",
              "    }\n",
              "    .progress-bar-interrupted, .progress-bar-interrupted::-webkit-progress-bar {\n",
              "        background: #F44336;\n",
              "    }\n",
              "</style>\n"
            ],
            "text/plain": [
              "<IPython.core.display.HTML object>"
            ]
          },
          "metadata": {}
        },
        {
          "output_type": "display_data",
          "data": {
            "text/html": [
              ""
            ],
            "text/plain": [
              "<IPython.core.display.HTML object>"
            ]
          },
          "metadata": {}
        },
        {
          "output_type": "display_data",
          "data": {
            "text/html": [
              "\n",
              "<style>\n",
              "    /* Turns off some styling */\n",
              "    progress {\n",
              "        /* gets rid of default border in Firefox and Opera. */\n",
              "        border: none;\n",
              "        /* Needs to be in here for Safari polyfill so background images work as expected. */\n",
              "        background-size: auto;\n",
              "    }\n",
              "    .progress-bar-interrupted, .progress-bar-interrupted::-webkit-progress-bar {\n",
              "        background: #F44336;\n",
              "    }\n",
              "</style>\n"
            ],
            "text/plain": [
              "<IPython.core.display.HTML object>"
            ]
          },
          "metadata": {}
        },
        {
          "output_type": "display_data",
          "data": {
            "text/html": [
              ""
            ],
            "text/plain": [
              "<IPython.core.display.HTML object>"
            ]
          },
          "metadata": {}
        },
        {
          "output_type": "stream",
          "name": "stdout",
          "text": [
            "| \u001b[95m 14      \u001b[0m | \u001b[95m 0.7935  \u001b[0m | \u001b[95m 0.3181  \u001b[0m | \u001b[95m 174.3   \u001b[0m | \u001b[95m 660.7   \u001b[0m | \u001b[95m 794.0   \u001b[0m | \u001b[95m 0.02942 \u001b[0m | \u001b[95m 1.182   \u001b[0m | \u001b[95m 0.005869\u001b[0m |\n",
            "0.09277135723767846 0.23871276504022906 0.23800477408617662\n"
          ]
        },
        {
          "output_type": "display_data",
          "data": {
            "text/html": [
              "\n",
              "<style>\n",
              "    /* Turns off some styling */\n",
              "    progress {\n",
              "        /* gets rid of default border in Firefox and Opera. */\n",
              "        border: none;\n",
              "        /* Needs to be in here for Safari polyfill so background images work as expected. */\n",
              "        background-size: auto;\n",
              "    }\n",
              "    .progress-bar-interrupted, .progress-bar-interrupted::-webkit-progress-bar {\n",
              "        background: #F44336;\n",
              "    }\n",
              "</style>\n"
            ],
            "text/plain": [
              "<IPython.core.display.HTML object>"
            ]
          },
          "metadata": {}
        },
        {
          "output_type": "display_data",
          "data": {
            "text/html": [
              ""
            ],
            "text/plain": [
              "<IPython.core.display.HTML object>"
            ]
          },
          "metadata": {}
        },
        {
          "output_type": "display_data",
          "data": {
            "text/html": [
              "\n",
              "<style>\n",
              "    /* Turns off some styling */\n",
              "    progress {\n",
              "        /* gets rid of default border in Firefox and Opera. */\n",
              "        border: none;\n",
              "        /* Needs to be in here for Safari polyfill so background images work as expected. */\n",
              "        background-size: auto;\n",
              "    }\n",
              "    .progress-bar-interrupted, .progress-bar-interrupted::-webkit-progress-bar {\n",
              "        background: #F44336;\n",
              "    }\n",
              "</style>\n"
            ],
            "text/plain": [
              "<IPython.core.display.HTML object>"
            ]
          },
          "metadata": {}
        },
        {
          "output_type": "display_data",
          "data": {
            "text/html": [
              ""
            ],
            "text/plain": [
              "<IPython.core.display.HTML object>"
            ]
          },
          "metadata": {}
        },
        {
          "output_type": "stream",
          "name": "stdout",
          "text": [
            "| \u001b[0m 15      \u001b[0m | \u001b[0m 0.7515  \u001b[0m | \u001b[0m 0.238   \u001b[0m | \u001b[0m 85.34   \u001b[0m | \u001b[0m 272.8   \u001b[0m | \u001b[0m 374.2   \u001b[0m | \u001b[0m 0.09277 \u001b[0m | \u001b[0m 1.858   \u001b[0m | \u001b[0m 0.2387  \u001b[0m |\n",
            "0.08587444516476887 0.28296146998636684 0.41475477052068255\n"
          ]
        },
        {
          "output_type": "display_data",
          "data": {
            "text/html": [
              "\n",
              "<style>\n",
              "    /* Turns off some styling */\n",
              "    progress {\n",
              "        /* gets rid of default border in Firefox and Opera. */\n",
              "        border: none;\n",
              "        /* Needs to be in here for Safari polyfill so background images work as expected. */\n",
              "        background-size: auto;\n",
              "    }\n",
              "    .progress-bar-interrupted, .progress-bar-interrupted::-webkit-progress-bar {\n",
              "        background: #F44336;\n",
              "    }\n",
              "</style>\n"
            ],
            "text/plain": [
              "<IPython.core.display.HTML object>"
            ]
          },
          "metadata": {}
        },
        {
          "output_type": "display_data",
          "data": {
            "text/html": [
              ""
            ],
            "text/plain": [
              "<IPython.core.display.HTML object>"
            ]
          },
          "metadata": {}
        },
        {
          "output_type": "display_data",
          "data": {
            "text/html": [
              "\n",
              "<style>\n",
              "    /* Turns off some styling */\n",
              "    progress {\n",
              "        /* gets rid of default border in Firefox and Opera. */\n",
              "        border: none;\n",
              "        /* Needs to be in here for Safari polyfill so background images work as expected. */\n",
              "        background-size: auto;\n",
              "    }\n",
              "    .progress-bar-interrupted, .progress-bar-interrupted::-webkit-progress-bar {\n",
              "        background: #F44336;\n",
              "    }\n",
              "</style>\n"
            ],
            "text/plain": [
              "<IPython.core.display.HTML object>"
            ]
          },
          "metadata": {}
        },
        {
          "output_type": "display_data",
          "data": {
            "text/html": [
              ""
            ],
            "text/plain": [
              "<IPython.core.display.HTML object>"
            ]
          },
          "metadata": {}
        },
        {
          "output_type": "stream",
          "name": "stdout",
          "text": [
            "| \u001b[0m 16      \u001b[0m | \u001b[0m 0.7565  \u001b[0m | \u001b[0m 0.4148  \u001b[0m | \u001b[0m 166.6   \u001b[0m | \u001b[0m 745.6   \u001b[0m | \u001b[0m 1.552e+0\u001b[0m | \u001b[0m 0.08587 \u001b[0m | \u001b[0m 1.014   \u001b[0m | \u001b[0m 0.283   \u001b[0m |\n",
            "0.05980585297097031 0.13840005586279047 0.4156342008016683\n"
          ]
        },
        {
          "output_type": "display_data",
          "data": {
            "text/html": [
              "\n",
              "<style>\n",
              "    /* Turns off some styling */\n",
              "    progress {\n",
              "        /* gets rid of default border in Firefox and Opera. */\n",
              "        border: none;\n",
              "        /* Needs to be in here for Safari polyfill so background images work as expected. */\n",
              "        background-size: auto;\n",
              "    }\n",
              "    .progress-bar-interrupted, .progress-bar-interrupted::-webkit-progress-bar {\n",
              "        background: #F44336;\n",
              "    }\n",
              "</style>\n"
            ],
            "text/plain": [
              "<IPython.core.display.HTML object>"
            ]
          },
          "metadata": {}
        },
        {
          "output_type": "display_data",
          "data": {
            "text/html": [
              ""
            ],
            "text/plain": [
              "<IPython.core.display.HTML object>"
            ]
          },
          "metadata": {}
        },
        {
          "output_type": "display_data",
          "data": {
            "text/html": [
              "\n",
              "<style>\n",
              "    /* Turns off some styling */\n",
              "    progress {\n",
              "        /* gets rid of default border in Firefox and Opera. */\n",
              "        border: none;\n",
              "        /* Needs to be in here for Safari polyfill so background images work as expected. */\n",
              "        background-size: auto;\n",
              "    }\n",
              "    .progress-bar-interrupted, .progress-bar-interrupted::-webkit-progress-bar {\n",
              "        background: #F44336;\n",
              "    }\n",
              "</style>\n"
            ],
            "text/plain": [
              "<IPython.core.display.HTML object>"
            ]
          },
          "metadata": {}
        },
        {
          "output_type": "display_data",
          "data": {
            "text/html": [
              ""
            ],
            "text/plain": [
              "<IPython.core.display.HTML object>"
            ]
          },
          "metadata": {}
        },
        {
          "output_type": "stream",
          "name": "stdout",
          "text": [
            "| \u001b[0m 17      \u001b[0m | \u001b[0m 0.7495  \u001b[0m | \u001b[0m 0.4156  \u001b[0m | \u001b[0m 138.7   \u001b[0m | \u001b[0m 652.3   \u001b[0m | \u001b[0m 1.189e+0\u001b[0m | \u001b[0m 0.05981 \u001b[0m | \u001b[0m 2.277   \u001b[0m | \u001b[0m 0.1384  \u001b[0m |\n",
            "0.01267543972161491 0.031847546491466955 0.07713340655002433\n"
          ]
        },
        {
          "output_type": "display_data",
          "data": {
            "text/html": [
              "\n",
              "<style>\n",
              "    /* Turns off some styling */\n",
              "    progress {\n",
              "        /* gets rid of default border in Firefox and Opera. */\n",
              "        border: none;\n",
              "        /* Needs to be in here for Safari polyfill so background images work as expected. */\n",
              "        background-size: auto;\n",
              "    }\n",
              "    .progress-bar-interrupted, .progress-bar-interrupted::-webkit-progress-bar {\n",
              "        background: #F44336;\n",
              "    }\n",
              "</style>\n"
            ],
            "text/plain": [
              "<IPython.core.display.HTML object>"
            ]
          },
          "metadata": {}
        },
        {
          "output_type": "display_data",
          "data": {
            "text/html": [
              ""
            ],
            "text/plain": [
              "<IPython.core.display.HTML object>"
            ]
          },
          "metadata": {}
        },
        {
          "output_type": "display_data",
          "data": {
            "text/html": [
              "\n",
              "<style>\n",
              "    /* Turns off some styling */\n",
              "    progress {\n",
              "        /* gets rid of default border in Firefox and Opera. */\n",
              "        border: none;\n",
              "        /* Needs to be in here for Safari polyfill so background images work as expected. */\n",
              "        background-size: auto;\n",
              "    }\n",
              "    .progress-bar-interrupted, .progress-bar-interrupted::-webkit-progress-bar {\n",
              "        background: #F44336;\n",
              "    }\n",
              "</style>\n"
            ],
            "text/plain": [
              "<IPython.core.display.HTML object>"
            ]
          },
          "metadata": {}
        },
        {
          "output_type": "display_data",
          "data": {
            "text/html": [
              ""
            ],
            "text/plain": [
              "<IPython.core.display.HTML object>"
            ]
          },
          "metadata": {}
        },
        {
          "output_type": "stream",
          "name": "stdout",
          "text": [
            "| \u001b[0m 18      \u001b[0m | \u001b[0m 0.7605  \u001b[0m | \u001b[0m 0.07713 \u001b[0m | \u001b[0m 199.0   \u001b[0m | \u001b[0m 370.6   \u001b[0m | \u001b[0m 1.418e+0\u001b[0m | \u001b[0m 0.01268 \u001b[0m | \u001b[0m 2.443   \u001b[0m | \u001b[0m 0.03185 \u001b[0m |\n",
            "0.03371097825906736 0.24308187833868272 0.30397868846063675\n"
          ]
        },
        {
          "output_type": "display_data",
          "data": {
            "text/html": [
              "\n",
              "<style>\n",
              "    /* Turns off some styling */\n",
              "    progress {\n",
              "        /* gets rid of default border in Firefox and Opera. */\n",
              "        border: none;\n",
              "        /* Needs to be in here for Safari polyfill so background images work as expected. */\n",
              "        background-size: auto;\n",
              "    }\n",
              "    .progress-bar-interrupted, .progress-bar-interrupted::-webkit-progress-bar {\n",
              "        background: #F44336;\n",
              "    }\n",
              "</style>\n"
            ],
            "text/plain": [
              "<IPython.core.display.HTML object>"
            ]
          },
          "metadata": {}
        },
        {
          "output_type": "display_data",
          "data": {
            "text/html": [
              ""
            ],
            "text/plain": [
              "<IPython.core.display.HTML object>"
            ]
          },
          "metadata": {}
        },
        {
          "output_type": "display_data",
          "data": {
            "text/html": [
              "\n",
              "<style>\n",
              "    /* Turns off some styling */\n",
              "    progress {\n",
              "        /* gets rid of default border in Firefox and Opera. */\n",
              "        border: none;\n",
              "        /* Needs to be in here for Safari polyfill so background images work as expected. */\n",
              "        background-size: auto;\n",
              "    }\n",
              "    .progress-bar-interrupted, .progress-bar-interrupted::-webkit-progress-bar {\n",
              "        background: #F44336;\n",
              "    }\n",
              "</style>\n"
            ],
            "text/plain": [
              "<IPython.core.display.HTML object>"
            ]
          },
          "metadata": {}
        },
        {
          "output_type": "display_data",
          "data": {
            "text/html": [
              ""
            ],
            "text/plain": [
              "<IPython.core.display.HTML object>"
            ]
          },
          "metadata": {}
        },
        {
          "output_type": "stream",
          "name": "stdout",
          "text": [
            "| \u001b[0m 19      \u001b[0m | \u001b[0m 0.7715  \u001b[0m | \u001b[0m 0.304   \u001b[0m | \u001b[0m 88.75   \u001b[0m | \u001b[0m 865.5   \u001b[0m | \u001b[0m 1.158e+0\u001b[0m | \u001b[0m 0.03371 \u001b[0m | \u001b[0m 2.742   \u001b[0m | \u001b[0m 0.2431  \u001b[0m |\n",
            "0.06812203079874606 0.15231331799775338 0.019302961235447946\n"
          ]
        },
        {
          "output_type": "display_data",
          "data": {
            "text/html": [
              "\n",
              "<style>\n",
              "    /* Turns off some styling */\n",
              "    progress {\n",
              "        /* gets rid of default border in Firefox and Opera. */\n",
              "        border: none;\n",
              "        /* Needs to be in here for Safari polyfill so background images work as expected. */\n",
              "        background-size: auto;\n",
              "    }\n",
              "    .progress-bar-interrupted, .progress-bar-interrupted::-webkit-progress-bar {\n",
              "        background: #F44336;\n",
              "    }\n",
              "</style>\n"
            ],
            "text/plain": [
              "<IPython.core.display.HTML object>"
            ]
          },
          "metadata": {}
        },
        {
          "output_type": "display_data",
          "data": {
            "text/html": [
              ""
            ],
            "text/plain": [
              "<IPython.core.display.HTML object>"
            ]
          },
          "metadata": {}
        },
        {
          "output_type": "display_data",
          "data": {
            "text/html": [
              "\n",
              "<style>\n",
              "    /* Turns off some styling */\n",
              "    progress {\n",
              "        /* gets rid of default border in Firefox and Opera. */\n",
              "        border: none;\n",
              "        /* Needs to be in here for Safari polyfill so background images work as expected. */\n",
              "        background-size: auto;\n",
              "    }\n",
              "    .progress-bar-interrupted, .progress-bar-interrupted::-webkit-progress-bar {\n",
              "        background: #F44336;\n",
              "    }\n",
              "</style>\n"
            ],
            "text/plain": [
              "<IPython.core.display.HTML object>"
            ]
          },
          "metadata": {}
        },
        {
          "output_type": "display_data",
          "data": {
            "text/html": [
              ""
            ],
            "text/plain": [
              "<IPython.core.display.HTML object>"
            ]
          },
          "metadata": {}
        },
        {
          "output_type": "stream",
          "name": "stdout",
          "text": [
            "| \u001b[0m 20      \u001b[0m | \u001b[0m 0.7495  \u001b[0m | \u001b[0m 0.0193  \u001b[0m | \u001b[0m 179.4   \u001b[0m | \u001b[0m 484.5   \u001b[0m | \u001b[0m 552.1   \u001b[0m | \u001b[0m 0.06812 \u001b[0m | \u001b[0m 1.828   \u001b[0m | \u001b[0m 0.1523  \u001b[0m |\n",
            "0.0901579115596612 0.3257604080789177 0.1262146004249747\n"
          ]
        },
        {
          "output_type": "display_data",
          "data": {
            "text/html": [
              "\n",
              "<style>\n",
              "    /* Turns off some styling */\n",
              "    progress {\n",
              "        /* gets rid of default border in Firefox and Opera. */\n",
              "        border: none;\n",
              "        /* Needs to be in here for Safari polyfill so background images work as expected. */\n",
              "        background-size: auto;\n",
              "    }\n",
              "    .progress-bar-interrupted, .progress-bar-interrupted::-webkit-progress-bar {\n",
              "        background: #F44336;\n",
              "    }\n",
              "</style>\n"
            ],
            "text/plain": [
              "<IPython.core.display.HTML object>"
            ]
          },
          "metadata": {}
        },
        {
          "output_type": "display_data",
          "data": {
            "text/html": [
              ""
            ],
            "text/plain": [
              "<IPython.core.display.HTML object>"
            ]
          },
          "metadata": {}
        },
        {
          "output_type": "display_data",
          "data": {
            "text/html": [
              "\n",
              "<style>\n",
              "    /* Turns off some styling */\n",
              "    progress {\n",
              "        /* gets rid of default border in Firefox and Opera. */\n",
              "        border: none;\n",
              "        /* Needs to be in here for Safari polyfill so background images work as expected. */\n",
              "        background-size: auto;\n",
              "    }\n",
              "    .progress-bar-interrupted, .progress-bar-interrupted::-webkit-progress-bar {\n",
              "        background: #F44336;\n",
              "    }\n",
              "</style>\n"
            ],
            "text/plain": [
              "<IPython.core.display.HTML object>"
            ]
          },
          "metadata": {}
        },
        {
          "output_type": "display_data",
          "data": {
            "text/html": [
              ""
            ],
            "text/plain": [
              "<IPython.core.display.HTML object>"
            ]
          },
          "metadata": {}
        },
        {
          "output_type": "stream",
          "name": "stdout",
          "text": [
            "| \u001b[0m 21      \u001b[0m | \u001b[0m 0.741   \u001b[0m | \u001b[0m 0.1262  \u001b[0m | \u001b[0m 121.4   \u001b[0m | \u001b[0m 354.0   \u001b[0m | \u001b[0m 1.906e+0\u001b[0m | \u001b[0m 0.09016 \u001b[0m | \u001b[0m 2.733   \u001b[0m | \u001b[0m 0.3258  \u001b[0m |\n",
            "0.0068606341422042605 0.2836385486024702 0.2324294141913902\n"
          ]
        },
        {
          "output_type": "display_data",
          "data": {
            "text/html": [
              "\n",
              "<style>\n",
              "    /* Turns off some styling */\n",
              "    progress {\n",
              "        /* gets rid of default border in Firefox and Opera. */\n",
              "        border: none;\n",
              "        /* Needs to be in here for Safari polyfill so background images work as expected. */\n",
              "        background-size: auto;\n",
              "    }\n",
              "    .progress-bar-interrupted, .progress-bar-interrupted::-webkit-progress-bar {\n",
              "        background: #F44336;\n",
              "    }\n",
              "</style>\n"
            ],
            "text/plain": [
              "<IPython.core.display.HTML object>"
            ]
          },
          "metadata": {}
        },
        {
          "output_type": "display_data",
          "data": {
            "text/html": [
              ""
            ],
            "text/plain": [
              "<IPython.core.display.HTML object>"
            ]
          },
          "metadata": {}
        },
        {
          "output_type": "display_data",
          "data": {
            "text/html": [
              "\n",
              "<style>\n",
              "    /* Turns off some styling */\n",
              "    progress {\n",
              "        /* gets rid of default border in Firefox and Opera. */\n",
              "        border: none;\n",
              "        /* Needs to be in here for Safari polyfill so background images work as expected. */\n",
              "        background-size: auto;\n",
              "    }\n",
              "    .progress-bar-interrupted, .progress-bar-interrupted::-webkit-progress-bar {\n",
              "        background: #F44336;\n",
              "    }\n",
              "</style>\n"
            ],
            "text/plain": [
              "<IPython.core.display.HTML object>"
            ]
          },
          "metadata": {}
        },
        {
          "output_type": "display_data",
          "data": {
            "text/html": [
              ""
            ],
            "text/plain": [
              "<IPython.core.display.HTML object>"
            ]
          },
          "metadata": {}
        },
        {
          "output_type": "stream",
          "name": "stdout",
          "text": [
            "| \u001b[0m 22      \u001b[0m | \u001b[0m 0.784   \u001b[0m | \u001b[0m 0.2324  \u001b[0m | \u001b[0m 180.7   \u001b[0m | \u001b[0m 502.4   \u001b[0m | \u001b[0m 353.3   \u001b[0m | \u001b[0m 0.006861\u001b[0m | \u001b[0m 2.457   \u001b[0m | \u001b[0m 0.2836  \u001b[0m |\n",
            "0.09434439277229052 0.21203901509994721 0.13849929353109322\n"
          ]
        },
        {
          "output_type": "display_data",
          "data": {
            "text/html": [
              "\n",
              "<style>\n",
              "    /* Turns off some styling */\n",
              "    progress {\n",
              "        /* gets rid of default border in Firefox and Opera. */\n",
              "        border: none;\n",
              "        /* Needs to be in here for Safari polyfill so background images work as expected. */\n",
              "        background-size: auto;\n",
              "    }\n",
              "    .progress-bar-interrupted, .progress-bar-interrupted::-webkit-progress-bar {\n",
              "        background: #F44336;\n",
              "    }\n",
              "</style>\n"
            ],
            "text/plain": [
              "<IPython.core.display.HTML object>"
            ]
          },
          "metadata": {}
        },
        {
          "output_type": "display_data",
          "data": {
            "text/html": [
              ""
            ],
            "text/plain": [
              "<IPython.core.display.HTML object>"
            ]
          },
          "metadata": {}
        },
        {
          "output_type": "display_data",
          "data": {
            "text/html": [
              "\n",
              "<style>\n",
              "    /* Turns off some styling */\n",
              "    progress {\n",
              "        /* gets rid of default border in Firefox and Opera. */\n",
              "        border: none;\n",
              "        /* Needs to be in here for Safari polyfill so background images work as expected. */\n",
              "        background-size: auto;\n",
              "    }\n",
              "    .progress-bar-interrupted, .progress-bar-interrupted::-webkit-progress-bar {\n",
              "        background: #F44336;\n",
              "    }\n",
              "</style>\n"
            ],
            "text/plain": [
              "<IPython.core.display.HTML object>"
            ]
          },
          "metadata": {}
        },
        {
          "output_type": "display_data",
          "data": {
            "text/html": [
              ""
            ],
            "text/plain": [
              "<IPython.core.display.HTML object>"
            ]
          },
          "metadata": {}
        },
        {
          "output_type": "stream",
          "name": "stdout",
          "text": [
            "| \u001b[0m 23      \u001b[0m | \u001b[0m 0.7605  \u001b[0m | \u001b[0m 0.1385  \u001b[0m | \u001b[0m 112.9   \u001b[0m | \u001b[0m 396.5   \u001b[0m | \u001b[0m 469.1   \u001b[0m | \u001b[0m 0.09434 \u001b[0m | \u001b[0m 1.168   \u001b[0m | \u001b[0m 0.212   \u001b[0m |\n",
            "0.0013452122952142835 0.2484013303440626 0.2875627294840168\n"
          ]
        },
        {
          "output_type": "display_data",
          "data": {
            "text/html": [
              "\n",
              "<style>\n",
              "    /* Turns off some styling */\n",
              "    progress {\n",
              "        /* gets rid of default border in Firefox and Opera. */\n",
              "        border: none;\n",
              "        /* Needs to be in here for Safari polyfill so background images work as expected. */\n",
              "        background-size: auto;\n",
              "    }\n",
              "    .progress-bar-interrupted, .progress-bar-interrupted::-webkit-progress-bar {\n",
              "        background: #F44336;\n",
              "    }\n",
              "</style>\n"
            ],
            "text/plain": [
              "<IPython.core.display.HTML object>"
            ]
          },
          "metadata": {}
        },
        {
          "output_type": "display_data",
          "data": {
            "text/html": [
              ""
            ],
            "text/plain": [
              "<IPython.core.display.HTML object>"
            ]
          },
          "metadata": {}
        },
        {
          "output_type": "display_data",
          "data": {
            "text/html": [
              "\n",
              "<style>\n",
              "    /* Turns off some styling */\n",
              "    progress {\n",
              "        /* gets rid of default border in Firefox and Opera. */\n",
              "        border: none;\n",
              "        /* Needs to be in here for Safari polyfill so background images work as expected. */\n",
              "        background-size: auto;\n",
              "    }\n",
              "    .progress-bar-interrupted, .progress-bar-interrupted::-webkit-progress-bar {\n",
              "        background: #F44336;\n",
              "    }\n",
              "</style>\n"
            ],
            "text/plain": [
              "<IPython.core.display.HTML object>"
            ]
          },
          "metadata": {}
        },
        {
          "output_type": "display_data",
          "data": {
            "text/html": [
              ""
            ],
            "text/plain": [
              "<IPython.core.display.HTML object>"
            ]
          },
          "metadata": {}
        },
        {
          "output_type": "stream",
          "name": "stdout",
          "text": [
            "| \u001b[0m 24      \u001b[0m | \u001b[0m 0.7805  \u001b[0m | \u001b[0m 0.2876  \u001b[0m | \u001b[0m 137.1   \u001b[0m | \u001b[0m 555.9   \u001b[0m | \u001b[0m 1.326e+0\u001b[0m | \u001b[0m 0.001345\u001b[0m | \u001b[0m 1.521   \u001b[0m | \u001b[0m 0.2484  \u001b[0m |\n",
            "0.06689150886870916 0.34717466736852354 0.48250677755680693\n"
          ]
        },
        {
          "output_type": "display_data",
          "data": {
            "text/html": [
              "\n",
              "<style>\n",
              "    /* Turns off some styling */\n",
              "    progress {\n",
              "        /* gets rid of default border in Firefox and Opera. */\n",
              "        border: none;\n",
              "        /* Needs to be in here for Safari polyfill so background images work as expected. */\n",
              "        background-size: auto;\n",
              "    }\n",
              "    .progress-bar-interrupted, .progress-bar-interrupted::-webkit-progress-bar {\n",
              "        background: #F44336;\n",
              "    }\n",
              "</style>\n"
            ],
            "text/plain": [
              "<IPython.core.display.HTML object>"
            ]
          },
          "metadata": {}
        },
        {
          "output_type": "display_data",
          "data": {
            "text/html": [
              ""
            ],
            "text/plain": [
              "<IPython.core.display.HTML object>"
            ]
          },
          "metadata": {}
        },
        {
          "output_type": "display_data",
          "data": {
            "text/html": [
              "\n",
              "<style>\n",
              "    /* Turns off some styling */\n",
              "    progress {\n",
              "        /* gets rid of default border in Firefox and Opera. */\n",
              "        border: none;\n",
              "        /* Needs to be in here for Safari polyfill so background images work as expected. */\n",
              "        background-size: auto;\n",
              "    }\n",
              "    .progress-bar-interrupted, .progress-bar-interrupted::-webkit-progress-bar {\n",
              "        background: #F44336;\n",
              "    }\n",
              "</style>\n"
            ],
            "text/plain": [
              "<IPython.core.display.HTML object>"
            ]
          },
          "metadata": {}
        },
        {
          "output_type": "display_data",
          "data": {
            "text/html": [
              ""
            ],
            "text/plain": [
              "<IPython.core.display.HTML object>"
            ]
          },
          "metadata": {}
        },
        {
          "output_type": "stream",
          "name": "stdout",
          "text": [
            "| \u001b[0m 25      \u001b[0m | \u001b[0m 0.758   \u001b[0m | \u001b[0m 0.4825  \u001b[0m | \u001b[0m 63.87   \u001b[0m | \u001b[0m 702.1   \u001b[0m | \u001b[0m 1.68e+03\u001b[0m | \u001b[0m 0.06689 \u001b[0m | \u001b[0m 2.081   \u001b[0m | \u001b[0m 0.3472  \u001b[0m |\n",
            "=============================================================================================================\n",
            "CPU times: user 40.1 s, sys: 3.69 s, total: 43.8 s\n",
            "Wall time: 42.7 s\n"
          ]
        }
      ]
    },
    {
      "cell_type": "code",
      "source": [
        "print(optim.max)"
      ],
      "metadata": {
        "colab": {
          "base_uri": "https://localhost:8080/"
        },
        "id": "aTD9OxKiYuli",
        "outputId": "d769b8b2-b672-4538-96bf-363f33d59db0"
      },
      "execution_count": 31,
      "outputs": [
        {
          "output_type": "stream",
          "name": "stdout",
          "text": [
            "{'target': 0.7935000061988831, 'params': {'dp': 0.31814795484259445, 'layer_1': 174.2945076495272, 'layer_2': 660.7024289136516, 'layer_3': 793.9900876749765, 'lr': 0.029415674202259722, 'n_layers': 1.1819996458200757, 'wd': 0.005868544291961274}}\n"
          ]
        }
      ]
    },
    {
      "cell_type": "code",
      "source": [
        "config = tabular_config(embed_p=float(optim.max['params']['dp']),\n",
        "                          ps=float(optim.max['params']['wd']))\n",
        "learn = tabular_learner(dls, layers = [67], metrics=accuracy, config = config)"
      ],
      "metadata": {
        "id": "ZQR3ulx_CugL"
      },
      "execution_count": 32,
      "outputs": []
    },
    {
      "cell_type": "code",
      "source": [
        "learn.fine_tune(500, float(optim.max['params']['lr']), wd = float(optim.max['params']['wd']))"
      ],
      "metadata": {
        "id": "Gz45j4LUCwsB",
        "colab": {
          "base_uri": "https://localhost:8080/",
          "height": 1000
        },
        "outputId": "b1e6bd83-6c46-409e-fc67-47ec209d0a40"
      },
      "execution_count": 33,
      "outputs": [
        {
          "output_type": "display_data",
          "data": {
            "text/html": [
              "\n",
              "<style>\n",
              "    /* Turns off some styling */\n",
              "    progress {\n",
              "        /* gets rid of default border in Firefox and Opera. */\n",
              "        border: none;\n",
              "        /* Needs to be in here for Safari polyfill so background images work as expected. */\n",
              "        background-size: auto;\n",
              "    }\n",
              "    .progress-bar-interrupted, .progress-bar-interrupted::-webkit-progress-bar {\n",
              "        background: #F44336;\n",
              "    }\n",
              "</style>\n"
            ],
            "text/plain": [
              "<IPython.core.display.HTML object>"
            ]
          },
          "metadata": {}
        },
        {
          "output_type": "display_data",
          "data": {
            "text/html": [
              "<table border=\"1\" class=\"dataframe\">\n",
              "  <thead>\n",
              "    <tr style=\"text-align: left;\">\n",
              "      <th>epoch</th>\n",
              "      <th>train_loss</th>\n",
              "      <th>valid_loss</th>\n",
              "      <th>accuracy</th>\n",
              "      <th>time</th>\n",
              "    </tr>\n",
              "  </thead>\n",
              "  <tbody>\n",
              "    <tr>\n",
              "      <td>0</td>\n",
              "      <td>0.776722</td>\n",
              "      <td>0.729920</td>\n",
              "      <td>0.710000</td>\n",
              "      <td>00:00</td>\n",
              "    </tr>\n",
              "  </tbody>\n",
              "</table>"
            ],
            "text/plain": [
              "<IPython.core.display.HTML object>"
            ]
          },
          "metadata": {}
        },
        {
          "output_type": "display_data",
          "data": {
            "text/html": [
              "\n",
              "<style>\n",
              "    /* Turns off some styling */\n",
              "    progress {\n",
              "        /* gets rid of default border in Firefox and Opera. */\n",
              "        border: none;\n",
              "        /* Needs to be in here for Safari polyfill so background images work as expected. */\n",
              "        background-size: auto;\n",
              "    }\n",
              "    .progress-bar-interrupted, .progress-bar-interrupted::-webkit-progress-bar {\n",
              "        background: #F44336;\n",
              "    }\n",
              "</style>\n"
            ],
            "text/plain": [
              "<IPython.core.display.HTML object>"
            ]
          },
          "metadata": {}
        },
        {
          "output_type": "display_data",
          "data": {
            "text/html": [
              "<table border=\"1\" class=\"dataframe\">\n",
              "  <thead>\n",
              "    <tr style=\"text-align: left;\">\n",
              "      <th>epoch</th>\n",
              "      <th>train_loss</th>\n",
              "      <th>valid_loss</th>\n",
              "      <th>accuracy</th>\n",
              "      <th>time</th>\n",
              "    </tr>\n",
              "  </thead>\n",
              "  <tbody>\n",
              "    <tr>\n",
              "      <td>0</td>\n",
              "      <td>0.521485</td>\n",
              "      <td>0.573015</td>\n",
              "      <td>0.750500</td>\n",
              "      <td>00:00</td>\n",
              "    </tr>\n",
              "    <tr>\n",
              "      <td>1</td>\n",
              "      <td>0.478994</td>\n",
              "      <td>0.532632</td>\n",
              "      <td>0.773500</td>\n",
              "      <td>00:00</td>\n",
              "    </tr>\n",
              "    <tr>\n",
              "      <td>2</td>\n",
              "      <td>0.446150</td>\n",
              "      <td>0.519516</td>\n",
              "      <td>0.770500</td>\n",
              "      <td>00:00</td>\n",
              "    </tr>\n",
              "    <tr>\n",
              "      <td>3</td>\n",
              "      <td>0.415391</td>\n",
              "      <td>0.520582</td>\n",
              "      <td>0.776500</td>\n",
              "      <td>00:00</td>\n",
              "    </tr>\n",
              "    <tr>\n",
              "      <td>4</td>\n",
              "      <td>0.387029</td>\n",
              "      <td>0.528473</td>\n",
              "      <td>0.775500</td>\n",
              "      <td>00:00</td>\n",
              "    </tr>\n",
              "    <tr>\n",
              "      <td>5</td>\n",
              "      <td>0.358263</td>\n",
              "      <td>0.524680</td>\n",
              "      <td>0.774500</td>\n",
              "      <td>00:00</td>\n",
              "    </tr>\n",
              "    <tr>\n",
              "      <td>6</td>\n",
              "      <td>0.331120</td>\n",
              "      <td>0.534240</td>\n",
              "      <td>0.772000</td>\n",
              "      <td>00:00</td>\n",
              "    </tr>\n",
              "    <tr>\n",
              "      <td>7</td>\n",
              "      <td>0.303934</td>\n",
              "      <td>0.540985</td>\n",
              "      <td>0.778500</td>\n",
              "      <td>00:00</td>\n",
              "    </tr>\n",
              "    <tr>\n",
              "      <td>8</td>\n",
              "      <td>0.278140</td>\n",
              "      <td>0.555147</td>\n",
              "      <td>0.776000</td>\n",
              "      <td>00:00</td>\n",
              "    </tr>\n",
              "    <tr>\n",
              "      <td>9</td>\n",
              "      <td>0.251548</td>\n",
              "      <td>0.577093</td>\n",
              "      <td>0.774500</td>\n",
              "      <td>00:00</td>\n",
              "    </tr>\n",
              "    <tr>\n",
              "      <td>10</td>\n",
              "      <td>0.227067</td>\n",
              "      <td>0.593814</td>\n",
              "      <td>0.787500</td>\n",
              "      <td>00:00</td>\n",
              "    </tr>\n",
              "    <tr>\n",
              "      <td>11</td>\n",
              "      <td>0.202321</td>\n",
              "      <td>0.629031</td>\n",
              "      <td>0.770500</td>\n",
              "      <td>00:00</td>\n",
              "    </tr>\n",
              "    <tr>\n",
              "      <td>12</td>\n",
              "      <td>0.179746</td>\n",
              "      <td>0.633154</td>\n",
              "      <td>0.784000</td>\n",
              "      <td>00:00</td>\n",
              "    </tr>\n",
              "    <tr>\n",
              "      <td>13</td>\n",
              "      <td>0.158819</td>\n",
              "      <td>0.665541</td>\n",
              "      <td>0.768500</td>\n",
              "      <td>00:00</td>\n",
              "    </tr>\n",
              "    <tr>\n",
              "      <td>14</td>\n",
              "      <td>0.139297</td>\n",
              "      <td>0.690620</td>\n",
              "      <td>0.774500</td>\n",
              "      <td>00:00</td>\n",
              "    </tr>\n",
              "    <tr>\n",
              "      <td>15</td>\n",
              "      <td>0.121707</td>\n",
              "      <td>0.717044</td>\n",
              "      <td>0.774500</td>\n",
              "      <td>00:00</td>\n",
              "    </tr>\n",
              "    <tr>\n",
              "      <td>16</td>\n",
              "      <td>0.105872</td>\n",
              "      <td>0.758278</td>\n",
              "      <td>0.768500</td>\n",
              "      <td>00:00</td>\n",
              "    </tr>\n",
              "    <tr>\n",
              "      <td>17</td>\n",
              "      <td>0.091953</td>\n",
              "      <td>0.773653</td>\n",
              "      <td>0.769000</td>\n",
              "      <td>00:00</td>\n",
              "    </tr>\n",
              "    <tr>\n",
              "      <td>18</td>\n",
              "      <td>0.079792</td>\n",
              "      <td>0.809653</td>\n",
              "      <td>0.778500</td>\n",
              "      <td>00:00</td>\n",
              "    </tr>\n",
              "    <tr>\n",
              "      <td>19</td>\n",
              "      <td>0.069343</td>\n",
              "      <td>0.853145</td>\n",
              "      <td>0.765500</td>\n",
              "      <td>00:00</td>\n",
              "    </tr>\n",
              "    <tr>\n",
              "      <td>20</td>\n",
              "      <td>0.061182</td>\n",
              "      <td>0.847236</td>\n",
              "      <td>0.775000</td>\n",
              "      <td>00:00</td>\n",
              "    </tr>\n",
              "    <tr>\n",
              "      <td>21</td>\n",
              "      <td>0.053564</td>\n",
              "      <td>0.876005</td>\n",
              "      <td>0.774000</td>\n",
              "      <td>00:00</td>\n",
              "    </tr>\n",
              "    <tr>\n",
              "      <td>22</td>\n",
              "      <td>0.047407</td>\n",
              "      <td>0.898507</td>\n",
              "      <td>0.776000</td>\n",
              "      <td>00:00</td>\n",
              "    </tr>\n",
              "    <tr>\n",
              "      <td>23</td>\n",
              "      <td>0.042141</td>\n",
              "      <td>0.904389</td>\n",
              "      <td>0.773000</td>\n",
              "      <td>00:00</td>\n",
              "    </tr>\n",
              "    <tr>\n",
              "      <td>24</td>\n",
              "      <td>0.037081</td>\n",
              "      <td>0.928776</td>\n",
              "      <td>0.778000</td>\n",
              "      <td>00:00</td>\n",
              "    </tr>\n",
              "    <tr>\n",
              "      <td>25</td>\n",
              "      <td>0.032844</td>\n",
              "      <td>0.942889</td>\n",
              "      <td>0.771000</td>\n",
              "      <td>00:00</td>\n",
              "    </tr>\n",
              "    <tr>\n",
              "      <td>26</td>\n",
              "      <td>0.028909</td>\n",
              "      <td>0.932727</td>\n",
              "      <td>0.768000</td>\n",
              "      <td>00:00</td>\n",
              "    </tr>\n",
              "    <tr>\n",
              "      <td>27</td>\n",
              "      <td>0.025177</td>\n",
              "      <td>0.976064</td>\n",
              "      <td>0.771000</td>\n",
              "      <td>00:00</td>\n",
              "    </tr>\n",
              "    <tr>\n",
              "      <td>28</td>\n",
              "      <td>0.022171</td>\n",
              "      <td>1.007097</td>\n",
              "      <td>0.774500</td>\n",
              "      <td>00:00</td>\n",
              "    </tr>\n",
              "    <tr>\n",
              "      <td>29</td>\n",
              "      <td>0.019725</td>\n",
              "      <td>1.045699</td>\n",
              "      <td>0.764500</td>\n",
              "      <td>00:00</td>\n",
              "    </tr>\n",
              "    <tr>\n",
              "      <td>30</td>\n",
              "      <td>0.017662</td>\n",
              "      <td>1.017219</td>\n",
              "      <td>0.774500</td>\n",
              "      <td>00:00</td>\n",
              "    </tr>\n",
              "    <tr>\n",
              "      <td>31</td>\n",
              "      <td>0.015676</td>\n",
              "      <td>1.040365</td>\n",
              "      <td>0.773000</td>\n",
              "      <td>00:00</td>\n",
              "    </tr>\n",
              "    <tr>\n",
              "      <td>32</td>\n",
              "      <td>0.013997</td>\n",
              "      <td>1.053622</td>\n",
              "      <td>0.764500</td>\n",
              "      <td>00:00</td>\n",
              "    </tr>\n",
              "    <tr>\n",
              "      <td>33</td>\n",
              "      <td>0.012727</td>\n",
              "      <td>1.068854</td>\n",
              "      <td>0.775000</td>\n",
              "      <td>00:00</td>\n",
              "    </tr>\n",
              "    <tr>\n",
              "      <td>34</td>\n",
              "      <td>0.011780</td>\n",
              "      <td>1.039527</td>\n",
              "      <td>0.779500</td>\n",
              "      <td>00:00</td>\n",
              "    </tr>\n",
              "    <tr>\n",
              "      <td>35</td>\n",
              "      <td>0.011071</td>\n",
              "      <td>1.124040</td>\n",
              "      <td>0.768000</td>\n",
              "      <td>00:00</td>\n",
              "    </tr>\n",
              "    <tr>\n",
              "      <td>36</td>\n",
              "      <td>0.010638</td>\n",
              "      <td>1.125322</td>\n",
              "      <td>0.764500</td>\n",
              "      <td>00:00</td>\n",
              "    </tr>\n",
              "    <tr>\n",
              "      <td>37</td>\n",
              "      <td>0.010352</td>\n",
              "      <td>1.118579</td>\n",
              "      <td>0.772000</td>\n",
              "      <td>00:00</td>\n",
              "    </tr>\n",
              "    <tr>\n",
              "      <td>38</td>\n",
              "      <td>0.010757</td>\n",
              "      <td>1.163064</td>\n",
              "      <td>0.761500</td>\n",
              "      <td>00:00</td>\n",
              "    </tr>\n",
              "    <tr>\n",
              "      <td>39</td>\n",
              "      <td>0.013557</td>\n",
              "      <td>1.162939</td>\n",
              "      <td>0.764500</td>\n",
              "      <td>00:00</td>\n",
              "    </tr>\n",
              "    <tr>\n",
              "      <td>40</td>\n",
              "      <td>0.018106</td>\n",
              "      <td>1.181388</td>\n",
              "      <td>0.757000</td>\n",
              "      <td>00:00</td>\n",
              "    </tr>\n",
              "    <tr>\n",
              "      <td>41</td>\n",
              "      <td>0.024252</td>\n",
              "      <td>1.282650</td>\n",
              "      <td>0.775500</td>\n",
              "      <td>00:00</td>\n",
              "    </tr>\n",
              "    <tr>\n",
              "      <td>42</td>\n",
              "      <td>0.032725</td>\n",
              "      <td>1.262202</td>\n",
              "      <td>0.766000</td>\n",
              "      <td>00:00</td>\n",
              "    </tr>\n",
              "    <tr>\n",
              "      <td>43</td>\n",
              "      <td>0.038134</td>\n",
              "      <td>1.201169</td>\n",
              "      <td>0.758000</td>\n",
              "      <td>00:00</td>\n",
              "    </tr>\n",
              "    <tr>\n",
              "      <td>44</td>\n",
              "      <td>0.039686</td>\n",
              "      <td>1.202014</td>\n",
              "      <td>0.747000</td>\n",
              "      <td>00:00</td>\n",
              "    </tr>\n",
              "    <tr>\n",
              "      <td>45</td>\n",
              "      <td>0.038928</td>\n",
              "      <td>1.195587</td>\n",
              "      <td>0.769000</td>\n",
              "      <td>00:00</td>\n",
              "    </tr>\n",
              "    <tr>\n",
              "      <td>46</td>\n",
              "      <td>0.036475</td>\n",
              "      <td>1.166901</td>\n",
              "      <td>0.772000</td>\n",
              "      <td>00:00</td>\n",
              "    </tr>\n",
              "    <tr>\n",
              "      <td>47</td>\n",
              "      <td>0.033408</td>\n",
              "      <td>1.179720</td>\n",
              "      <td>0.768000</td>\n",
              "      <td>00:00</td>\n",
              "    </tr>\n",
              "    <tr>\n",
              "      <td>48</td>\n",
              "      <td>0.029637</td>\n",
              "      <td>1.175558</td>\n",
              "      <td>0.775000</td>\n",
              "      <td>00:00</td>\n",
              "    </tr>\n",
              "    <tr>\n",
              "      <td>49</td>\n",
              "      <td>0.026116</td>\n",
              "      <td>1.192198</td>\n",
              "      <td>0.762500</td>\n",
              "      <td>00:00</td>\n",
              "    </tr>\n",
              "    <tr>\n",
              "      <td>50</td>\n",
              "      <td>0.022862</td>\n",
              "      <td>1.179831</td>\n",
              "      <td>0.775000</td>\n",
              "      <td>00:00</td>\n",
              "    </tr>\n",
              "    <tr>\n",
              "      <td>51</td>\n",
              "      <td>0.019991</td>\n",
              "      <td>1.213893</td>\n",
              "      <td>0.763500</td>\n",
              "      <td>00:00</td>\n",
              "    </tr>\n",
              "    <tr>\n",
              "      <td>52</td>\n",
              "      <td>0.017322</td>\n",
              "      <td>1.219797</td>\n",
              "      <td>0.759500</td>\n",
              "      <td>00:00</td>\n",
              "    </tr>\n",
              "    <tr>\n",
              "      <td>53</td>\n",
              "      <td>0.014848</td>\n",
              "      <td>1.245161</td>\n",
              "      <td>0.772000</td>\n",
              "      <td>00:00</td>\n",
              "    </tr>\n",
              "    <tr>\n",
              "      <td>54</td>\n",
              "      <td>0.012914</td>\n",
              "      <td>1.247827</td>\n",
              "      <td>0.768500</td>\n",
              "      <td>00:00</td>\n",
              "    </tr>\n",
              "    <tr>\n",
              "      <td>55</td>\n",
              "      <td>0.011192</td>\n",
              "      <td>1.254733</td>\n",
              "      <td>0.772500</td>\n",
              "      <td>00:00</td>\n",
              "    </tr>\n",
              "    <tr>\n",
              "      <td>56</td>\n",
              "      <td>0.009616</td>\n",
              "      <td>1.256919</td>\n",
              "      <td>0.776500</td>\n",
              "      <td>00:00</td>\n",
              "    </tr>\n",
              "    <tr>\n",
              "      <td>57</td>\n",
              "      <td>0.008271</td>\n",
              "      <td>1.245768</td>\n",
              "      <td>0.775000</td>\n",
              "      <td>00:00</td>\n",
              "    </tr>\n",
              "    <tr>\n",
              "      <td>58</td>\n",
              "      <td>0.007143</td>\n",
              "      <td>1.226756</td>\n",
              "      <td>0.780500</td>\n",
              "      <td>00:00</td>\n",
              "    </tr>\n",
              "    <tr>\n",
              "      <td>59</td>\n",
              "      <td>0.006175</td>\n",
              "      <td>1.253570</td>\n",
              "      <td>0.776500</td>\n",
              "      <td>00:00</td>\n",
              "    </tr>\n",
              "    <tr>\n",
              "      <td>60</td>\n",
              "      <td>0.005279</td>\n",
              "      <td>1.260213</td>\n",
              "      <td>0.782000</td>\n",
              "      <td>00:00</td>\n",
              "    </tr>\n",
              "    <tr>\n",
              "      <td>61</td>\n",
              "      <td>0.004527</td>\n",
              "      <td>1.263160</td>\n",
              "      <td>0.783500</td>\n",
              "      <td>00:00</td>\n",
              "    </tr>\n",
              "    <tr>\n",
              "      <td>62</td>\n",
              "      <td>0.003903</td>\n",
              "      <td>1.275081</td>\n",
              "      <td>0.775000</td>\n",
              "      <td>00:00</td>\n",
              "    </tr>\n",
              "    <tr>\n",
              "      <td>63</td>\n",
              "      <td>0.003343</td>\n",
              "      <td>1.277963</td>\n",
              "      <td>0.774500</td>\n",
              "      <td>00:00</td>\n",
              "    </tr>\n",
              "    <tr>\n",
              "      <td>64</td>\n",
              "      <td>0.002872</td>\n",
              "      <td>1.292260</td>\n",
              "      <td>0.766000</td>\n",
              "      <td>00:00</td>\n",
              "    </tr>\n",
              "    <tr>\n",
              "      <td>65</td>\n",
              "      <td>0.002472</td>\n",
              "      <td>1.305552</td>\n",
              "      <td>0.771000</td>\n",
              "      <td>00:00</td>\n",
              "    </tr>\n",
              "    <tr>\n",
              "      <td>66</td>\n",
              "      <td>0.002131</td>\n",
              "      <td>1.309811</td>\n",
              "      <td>0.774000</td>\n",
              "      <td>00:00</td>\n",
              "    </tr>\n",
              "    <tr>\n",
              "      <td>67</td>\n",
              "      <td>0.001852</td>\n",
              "      <td>1.319532</td>\n",
              "      <td>0.775000</td>\n",
              "      <td>00:00</td>\n",
              "    </tr>\n",
              "    <tr>\n",
              "      <td>68</td>\n",
              "      <td>0.001623</td>\n",
              "      <td>1.330865</td>\n",
              "      <td>0.772500</td>\n",
              "      <td>00:00</td>\n",
              "    </tr>\n",
              "    <tr>\n",
              "      <td>69</td>\n",
              "      <td>0.001412</td>\n",
              "      <td>1.338580</td>\n",
              "      <td>0.771500</td>\n",
              "      <td>00:00</td>\n",
              "    </tr>\n",
              "    <tr>\n",
              "      <td>70</td>\n",
              "      <td>0.001223</td>\n",
              "      <td>1.351269</td>\n",
              "      <td>0.768500</td>\n",
              "      <td>00:00</td>\n",
              "    </tr>\n",
              "    <tr>\n",
              "      <td>71</td>\n",
              "      <td>0.001089</td>\n",
              "      <td>1.375639</td>\n",
              "      <td>0.763500</td>\n",
              "      <td>00:00</td>\n",
              "    </tr>\n",
              "    <tr>\n",
              "      <td>72</td>\n",
              "      <td>0.001150</td>\n",
              "      <td>1.390718</td>\n",
              "      <td>0.768500</td>\n",
              "      <td>00:00</td>\n",
              "    </tr>\n",
              "    <tr>\n",
              "      <td>73</td>\n",
              "      <td>0.001824</td>\n",
              "      <td>1.502296</td>\n",
              "      <td>0.761500</td>\n",
              "      <td>00:00</td>\n",
              "    </tr>\n",
              "    <tr>\n",
              "      <td>74</td>\n",
              "      <td>0.008540</td>\n",
              "      <td>1.551758</td>\n",
              "      <td>0.764000</td>\n",
              "      <td>00:00</td>\n",
              "    </tr>\n",
              "    <tr>\n",
              "      <td>75</td>\n",
              "      <td>0.033582</td>\n",
              "      <td>1.687347</td>\n",
              "      <td>0.744000</td>\n",
              "      <td>00:00</td>\n",
              "    </tr>\n",
              "    <tr>\n",
              "      <td>76</td>\n",
              "      <td>0.066475</td>\n",
              "      <td>1.413081</td>\n",
              "      <td>0.756000</td>\n",
              "      <td>00:00</td>\n",
              "    </tr>\n",
              "    <tr>\n",
              "      <td>77</td>\n",
              "      <td>0.083848</td>\n",
              "      <td>1.212640</td>\n",
              "      <td>0.760500</td>\n",
              "      <td>00:00</td>\n",
              "    </tr>\n",
              "    <tr>\n",
              "      <td>78</td>\n",
              "      <td>0.089410</td>\n",
              "      <td>1.143859</td>\n",
              "      <td>0.769000</td>\n",
              "      <td>00:00</td>\n",
              "    </tr>\n",
              "    <tr>\n",
              "      <td>79</td>\n",
              "      <td>0.086174</td>\n",
              "      <td>1.004416</td>\n",
              "      <td>0.775000</td>\n",
              "      <td>00:00</td>\n",
              "    </tr>\n",
              "    <tr>\n",
              "      <td>80</td>\n",
              "      <td>0.079216</td>\n",
              "      <td>1.001178</td>\n",
              "      <td>0.769000</td>\n",
              "      <td>00:00</td>\n",
              "    </tr>\n",
              "    <tr>\n",
              "      <td>81</td>\n",
              "      <td>0.069903</td>\n",
              "      <td>0.999244</td>\n",
              "      <td>0.773000</td>\n",
              "      <td>00:00</td>\n",
              "    </tr>\n",
              "    <tr>\n",
              "      <td>82</td>\n",
              "      <td>0.060720</td>\n",
              "      <td>1.020736</td>\n",
              "      <td>0.775500</td>\n",
              "      <td>00:00</td>\n",
              "    </tr>\n",
              "    <tr>\n",
              "      <td>83</td>\n",
              "      <td>0.052242</td>\n",
              "      <td>1.044986</td>\n",
              "      <td>0.779000</td>\n",
              "      <td>00:00</td>\n",
              "    </tr>\n",
              "    <tr>\n",
              "      <td>84</td>\n",
              "      <td>0.044422</td>\n",
              "      <td>1.062354</td>\n",
              "      <td>0.777500</td>\n",
              "      <td>00:00</td>\n",
              "    </tr>\n",
              "    <tr>\n",
              "      <td>85</td>\n",
              "      <td>0.037845</td>\n",
              "      <td>1.077607</td>\n",
              "      <td>0.777500</td>\n",
              "      <td>00:00</td>\n",
              "    </tr>\n",
              "    <tr>\n",
              "      <td>86</td>\n",
              "      <td>0.032194</td>\n",
              "      <td>1.096171</td>\n",
              "      <td>0.778500</td>\n",
              "      <td>00:00</td>\n",
              "    </tr>\n",
              "    <tr>\n",
              "      <td>87</td>\n",
              "      <td>0.027280</td>\n",
              "      <td>1.111373</td>\n",
              "      <td>0.781000</td>\n",
              "      <td>00:00</td>\n",
              "    </tr>\n",
              "    <tr>\n",
              "      <td>88</td>\n",
              "      <td>0.023141</td>\n",
              "      <td>1.121382</td>\n",
              "      <td>0.776000</td>\n",
              "      <td>00:00</td>\n",
              "    </tr>\n",
              "    <tr>\n",
              "      <td>89</td>\n",
              "      <td>0.019635</td>\n",
              "      <td>1.135477</td>\n",
              "      <td>0.774000</td>\n",
              "      <td>00:00</td>\n",
              "    </tr>\n",
              "    <tr>\n",
              "      <td>90</td>\n",
              "      <td>0.016674</td>\n",
              "      <td>1.154222</td>\n",
              "      <td>0.779000</td>\n",
              "      <td>00:00</td>\n",
              "    </tr>\n",
              "    <tr>\n",
              "      <td>91</td>\n",
              "      <td>0.014171</td>\n",
              "      <td>1.159208</td>\n",
              "      <td>0.781000</td>\n",
              "      <td>00:00</td>\n",
              "    </tr>\n",
              "    <tr>\n",
              "      <td>92</td>\n",
              "      <td>0.012008</td>\n",
              "      <td>1.173623</td>\n",
              "      <td>0.781500</td>\n",
              "      <td>00:00</td>\n",
              "    </tr>\n",
              "    <tr>\n",
              "      <td>93</td>\n",
              "      <td>0.010223</td>\n",
              "      <td>1.193642</td>\n",
              "      <td>0.780500</td>\n",
              "      <td>00:00</td>\n",
              "    </tr>\n",
              "    <tr>\n",
              "      <td>94</td>\n",
              "      <td>0.008721</td>\n",
              "      <td>1.197459</td>\n",
              "      <td>0.777500</td>\n",
              "      <td>00:00</td>\n",
              "    </tr>\n",
              "    <tr>\n",
              "      <td>95</td>\n",
              "      <td>0.007439</td>\n",
              "      <td>1.191128</td>\n",
              "      <td>0.777000</td>\n",
              "      <td>00:00</td>\n",
              "    </tr>\n",
              "    <tr>\n",
              "      <td>96</td>\n",
              "      <td>0.006365</td>\n",
              "      <td>1.206912</td>\n",
              "      <td>0.780000</td>\n",
              "      <td>00:00</td>\n",
              "    </tr>\n",
              "    <tr>\n",
              "      <td>97</td>\n",
              "      <td>0.005494</td>\n",
              "      <td>1.211786</td>\n",
              "      <td>0.778000</td>\n",
              "      <td>00:00</td>\n",
              "    </tr>\n",
              "    <tr>\n",
              "      <td>98</td>\n",
              "      <td>0.004755</td>\n",
              "      <td>1.260618</td>\n",
              "      <td>0.776500</td>\n",
              "      <td>00:00</td>\n",
              "    </tr>\n",
              "    <tr>\n",
              "      <td>99</td>\n",
              "      <td>0.004137</td>\n",
              "      <td>1.264052</td>\n",
              "      <td>0.780000</td>\n",
              "      <td>00:00</td>\n",
              "    </tr>\n",
              "    <tr>\n",
              "      <td>100</td>\n",
              "      <td>0.003599</td>\n",
              "      <td>1.268190</td>\n",
              "      <td>0.778500</td>\n",
              "      <td>00:00</td>\n",
              "    </tr>\n",
              "    <tr>\n",
              "      <td>101</td>\n",
              "      <td>0.003102</td>\n",
              "      <td>1.283520</td>\n",
              "      <td>0.775500</td>\n",
              "      <td>00:00</td>\n",
              "    </tr>\n",
              "    <tr>\n",
              "      <td>102</td>\n",
              "      <td>0.002682</td>\n",
              "      <td>1.273884</td>\n",
              "      <td>0.781500</td>\n",
              "      <td>00:00</td>\n",
              "    </tr>\n",
              "    <tr>\n",
              "      <td>103</td>\n",
              "      <td>0.002320</td>\n",
              "      <td>1.283266</td>\n",
              "      <td>0.780000</td>\n",
              "      <td>00:00</td>\n",
              "    </tr>\n",
              "    <tr>\n",
              "      <td>104</td>\n",
              "      <td>0.002007</td>\n",
              "      <td>1.291933</td>\n",
              "      <td>0.779500</td>\n",
              "      <td>00:00</td>\n",
              "    </tr>\n",
              "    <tr>\n",
              "      <td>105</td>\n",
              "      <td>0.001735</td>\n",
              "      <td>1.306486</td>\n",
              "      <td>0.781500</td>\n",
              "      <td>00:00</td>\n",
              "    </tr>\n",
              "    <tr>\n",
              "      <td>106</td>\n",
              "      <td>0.001785</td>\n",
              "      <td>1.408545</td>\n",
              "      <td>0.772500</td>\n",
              "      <td>00:00</td>\n",
              "    </tr>\n",
              "    <tr>\n",
              "      <td>107</td>\n",
              "      <td>0.009063</td>\n",
              "      <td>1.455340</td>\n",
              "      <td>0.753000</td>\n",
              "      <td>00:00</td>\n",
              "    </tr>\n",
              "    <tr>\n",
              "      <td>108</td>\n",
              "      <td>0.023605</td>\n",
              "      <td>1.551605</td>\n",
              "      <td>0.756500</td>\n",
              "      <td>00:00</td>\n",
              "    </tr>\n",
              "    <tr>\n",
              "      <td>109</td>\n",
              "      <td>0.043097</td>\n",
              "      <td>1.563638</td>\n",
              "      <td>0.738000</td>\n",
              "      <td>00:00</td>\n",
              "    </tr>\n",
              "    <tr>\n",
              "      <td>110</td>\n",
              "      <td>0.066914</td>\n",
              "      <td>1.255220</td>\n",
              "      <td>0.754500</td>\n",
              "      <td>00:00</td>\n",
              "    </tr>\n",
              "    <tr>\n",
              "      <td>111</td>\n",
              "      <td>0.071561</td>\n",
              "      <td>1.093006</td>\n",
              "      <td>0.764000</td>\n",
              "      <td>00:00</td>\n",
              "    </tr>\n",
              "    <tr>\n",
              "      <td>112</td>\n",
              "      <td>0.069461</td>\n",
              "      <td>1.051157</td>\n",
              "      <td>0.755000</td>\n",
              "      <td>00:00</td>\n",
              "    </tr>\n",
              "    <tr>\n",
              "      <td>113</td>\n",
              "      <td>0.062749</td>\n",
              "      <td>1.046054</td>\n",
              "      <td>0.766500</td>\n",
              "      <td>00:00</td>\n",
              "    </tr>\n",
              "    <tr>\n",
              "      <td>114</td>\n",
              "      <td>0.055118</td>\n",
              "      <td>1.058018</td>\n",
              "      <td>0.754500</td>\n",
              "      <td>00:00</td>\n",
              "    </tr>\n",
              "    <tr>\n",
              "      <td>115</td>\n",
              "      <td>0.047651</td>\n",
              "      <td>1.060988</td>\n",
              "      <td>0.760500</td>\n",
              "      <td>00:00</td>\n",
              "    </tr>\n",
              "    <tr>\n",
              "      <td>116</td>\n",
              "      <td>0.040948</td>\n",
              "      <td>1.081248</td>\n",
              "      <td>0.765000</td>\n",
              "      <td>00:00</td>\n",
              "    </tr>\n",
              "    <tr>\n",
              "      <td>117</td>\n",
              "      <td>0.035261</td>\n",
              "      <td>1.063031</td>\n",
              "      <td>0.772000</td>\n",
              "      <td>00:00</td>\n",
              "    </tr>\n",
              "    <tr>\n",
              "      <td>118</td>\n",
              "      <td>0.030337</td>\n",
              "      <td>1.103164</td>\n",
              "      <td>0.772500</td>\n",
              "      <td>00:00</td>\n",
              "    </tr>\n",
              "    <tr>\n",
              "      <td>119</td>\n",
              "      <td>0.025780</td>\n",
              "      <td>1.162006</td>\n",
              "      <td>0.772000</td>\n",
              "      <td>00:00</td>\n",
              "    </tr>\n",
              "    <tr>\n",
              "      <td>120</td>\n",
              "      <td>0.021898</td>\n",
              "      <td>1.165713</td>\n",
              "      <td>0.771500</td>\n",
              "      <td>00:00</td>\n",
              "    </tr>\n",
              "    <tr>\n",
              "      <td>121</td>\n",
              "      <td>0.018551</td>\n",
              "      <td>1.171313</td>\n",
              "      <td>0.771500</td>\n",
              "      <td>00:00</td>\n",
              "    </tr>\n",
              "    <tr>\n",
              "      <td>122</td>\n",
              "      <td>0.015743</td>\n",
              "      <td>1.180021</td>\n",
              "      <td>0.772500</td>\n",
              "      <td>00:00</td>\n",
              "    </tr>\n",
              "    <tr>\n",
              "      <td>123</td>\n",
              "      <td>0.013325</td>\n",
              "      <td>1.197509</td>\n",
              "      <td>0.774000</td>\n",
              "      <td>00:00</td>\n",
              "    </tr>\n",
              "    <tr>\n",
              "      <td>124</td>\n",
              "      <td>0.011430</td>\n",
              "      <td>1.206799</td>\n",
              "      <td>0.776000</td>\n",
              "      <td>00:00</td>\n",
              "    </tr>\n",
              "    <tr>\n",
              "      <td>125</td>\n",
              "      <td>0.009777</td>\n",
              "      <td>1.205457</td>\n",
              "      <td>0.773500</td>\n",
              "      <td>00:00</td>\n",
              "    </tr>\n",
              "    <tr>\n",
              "      <td>126</td>\n",
              "      <td>0.008350</td>\n",
              "      <td>1.216246</td>\n",
              "      <td>0.777500</td>\n",
              "      <td>00:00</td>\n",
              "    </tr>\n",
              "    <tr>\n",
              "      <td>127</td>\n",
              "      <td>0.007154</td>\n",
              "      <td>1.221759</td>\n",
              "      <td>0.773000</td>\n",
              "      <td>00:00</td>\n",
              "    </tr>\n",
              "    <tr>\n",
              "      <td>128</td>\n",
              "      <td>0.006173</td>\n",
              "      <td>1.230368</td>\n",
              "      <td>0.776500</td>\n",
              "      <td>00:00</td>\n",
              "    </tr>\n",
              "    <tr>\n",
              "      <td>129</td>\n",
              "      <td>0.005348</td>\n",
              "      <td>1.248893</td>\n",
              "      <td>0.773500</td>\n",
              "      <td>00:00</td>\n",
              "    </tr>\n",
              "    <tr>\n",
              "      <td>130</td>\n",
              "      <td>0.004669</td>\n",
              "      <td>1.252631</td>\n",
              "      <td>0.781500</td>\n",
              "      <td>00:00</td>\n",
              "    </tr>\n",
              "    <tr>\n",
              "      <td>131</td>\n",
              "      <td>0.004140</td>\n",
              "      <td>1.293263</td>\n",
              "      <td>0.768500</td>\n",
              "      <td>00:00</td>\n",
              "    </tr>\n",
              "    <tr>\n",
              "      <td>132</td>\n",
              "      <td>0.005412</td>\n",
              "      <td>1.492763</td>\n",
              "      <td>0.751500</td>\n",
              "      <td>00:00</td>\n",
              "    </tr>\n",
              "    <tr>\n",
              "      <td>133</td>\n",
              "      <td>0.013491</td>\n",
              "      <td>1.348104</td>\n",
              "      <td>0.759000</td>\n",
              "      <td>00:00</td>\n",
              "    </tr>\n",
              "    <tr>\n",
              "      <td>134</td>\n",
              "      <td>0.021599</td>\n",
              "      <td>1.437797</td>\n",
              "      <td>0.748500</td>\n",
              "      <td>00:00</td>\n",
              "    </tr>\n",
              "    <tr>\n",
              "      <td>135</td>\n",
              "      <td>0.028621</td>\n",
              "      <td>1.471515</td>\n",
              "      <td>0.756000</td>\n",
              "      <td>00:00</td>\n",
              "    </tr>\n",
              "    <tr>\n",
              "      <td>136</td>\n",
              "      <td>0.035819</td>\n",
              "      <td>1.441323</td>\n",
              "      <td>0.743500</td>\n",
              "      <td>00:00</td>\n",
              "    </tr>\n",
              "    <tr>\n",
              "      <td>137</td>\n",
              "      <td>0.041795</td>\n",
              "      <td>1.455986</td>\n",
              "      <td>0.738000</td>\n",
              "      <td>00:00</td>\n",
              "    </tr>\n",
              "    <tr>\n",
              "      <td>138</td>\n",
              "      <td>0.043057</td>\n",
              "      <td>1.356268</td>\n",
              "      <td>0.747000</td>\n",
              "      <td>00:00</td>\n",
              "    </tr>\n",
              "    <tr>\n",
              "      <td>139</td>\n",
              "      <td>0.043302</td>\n",
              "      <td>1.335347</td>\n",
              "      <td>0.758500</td>\n",
              "      <td>00:00</td>\n",
              "    </tr>\n",
              "    <tr>\n",
              "      <td>140</td>\n",
              "      <td>0.041190</td>\n",
              "      <td>1.339842</td>\n",
              "      <td>0.772000</td>\n",
              "      <td>00:00</td>\n",
              "    </tr>\n",
              "    <tr>\n",
              "      <td>141</td>\n",
              "      <td>0.037178</td>\n",
              "      <td>1.264116</td>\n",
              "      <td>0.770000</td>\n",
              "      <td>00:00</td>\n",
              "    </tr>\n",
              "    <tr>\n",
              "      <td>142</td>\n",
              "      <td>0.032812</td>\n",
              "      <td>1.267660</td>\n",
              "      <td>0.769500</td>\n",
              "      <td>00:00</td>\n",
              "    </tr>\n",
              "    <tr>\n",
              "      <td>143</td>\n",
              "      <td>0.028497</td>\n",
              "      <td>1.282083</td>\n",
              "      <td>0.772000</td>\n",
              "      <td>00:00</td>\n",
              "    </tr>\n",
              "    <tr>\n",
              "      <td>144</td>\n",
              "      <td>0.024496</td>\n",
              "      <td>1.242276</td>\n",
              "      <td>0.786000</td>\n",
              "      <td>00:00</td>\n",
              "    </tr>\n",
              "    <tr>\n",
              "      <td>145</td>\n",
              "      <td>0.020923</td>\n",
              "      <td>1.293150</td>\n",
              "      <td>0.779000</td>\n",
              "      <td>00:00</td>\n",
              "    </tr>\n",
              "    <tr>\n",
              "      <td>146</td>\n",
              "      <td>0.017798</td>\n",
              "      <td>1.323980</td>\n",
              "      <td>0.777000</td>\n",
              "      <td>00:00</td>\n",
              "    </tr>\n",
              "    <tr>\n",
              "      <td>147</td>\n",
              "      <td>0.015196</td>\n",
              "      <td>1.300339</td>\n",
              "      <td>0.779000</td>\n",
              "      <td>00:00</td>\n",
              "    </tr>\n",
              "    <tr>\n",
              "      <td>148</td>\n",
              "      <td>0.012952</td>\n",
              "      <td>1.305428</td>\n",
              "      <td>0.778500</td>\n",
              "      <td>00:00</td>\n",
              "    </tr>\n",
              "    <tr>\n",
              "      <td>149</td>\n",
              "      <td>0.011159</td>\n",
              "      <td>1.389748</td>\n",
              "      <td>0.776000</td>\n",
              "      <td>00:00</td>\n",
              "    </tr>\n",
              "    <tr>\n",
              "      <td>150</td>\n",
              "      <td>0.009623</td>\n",
              "      <td>1.372541</td>\n",
              "      <td>0.777500</td>\n",
              "      <td>00:00</td>\n",
              "    </tr>\n",
              "    <tr>\n",
              "      <td>151</td>\n",
              "      <td>0.008244</td>\n",
              "      <td>1.395288</td>\n",
              "      <td>0.773500</td>\n",
              "      <td>00:00</td>\n",
              "    </tr>\n",
              "    <tr>\n",
              "      <td>152</td>\n",
              "      <td>0.007104</td>\n",
              "      <td>1.403601</td>\n",
              "      <td>0.779000</td>\n",
              "      <td>00:00</td>\n",
              "    </tr>\n",
              "    <tr>\n",
              "      <td>153</td>\n",
              "      <td>0.006311</td>\n",
              "      <td>1.408638</td>\n",
              "      <td>0.781500</td>\n",
              "      <td>00:00</td>\n",
              "    </tr>\n",
              "    <tr>\n",
              "      <td>154</td>\n",
              "      <td>0.005425</td>\n",
              "      <td>1.409856</td>\n",
              "      <td>0.778000</td>\n",
              "      <td>00:00</td>\n",
              "    </tr>\n",
              "    <tr>\n",
              "      <td>155</td>\n",
              "      <td>0.004636</td>\n",
              "      <td>1.388459</td>\n",
              "      <td>0.783500</td>\n",
              "      <td>00:00</td>\n",
              "    </tr>\n",
              "    <tr>\n",
              "      <td>156</td>\n",
              "      <td>0.003973</td>\n",
              "      <td>1.406429</td>\n",
              "      <td>0.779000</td>\n",
              "      <td>00:00</td>\n",
              "    </tr>\n",
              "    <tr>\n",
              "      <td>157</td>\n",
              "      <td>0.003418</td>\n",
              "      <td>1.406491</td>\n",
              "      <td>0.785000</td>\n",
              "      <td>00:00</td>\n",
              "    </tr>\n",
              "    <tr>\n",
              "      <td>158</td>\n",
              "      <td>0.002955</td>\n",
              "      <td>1.413605</td>\n",
              "      <td>0.782000</td>\n",
              "      <td>00:00</td>\n",
              "    </tr>\n",
              "    <tr>\n",
              "      <td>159</td>\n",
              "      <td>0.002590</td>\n",
              "      <td>1.451069</td>\n",
              "      <td>0.776000</td>\n",
              "      <td>00:00</td>\n",
              "    </tr>\n",
              "    <tr>\n",
              "      <td>160</td>\n",
              "      <td>0.002630</td>\n",
              "      <td>1.434519</td>\n",
              "      <td>0.774500</td>\n",
              "      <td>00:00</td>\n",
              "    </tr>\n",
              "    <tr>\n",
              "      <td>161</td>\n",
              "      <td>0.003057</td>\n",
              "      <td>1.560528</td>\n",
              "      <td>0.781000</td>\n",
              "      <td>00:00</td>\n",
              "    </tr>\n",
              "    <tr>\n",
              "      <td>162</td>\n",
              "      <td>0.005384</td>\n",
              "      <td>1.446770</td>\n",
              "      <td>0.776500</td>\n",
              "      <td>00:00</td>\n",
              "    </tr>\n",
              "    <tr>\n",
              "      <td>163</td>\n",
              "      <td>0.010755</td>\n",
              "      <td>1.474555</td>\n",
              "      <td>0.779500</td>\n",
              "      <td>00:00</td>\n",
              "    </tr>\n",
              "    <tr>\n",
              "      <td>164</td>\n",
              "      <td>0.014627</td>\n",
              "      <td>1.608428</td>\n",
              "      <td>0.758000</td>\n",
              "      <td>00:00</td>\n",
              "    </tr>\n",
              "    <tr>\n",
              "      <td>165</td>\n",
              "      <td>0.019051</td>\n",
              "      <td>1.702814</td>\n",
              "      <td>0.773000</td>\n",
              "      <td>00:00</td>\n",
              "    </tr>\n",
              "    <tr>\n",
              "      <td>166</td>\n",
              "      <td>0.025313</td>\n",
              "      <td>1.637673</td>\n",
              "      <td>0.752500</td>\n",
              "      <td>00:00</td>\n",
              "    </tr>\n",
              "    <tr>\n",
              "      <td>167</td>\n",
              "      <td>0.031833</td>\n",
              "      <td>1.637371</td>\n",
              "      <td>0.758000</td>\n",
              "      <td>00:00</td>\n",
              "    </tr>\n",
              "    <tr>\n",
              "      <td>168</td>\n",
              "      <td>0.033937</td>\n",
              "      <td>1.532323</td>\n",
              "      <td>0.762500</td>\n",
              "      <td>00:00</td>\n",
              "    </tr>\n",
              "    <tr>\n",
              "      <td>169</td>\n",
              "      <td>0.034005</td>\n",
              "      <td>1.479585</td>\n",
              "      <td>0.760000</td>\n",
              "      <td>00:00</td>\n",
              "    </tr>\n",
              "    <tr>\n",
              "      <td>170</td>\n",
              "      <td>0.031105</td>\n",
              "      <td>1.517254</td>\n",
              "      <td>0.758500</td>\n",
              "      <td>00:00</td>\n",
              "    </tr>\n",
              "    <tr>\n",
              "      <td>171</td>\n",
              "      <td>0.028057</td>\n",
              "      <td>1.574157</td>\n",
              "      <td>0.753000</td>\n",
              "      <td>00:00</td>\n",
              "    </tr>\n",
              "    <tr>\n",
              "      <td>172</td>\n",
              "      <td>0.024870</td>\n",
              "      <td>1.533286</td>\n",
              "      <td>0.753000</td>\n",
              "      <td>00:00</td>\n",
              "    </tr>\n",
              "    <tr>\n",
              "      <td>173</td>\n",
              "      <td>0.021867</td>\n",
              "      <td>1.511481</td>\n",
              "      <td>0.758500</td>\n",
              "      <td>00:00</td>\n",
              "    </tr>\n",
              "    <tr>\n",
              "      <td>174</td>\n",
              "      <td>0.018723</td>\n",
              "      <td>1.466743</td>\n",
              "      <td>0.765000</td>\n",
              "      <td>00:00</td>\n",
              "    </tr>\n",
              "    <tr>\n",
              "      <td>175</td>\n",
              "      <td>0.015871</td>\n",
              "      <td>1.443796</td>\n",
              "      <td>0.767500</td>\n",
              "      <td>00:00</td>\n",
              "    </tr>\n",
              "    <tr>\n",
              "      <td>176</td>\n",
              "      <td>0.013442</td>\n",
              "      <td>1.445808</td>\n",
              "      <td>0.765000</td>\n",
              "      <td>00:00</td>\n",
              "    </tr>\n",
              "    <tr>\n",
              "      <td>177</td>\n",
              "      <td>0.011429</td>\n",
              "      <td>1.447376</td>\n",
              "      <td>0.765500</td>\n",
              "      <td>00:00</td>\n",
              "    </tr>\n",
              "    <tr>\n",
              "      <td>178</td>\n",
              "      <td>0.009702</td>\n",
              "      <td>1.466167</td>\n",
              "      <td>0.764000</td>\n",
              "      <td>00:00</td>\n",
              "    </tr>\n",
              "    <tr>\n",
              "      <td>179</td>\n",
              "      <td>0.008196</td>\n",
              "      <td>1.474523</td>\n",
              "      <td>0.762500</td>\n",
              "      <td>00:00</td>\n",
              "    </tr>\n",
              "    <tr>\n",
              "      <td>180</td>\n",
              "      <td>0.006914</td>\n",
              "      <td>1.476178</td>\n",
              "      <td>0.766000</td>\n",
              "      <td>00:00</td>\n",
              "    </tr>\n",
              "    <tr>\n",
              "      <td>181</td>\n",
              "      <td>0.005846</td>\n",
              "      <td>1.475279</td>\n",
              "      <td>0.765000</td>\n",
              "      <td>00:00</td>\n",
              "    </tr>\n",
              "    <tr>\n",
              "      <td>182</td>\n",
              "      <td>0.004979</td>\n",
              "      <td>1.477291</td>\n",
              "      <td>0.765000</td>\n",
              "      <td>00:00</td>\n",
              "    </tr>\n",
              "    <tr>\n",
              "      <td>183</td>\n",
              "      <td>0.004259</td>\n",
              "      <td>1.485441</td>\n",
              "      <td>0.765500</td>\n",
              "      <td>00:00</td>\n",
              "    </tr>\n",
              "    <tr>\n",
              "      <td>184</td>\n",
              "      <td>0.003605</td>\n",
              "      <td>1.484840</td>\n",
              "      <td>0.768000</td>\n",
              "      <td>00:00</td>\n",
              "    </tr>\n",
              "    <tr>\n",
              "      <td>185</td>\n",
              "      <td>0.003063</td>\n",
              "      <td>1.494278</td>\n",
              "      <td>0.761000</td>\n",
              "      <td>00:00</td>\n",
              "    </tr>\n",
              "    <tr>\n",
              "      <td>186</td>\n",
              "      <td>0.002611</td>\n",
              "      <td>1.501430</td>\n",
              "      <td>0.762500</td>\n",
              "      <td>00:00</td>\n",
              "    </tr>\n",
              "    <tr>\n",
              "      <td>187</td>\n",
              "      <td>0.002288</td>\n",
              "      <td>1.506023</td>\n",
              "      <td>0.763000</td>\n",
              "      <td>00:00</td>\n",
              "    </tr>\n",
              "    <tr>\n",
              "      <td>188</td>\n",
              "      <td>0.001985</td>\n",
              "      <td>1.505440</td>\n",
              "      <td>0.767000</td>\n",
              "      <td>00:00</td>\n",
              "    </tr>\n",
              "    <tr>\n",
              "      <td>189</td>\n",
              "      <td>0.001720</td>\n",
              "      <td>1.509839</td>\n",
              "      <td>0.767500</td>\n",
              "      <td>00:00</td>\n",
              "    </tr>\n",
              "    <tr>\n",
              "      <td>190</td>\n",
              "      <td>0.001529</td>\n",
              "      <td>1.542032</td>\n",
              "      <td>0.766000</td>\n",
              "      <td>00:00</td>\n",
              "    </tr>\n",
              "    <tr>\n",
              "      <td>191</td>\n",
              "      <td>0.001338</td>\n",
              "      <td>1.535116</td>\n",
              "      <td>0.762500</td>\n",
              "      <td>00:00</td>\n",
              "    </tr>\n",
              "    <tr>\n",
              "      <td>192</td>\n",
              "      <td>0.001601</td>\n",
              "      <td>1.607679</td>\n",
              "      <td>0.770000</td>\n",
              "      <td>00:00</td>\n",
              "    </tr>\n",
              "    <tr>\n",
              "      <td>193</td>\n",
              "      <td>0.002334</td>\n",
              "      <td>1.611704</td>\n",
              "      <td>0.761500</td>\n",
              "      <td>00:00</td>\n",
              "    </tr>\n",
              "    <tr>\n",
              "      <td>194</td>\n",
              "      <td>0.006673</td>\n",
              "      <td>2.054232</td>\n",
              "      <td>0.735000</td>\n",
              "      <td>00:00</td>\n",
              "    </tr>\n",
              "    <tr>\n",
              "      <td>195</td>\n",
              "      <td>0.016479</td>\n",
              "      <td>1.719301</td>\n",
              "      <td>0.759000</td>\n",
              "      <td>00:00</td>\n",
              "    </tr>\n",
              "    <tr>\n",
              "      <td>196</td>\n",
              "      <td>0.023587</td>\n",
              "      <td>1.854442</td>\n",
              "      <td>0.767500</td>\n",
              "      <td>00:00</td>\n",
              "    </tr>\n",
              "    <tr>\n",
              "      <td>197</td>\n",
              "      <td>0.027457</td>\n",
              "      <td>1.747137</td>\n",
              "      <td>0.755500</td>\n",
              "      <td>00:00</td>\n",
              "    </tr>\n",
              "    <tr>\n",
              "      <td>198</td>\n",
              "      <td>0.027213</td>\n",
              "      <td>1.755401</td>\n",
              "      <td>0.757000</td>\n",
              "      <td>00:00</td>\n",
              "    </tr>\n",
              "    <tr>\n",
              "      <td>199</td>\n",
              "      <td>0.025952</td>\n",
              "      <td>1.673409</td>\n",
              "      <td>0.757500</td>\n",
              "      <td>00:00</td>\n",
              "    </tr>\n",
              "    <tr>\n",
              "      <td>200</td>\n",
              "      <td>0.023245</td>\n",
              "      <td>1.563231</td>\n",
              "      <td>0.762000</td>\n",
              "      <td>00:00</td>\n",
              "    </tr>\n",
              "    <tr>\n",
              "      <td>201</td>\n",
              "      <td>0.020899</td>\n",
              "      <td>1.618006</td>\n",
              "      <td>0.761000</td>\n",
              "      <td>00:00</td>\n",
              "    </tr>\n",
              "    <tr>\n",
              "      <td>202</td>\n",
              "      <td>0.019001</td>\n",
              "      <td>1.599883</td>\n",
              "      <td>0.757000</td>\n",
              "      <td>00:00</td>\n",
              "    </tr>\n",
              "    <tr>\n",
              "      <td>203</td>\n",
              "      <td>0.017427</td>\n",
              "      <td>1.615576</td>\n",
              "      <td>0.772000</td>\n",
              "      <td>00:00</td>\n",
              "    </tr>\n",
              "    <tr>\n",
              "      <td>204</td>\n",
              "      <td>0.015204</td>\n",
              "      <td>1.613070</td>\n",
              "      <td>0.771500</td>\n",
              "      <td>00:00</td>\n",
              "    </tr>\n",
              "    <tr>\n",
              "      <td>205</td>\n",
              "      <td>0.013093</td>\n",
              "      <td>1.650392</td>\n",
              "      <td>0.776000</td>\n",
              "      <td>00:00</td>\n",
              "    </tr>\n",
              "    <tr>\n",
              "      <td>206</td>\n",
              "      <td>0.011765</td>\n",
              "      <td>1.708983</td>\n",
              "      <td>0.755000</td>\n",
              "      <td>00:00</td>\n",
              "    </tr>\n",
              "    <tr>\n",
              "      <td>207</td>\n",
              "      <td>0.010398</td>\n",
              "      <td>1.656704</td>\n",
              "      <td>0.763000</td>\n",
              "      <td>00:00</td>\n",
              "    </tr>\n",
              "    <tr>\n",
              "      <td>208</td>\n",
              "      <td>0.009094</td>\n",
              "      <td>1.677895</td>\n",
              "      <td>0.768000</td>\n",
              "      <td>00:00</td>\n",
              "    </tr>\n",
              "    <tr>\n",
              "      <td>209</td>\n",
              "      <td>0.007914</td>\n",
              "      <td>1.668290</td>\n",
              "      <td>0.767500</td>\n",
              "      <td>00:00</td>\n",
              "    </tr>\n",
              "    <tr>\n",
              "      <td>210</td>\n",
              "      <td>0.006788</td>\n",
              "      <td>1.685607</td>\n",
              "      <td>0.776000</td>\n",
              "      <td>00:00</td>\n",
              "    </tr>\n",
              "    <tr>\n",
              "      <td>211</td>\n",
              "      <td>0.006180</td>\n",
              "      <td>1.709075</td>\n",
              "      <td>0.772500</td>\n",
              "      <td>00:00</td>\n",
              "    </tr>\n",
              "    <tr>\n",
              "      <td>212</td>\n",
              "      <td>0.005732</td>\n",
              "      <td>1.674898</td>\n",
              "      <td>0.772000</td>\n",
              "      <td>00:00</td>\n",
              "    </tr>\n",
              "    <tr>\n",
              "      <td>213</td>\n",
              "      <td>0.005110</td>\n",
              "      <td>1.730198</td>\n",
              "      <td>0.771500</td>\n",
              "      <td>00:00</td>\n",
              "    </tr>\n",
              "    <tr>\n",
              "      <td>214</td>\n",
              "      <td>0.004596</td>\n",
              "      <td>1.707195</td>\n",
              "      <td>0.776000</td>\n",
              "      <td>00:00</td>\n",
              "    </tr>\n",
              "    <tr>\n",
              "      <td>215</td>\n",
              "      <td>0.004176</td>\n",
              "      <td>1.725347</td>\n",
              "      <td>0.775000</td>\n",
              "      <td>00:00</td>\n",
              "    </tr>\n",
              "    <tr>\n",
              "      <td>216</td>\n",
              "      <td>0.003831</td>\n",
              "      <td>1.772804</td>\n",
              "      <td>0.763000</td>\n",
              "      <td>00:00</td>\n",
              "    </tr>\n",
              "    <tr>\n",
              "      <td>217</td>\n",
              "      <td>0.003570</td>\n",
              "      <td>1.729062</td>\n",
              "      <td>0.770500</td>\n",
              "      <td>00:00</td>\n",
              "    </tr>\n",
              "    <tr>\n",
              "      <td>218</td>\n",
              "      <td>0.003169</td>\n",
              "      <td>1.747140</td>\n",
              "      <td>0.770500</td>\n",
              "      <td>00:00</td>\n",
              "    </tr>\n",
              "    <tr>\n",
              "      <td>219</td>\n",
              "      <td>0.003048</td>\n",
              "      <td>1.719751</td>\n",
              "      <td>0.768500</td>\n",
              "      <td>00:00</td>\n",
              "    </tr>\n",
              "    <tr>\n",
              "      <td>220</td>\n",
              "      <td>0.002911</td>\n",
              "      <td>1.747221</td>\n",
              "      <td>0.770000</td>\n",
              "      <td>00:00</td>\n",
              "    </tr>\n",
              "    <tr>\n",
              "      <td>221</td>\n",
              "      <td>0.002947</td>\n",
              "      <td>1.784572</td>\n",
              "      <td>0.769500</td>\n",
              "      <td>00:00</td>\n",
              "    </tr>\n",
              "    <tr>\n",
              "      <td>222</td>\n",
              "      <td>0.003418</td>\n",
              "      <td>1.865944</td>\n",
              "      <td>0.756500</td>\n",
              "      <td>00:00</td>\n",
              "    </tr>\n",
              "    <tr>\n",
              "      <td>223</td>\n",
              "      <td>0.005006</td>\n",
              "      <td>1.887143</td>\n",
              "      <td>0.761500</td>\n",
              "      <td>00:00</td>\n",
              "    </tr>\n",
              "    <tr>\n",
              "      <td>224</td>\n",
              "      <td>0.007005</td>\n",
              "      <td>1.821049</td>\n",
              "      <td>0.764500</td>\n",
              "      <td>00:00</td>\n",
              "    </tr>\n",
              "    <tr>\n",
              "      <td>225</td>\n",
              "      <td>0.008504</td>\n",
              "      <td>1.788257</td>\n",
              "      <td>0.769500</td>\n",
              "      <td>00:00</td>\n",
              "    </tr>\n",
              "    <tr>\n",
              "      <td>226</td>\n",
              "      <td>0.009391</td>\n",
              "      <td>1.988941</td>\n",
              "      <td>0.768000</td>\n",
              "      <td>00:00</td>\n",
              "    </tr>\n",
              "    <tr>\n",
              "      <td>227</td>\n",
              "      <td>0.010160</td>\n",
              "      <td>1.858728</td>\n",
              "      <td>0.763000</td>\n",
              "      <td>00:00</td>\n",
              "    </tr>\n",
              "    <tr>\n",
              "      <td>228</td>\n",
              "      <td>0.011486</td>\n",
              "      <td>1.721701</td>\n",
              "      <td>0.763500</td>\n",
              "      <td>00:00</td>\n",
              "    </tr>\n",
              "    <tr>\n",
              "      <td>229</td>\n",
              "      <td>0.012794</td>\n",
              "      <td>1.765397</td>\n",
              "      <td>0.768000</td>\n",
              "      <td>00:00</td>\n",
              "    </tr>\n",
              "    <tr>\n",
              "      <td>230</td>\n",
              "      <td>0.012759</td>\n",
              "      <td>1.854605</td>\n",
              "      <td>0.749000</td>\n",
              "      <td>00:00</td>\n",
              "    </tr>\n",
              "    <tr>\n",
              "      <td>231</td>\n",
              "      <td>0.012118</td>\n",
              "      <td>1.802910</td>\n",
              "      <td>0.766000</td>\n",
              "      <td>00:00</td>\n",
              "    </tr>\n",
              "    <tr>\n",
              "      <td>232</td>\n",
              "      <td>0.011607</td>\n",
              "      <td>1.776067</td>\n",
              "      <td>0.774500</td>\n",
              "      <td>00:00</td>\n",
              "    </tr>\n",
              "    <tr>\n",
              "      <td>233</td>\n",
              "      <td>0.010944</td>\n",
              "      <td>1.821608</td>\n",
              "      <td>0.762000</td>\n",
              "      <td>00:00</td>\n",
              "    </tr>\n",
              "    <tr>\n",
              "      <td>234</td>\n",
              "      <td>0.010857</td>\n",
              "      <td>1.938988</td>\n",
              "      <td>0.741000</td>\n",
              "      <td>00:00</td>\n",
              "    </tr>\n",
              "    <tr>\n",
              "      <td>235</td>\n",
              "      <td>0.010289</td>\n",
              "      <td>1.828991</td>\n",
              "      <td>0.767500</td>\n",
              "      <td>00:00</td>\n",
              "    </tr>\n",
              "    <tr>\n",
              "      <td>236</td>\n",
              "      <td>0.009914</td>\n",
              "      <td>1.800481</td>\n",
              "      <td>0.764000</td>\n",
              "      <td>00:00</td>\n",
              "    </tr>\n",
              "    <tr>\n",
              "      <td>237</td>\n",
              "      <td>0.009496</td>\n",
              "      <td>1.808667</td>\n",
              "      <td>0.761500</td>\n",
              "      <td>00:00</td>\n",
              "    </tr>\n",
              "    <tr>\n",
              "      <td>238</td>\n",
              "      <td>0.008516</td>\n",
              "      <td>1.755625</td>\n",
              "      <td>0.772000</td>\n",
              "      <td>00:00</td>\n",
              "    </tr>\n",
              "    <tr>\n",
              "      <td>239</td>\n",
              "      <td>0.007489</td>\n",
              "      <td>1.808827</td>\n",
              "      <td>0.764000</td>\n",
              "      <td>00:00</td>\n",
              "    </tr>\n",
              "    <tr>\n",
              "      <td>240</td>\n",
              "      <td>0.006628</td>\n",
              "      <td>1.831200</td>\n",
              "      <td>0.771000</td>\n",
              "      <td>00:00</td>\n",
              "    </tr>\n",
              "    <tr>\n",
              "      <td>241</td>\n",
              "      <td>0.006176</td>\n",
              "      <td>1.835125</td>\n",
              "      <td>0.769500</td>\n",
              "      <td>00:00</td>\n",
              "    </tr>\n",
              "    <tr>\n",
              "      <td>242</td>\n",
              "      <td>0.005537</td>\n",
              "      <td>1.851076</td>\n",
              "      <td>0.770500</td>\n",
              "      <td>00:00</td>\n",
              "    </tr>\n",
              "    <tr>\n",
              "      <td>243</td>\n",
              "      <td>0.005099</td>\n",
              "      <td>1.845315</td>\n",
              "      <td>0.763000</td>\n",
              "      <td>00:00</td>\n",
              "    </tr>\n",
              "    <tr>\n",
              "      <td>244</td>\n",
              "      <td>0.004737</td>\n",
              "      <td>1.908472</td>\n",
              "      <td>0.760500</td>\n",
              "      <td>00:00</td>\n",
              "    </tr>\n",
              "    <tr>\n",
              "      <td>245</td>\n",
              "      <td>0.004339</td>\n",
              "      <td>1.893706</td>\n",
              "      <td>0.771000</td>\n",
              "      <td>00:00</td>\n",
              "    </tr>\n",
              "    <tr>\n",
              "      <td>246</td>\n",
              "      <td>0.003870</td>\n",
              "      <td>1.876988</td>\n",
              "      <td>0.767500</td>\n",
              "      <td>00:00</td>\n",
              "    </tr>\n",
              "    <tr>\n",
              "      <td>247</td>\n",
              "      <td>0.003377</td>\n",
              "      <td>1.899210</td>\n",
              "      <td>0.760500</td>\n",
              "      <td>00:00</td>\n",
              "    </tr>\n",
              "    <tr>\n",
              "      <td>248</td>\n",
              "      <td>0.003163</td>\n",
              "      <td>1.889423</td>\n",
              "      <td>0.768000</td>\n",
              "      <td>00:00</td>\n",
              "    </tr>\n",
              "    <tr>\n",
              "      <td>249</td>\n",
              "      <td>0.002806</td>\n",
              "      <td>1.913078</td>\n",
              "      <td>0.771000</td>\n",
              "      <td>00:00</td>\n",
              "    </tr>\n",
              "    <tr>\n",
              "      <td>250</td>\n",
              "      <td>0.002677</td>\n",
              "      <td>1.939728</td>\n",
              "      <td>0.771500</td>\n",
              "      <td>00:00</td>\n",
              "    </tr>\n",
              "    <tr>\n",
              "      <td>251</td>\n",
              "      <td>0.002407</td>\n",
              "      <td>1.928383</td>\n",
              "      <td>0.769500</td>\n",
              "      <td>00:00</td>\n",
              "    </tr>\n",
              "    <tr>\n",
              "      <td>252</td>\n",
              "      <td>0.002275</td>\n",
              "      <td>1.921745</td>\n",
              "      <td>0.766500</td>\n",
              "      <td>00:00</td>\n",
              "    </tr>\n",
              "    <tr>\n",
              "      <td>253</td>\n",
              "      <td>0.002492</td>\n",
              "      <td>1.944178</td>\n",
              "      <td>0.773000</td>\n",
              "      <td>00:00</td>\n",
              "    </tr>\n",
              "    <tr>\n",
              "      <td>254</td>\n",
              "      <td>0.002569</td>\n",
              "      <td>1.882103</td>\n",
              "      <td>0.769000</td>\n",
              "      <td>00:00</td>\n",
              "    </tr>\n",
              "    <tr>\n",
              "      <td>255</td>\n",
              "      <td>0.003154</td>\n",
              "      <td>1.912910</td>\n",
              "      <td>0.767000</td>\n",
              "      <td>00:00</td>\n",
              "    </tr>\n",
              "    <tr>\n",
              "      <td>256</td>\n",
              "      <td>0.003530</td>\n",
              "      <td>2.015174</td>\n",
              "      <td>0.753500</td>\n",
              "      <td>00:00</td>\n",
              "    </tr>\n",
              "    <tr>\n",
              "      <td>257</td>\n",
              "      <td>0.004089</td>\n",
              "      <td>2.021003</td>\n",
              "      <td>0.760000</td>\n",
              "      <td>00:00</td>\n",
              "    </tr>\n",
              "    <tr>\n",
              "      <td>258</td>\n",
              "      <td>0.004455</td>\n",
              "      <td>2.001553</td>\n",
              "      <td>0.765500</td>\n",
              "      <td>00:00</td>\n",
              "    </tr>\n",
              "    <tr>\n",
              "      <td>259</td>\n",
              "      <td>0.004953</td>\n",
              "      <td>2.081678</td>\n",
              "      <td>0.758000</td>\n",
              "      <td>00:00</td>\n",
              "    </tr>\n",
              "    <tr>\n",
              "      <td>260</td>\n",
              "      <td>0.005050</td>\n",
              "      <td>2.042037</td>\n",
              "      <td>0.757500</td>\n",
              "      <td>00:00</td>\n",
              "    </tr>\n",
              "    <tr>\n",
              "      <td>261</td>\n",
              "      <td>0.005342</td>\n",
              "      <td>1.981749</td>\n",
              "      <td>0.755500</td>\n",
              "      <td>00:00</td>\n",
              "    </tr>\n",
              "    <tr>\n",
              "      <td>262</td>\n",
              "      <td>0.005557</td>\n",
              "      <td>1.952772</td>\n",
              "      <td>0.766500</td>\n",
              "      <td>00:00</td>\n",
              "    </tr>\n",
              "    <tr>\n",
              "      <td>263</td>\n",
              "      <td>0.005262</td>\n",
              "      <td>2.012238</td>\n",
              "      <td>0.777500</td>\n",
              "      <td>00:00</td>\n",
              "    </tr>\n",
              "    <tr>\n",
              "      <td>264</td>\n",
              "      <td>0.005073</td>\n",
              "      <td>1.989245</td>\n",
              "      <td>0.778000</td>\n",
              "      <td>00:00</td>\n",
              "    </tr>\n",
              "    <tr>\n",
              "      <td>265</td>\n",
              "      <td>0.004617</td>\n",
              "      <td>1.979275</td>\n",
              "      <td>0.772500</td>\n",
              "      <td>00:00</td>\n",
              "    </tr>\n",
              "    <tr>\n",
              "      <td>266</td>\n",
              "      <td>0.004496</td>\n",
              "      <td>1.976795</td>\n",
              "      <td>0.768000</td>\n",
              "      <td>00:00</td>\n",
              "    </tr>\n",
              "    <tr>\n",
              "      <td>267</td>\n",
              "      <td>0.004369</td>\n",
              "      <td>2.002938</td>\n",
              "      <td>0.771000</td>\n",
              "      <td>00:00</td>\n",
              "    </tr>\n",
              "    <tr>\n",
              "      <td>268</td>\n",
              "      <td>0.004006</td>\n",
              "      <td>1.998064</td>\n",
              "      <td>0.768000</td>\n",
              "      <td>00:00</td>\n",
              "    </tr>\n",
              "    <tr>\n",
              "      <td>269</td>\n",
              "      <td>0.003482</td>\n",
              "      <td>2.016009</td>\n",
              "      <td>0.764000</td>\n",
              "      <td>00:00</td>\n",
              "    </tr>\n",
              "    <tr>\n",
              "      <td>270</td>\n",
              "      <td>0.003044</td>\n",
              "      <td>2.047466</td>\n",
              "      <td>0.766000</td>\n",
              "      <td>00:00</td>\n",
              "    </tr>\n",
              "    <tr>\n",
              "      <td>271</td>\n",
              "      <td>0.002699</td>\n",
              "      <td>2.084493</td>\n",
              "      <td>0.765500</td>\n",
              "      <td>00:00</td>\n",
              "    </tr>\n",
              "    <tr>\n",
              "      <td>272</td>\n",
              "      <td>0.002386</td>\n",
              "      <td>2.065888</td>\n",
              "      <td>0.767500</td>\n",
              "      <td>00:00</td>\n",
              "    </tr>\n",
              "    <tr>\n",
              "      <td>273</td>\n",
              "      <td>0.002159</td>\n",
              "      <td>2.039491</td>\n",
              "      <td>0.767000</td>\n",
              "      <td>00:00</td>\n",
              "    </tr>\n",
              "    <tr>\n",
              "      <td>274</td>\n",
              "      <td>0.002200</td>\n",
              "      <td>2.130505</td>\n",
              "      <td>0.768500</td>\n",
              "      <td>00:00</td>\n",
              "    </tr>\n",
              "    <tr>\n",
              "      <td>275</td>\n",
              "      <td>0.002201</td>\n",
              "      <td>2.057956</td>\n",
              "      <td>0.774500</td>\n",
              "      <td>00:00</td>\n",
              "    </tr>\n",
              "    <tr>\n",
              "      <td>276</td>\n",
              "      <td>0.002054</td>\n",
              "      <td>2.057989</td>\n",
              "      <td>0.768500</td>\n",
              "      <td>00:00</td>\n",
              "    </tr>\n",
              "    <tr>\n",
              "      <td>277</td>\n",
              "      <td>0.001910</td>\n",
              "      <td>2.016729</td>\n",
              "      <td>0.769000</td>\n",
              "      <td>00:00</td>\n",
              "    </tr>\n",
              "    <tr>\n",
              "      <td>278</td>\n",
              "      <td>0.001786</td>\n",
              "      <td>2.050810</td>\n",
              "      <td>0.760500</td>\n",
              "      <td>00:00</td>\n",
              "    </tr>\n",
              "    <tr>\n",
              "      <td>279</td>\n",
              "      <td>0.002251</td>\n",
              "      <td>2.092942</td>\n",
              "      <td>0.762500</td>\n",
              "      <td>00:00</td>\n",
              "    </tr>\n",
              "    <tr>\n",
              "      <td>280</td>\n",
              "      <td>0.002081</td>\n",
              "      <td>2.096243</td>\n",
              "      <td>0.758500</td>\n",
              "      <td>00:00</td>\n",
              "    </tr>\n",
              "    <tr>\n",
              "      <td>281</td>\n",
              "      <td>0.001887</td>\n",
              "      <td>2.086012</td>\n",
              "      <td>0.751500</td>\n",
              "      <td>00:00</td>\n",
              "    </tr>\n",
              "    <tr>\n",
              "      <td>282</td>\n",
              "      <td>0.001808</td>\n",
              "      <td>2.079905</td>\n",
              "      <td>0.755000</td>\n",
              "      <td>00:00</td>\n",
              "    </tr>\n",
              "    <tr>\n",
              "      <td>283</td>\n",
              "      <td>0.002123</td>\n",
              "      <td>2.094115</td>\n",
              "      <td>0.762000</td>\n",
              "      <td>00:00</td>\n",
              "    </tr>\n",
              "    <tr>\n",
              "      <td>284</td>\n",
              "      <td>0.002818</td>\n",
              "      <td>2.115677</td>\n",
              "      <td>0.767000</td>\n",
              "      <td>00:00</td>\n",
              "    </tr>\n",
              "    <tr>\n",
              "      <td>285</td>\n",
              "      <td>0.003609</td>\n",
              "      <td>2.129604</td>\n",
              "      <td>0.760000</td>\n",
              "      <td>00:00</td>\n",
              "    </tr>\n",
              "    <tr>\n",
              "      <td>286</td>\n",
              "      <td>0.004238</td>\n",
              "      <td>2.294924</td>\n",
              "      <td>0.745000</td>\n",
              "      <td>00:00</td>\n",
              "    </tr>\n",
              "    <tr>\n",
              "      <td>287</td>\n",
              "      <td>0.004759</td>\n",
              "      <td>2.350344</td>\n",
              "      <td>0.746000</td>\n",
              "      <td>00:00</td>\n",
              "    </tr>\n",
              "    <tr>\n",
              "      <td>288</td>\n",
              "      <td>0.006125</td>\n",
              "      <td>2.183854</td>\n",
              "      <td>0.761000</td>\n",
              "      <td>00:00</td>\n",
              "    </tr>\n",
              "    <tr>\n",
              "      <td>289</td>\n",
              "      <td>0.006062</td>\n",
              "      <td>2.243685</td>\n",
              "      <td>0.772000</td>\n",
              "      <td>00:00</td>\n",
              "    </tr>\n",
              "    <tr>\n",
              "      <td>290</td>\n",
              "      <td>0.005871</td>\n",
              "      <td>2.344631</td>\n",
              "      <td>0.759500</td>\n",
              "      <td>00:00</td>\n",
              "    </tr>\n",
              "    <tr>\n",
              "      <td>291</td>\n",
              "      <td>0.005634</td>\n",
              "      <td>2.153573</td>\n",
              "      <td>0.767000</td>\n",
              "      <td>00:00</td>\n",
              "    </tr>\n",
              "    <tr>\n",
              "      <td>292</td>\n",
              "      <td>0.005063</td>\n",
              "      <td>2.130297</td>\n",
              "      <td>0.759500</td>\n",
              "      <td>00:00</td>\n",
              "    </tr>\n",
              "    <tr>\n",
              "      <td>293</td>\n",
              "      <td>0.004371</td>\n",
              "      <td>2.142269</td>\n",
              "      <td>0.761000</td>\n",
              "      <td>00:00</td>\n",
              "    </tr>\n",
              "    <tr>\n",
              "      <td>294</td>\n",
              "      <td>0.003836</td>\n",
              "      <td>2.108593</td>\n",
              "      <td>0.766000</td>\n",
              "      <td>00:00</td>\n",
              "    </tr>\n",
              "    <tr>\n",
              "      <td>295</td>\n",
              "      <td>0.003303</td>\n",
              "      <td>2.115685</td>\n",
              "      <td>0.761500</td>\n",
              "      <td>00:00</td>\n",
              "    </tr>\n",
              "    <tr>\n",
              "      <td>296</td>\n",
              "      <td>0.002995</td>\n",
              "      <td>2.121793</td>\n",
              "      <td>0.759500</td>\n",
              "      <td>00:00</td>\n",
              "    </tr>\n",
              "    <tr>\n",
              "      <td>297</td>\n",
              "      <td>0.002616</td>\n",
              "      <td>2.127654</td>\n",
              "      <td>0.757000</td>\n",
              "      <td>00:00</td>\n",
              "    </tr>\n",
              "    <tr>\n",
              "      <td>298</td>\n",
              "      <td>0.002256</td>\n",
              "      <td>2.130385</td>\n",
              "      <td>0.761500</td>\n",
              "      <td>00:00</td>\n",
              "    </tr>\n",
              "    <tr>\n",
              "      <td>299</td>\n",
              "      <td>0.001965</td>\n",
              "      <td>2.125646</td>\n",
              "      <td>0.763500</td>\n",
              "      <td>00:00</td>\n",
              "    </tr>\n",
              "    <tr>\n",
              "      <td>300</td>\n",
              "      <td>0.002380</td>\n",
              "      <td>2.213570</td>\n",
              "      <td>0.764500</td>\n",
              "      <td>00:00</td>\n",
              "    </tr>\n",
              "    <tr>\n",
              "      <td>301</td>\n",
              "      <td>0.002179</td>\n",
              "      <td>2.167706</td>\n",
              "      <td>0.766500</td>\n",
              "      <td>00:00</td>\n",
              "    </tr>\n",
              "    <tr>\n",
              "      <td>302</td>\n",
              "      <td>0.002052</td>\n",
              "      <td>2.165960</td>\n",
              "      <td>0.762500</td>\n",
              "      <td>00:00</td>\n",
              "    </tr>\n",
              "    <tr>\n",
              "      <td>303</td>\n",
              "      <td>0.001791</td>\n",
              "      <td>2.168684</td>\n",
              "      <td>0.760500</td>\n",
              "      <td>00:00</td>\n",
              "    </tr>\n",
              "    <tr>\n",
              "      <td>304</td>\n",
              "      <td>0.001657</td>\n",
              "      <td>2.185285</td>\n",
              "      <td>0.759500</td>\n",
              "      <td>00:00</td>\n",
              "    </tr>\n",
              "    <tr>\n",
              "      <td>305</td>\n",
              "      <td>0.001441</td>\n",
              "      <td>2.212701</td>\n",
              "      <td>0.753500</td>\n",
              "      <td>00:00</td>\n",
              "    </tr>\n",
              "    <tr>\n",
              "      <td>306</td>\n",
              "      <td>0.001245</td>\n",
              "      <td>2.191847</td>\n",
              "      <td>0.756500</td>\n",
              "      <td>00:00</td>\n",
              "    </tr>\n",
              "    <tr>\n",
              "      <td>307</td>\n",
              "      <td>0.001217</td>\n",
              "      <td>2.179896</td>\n",
              "      <td>0.761500</td>\n",
              "      <td>00:00</td>\n",
              "    </tr>\n",
              "    <tr>\n",
              "      <td>308</td>\n",
              "      <td>0.001260</td>\n",
              "      <td>2.232512</td>\n",
              "      <td>0.758500</td>\n",
              "      <td>00:00</td>\n",
              "    </tr>\n",
              "    <tr>\n",
              "      <td>309</td>\n",
              "      <td>0.001238</td>\n",
              "      <td>2.216605</td>\n",
              "      <td>0.760500</td>\n",
              "      <td>00:00</td>\n",
              "    </tr>\n",
              "    <tr>\n",
              "      <td>310</td>\n",
              "      <td>0.001146</td>\n",
              "      <td>2.189473</td>\n",
              "      <td>0.765500</td>\n",
              "      <td>00:00</td>\n",
              "    </tr>\n",
              "    <tr>\n",
              "      <td>311</td>\n",
              "      <td>0.001016</td>\n",
              "      <td>2.184427</td>\n",
              "      <td>0.759000</td>\n",
              "      <td>00:00</td>\n",
              "    </tr>\n",
              "    <tr>\n",
              "      <td>312</td>\n",
              "      <td>0.001035</td>\n",
              "      <td>2.241859</td>\n",
              "      <td>0.758000</td>\n",
              "      <td>00:00</td>\n",
              "    </tr>\n",
              "    <tr>\n",
              "      <td>313</td>\n",
              "      <td>0.001427</td>\n",
              "      <td>2.227411</td>\n",
              "      <td>0.765500</td>\n",
              "      <td>00:00</td>\n",
              "    </tr>\n",
              "    <tr>\n",
              "      <td>314</td>\n",
              "      <td>0.001715</td>\n",
              "      <td>2.272189</td>\n",
              "      <td>0.767000</td>\n",
              "      <td>00:00</td>\n",
              "    </tr>\n",
              "    <tr>\n",
              "      <td>315</td>\n",
              "      <td>0.001897</td>\n",
              "      <td>2.276518</td>\n",
              "      <td>0.760500</td>\n",
              "      <td>00:00</td>\n",
              "    </tr>\n",
              "    <tr>\n",
              "      <td>316</td>\n",
              "      <td>0.001781</td>\n",
              "      <td>2.255924</td>\n",
              "      <td>0.765500</td>\n",
              "      <td>00:00</td>\n",
              "    </tr>\n",
              "    <tr>\n",
              "      <td>317</td>\n",
              "      <td>0.001843</td>\n",
              "      <td>2.280517</td>\n",
              "      <td>0.752000</td>\n",
              "      <td>00:00</td>\n",
              "    </tr>\n",
              "    <tr>\n",
              "      <td>318</td>\n",
              "      <td>0.001659</td>\n",
              "      <td>2.313601</td>\n",
              "      <td>0.753000</td>\n",
              "      <td>00:00</td>\n",
              "    </tr>\n",
              "    <tr>\n",
              "      <td>319</td>\n",
              "      <td>0.001573</td>\n",
              "      <td>2.284640</td>\n",
              "      <td>0.760000</td>\n",
              "      <td>00:00</td>\n",
              "    </tr>\n",
              "    <tr>\n",
              "      <td>320</td>\n",
              "      <td>0.001445</td>\n",
              "      <td>2.249877</td>\n",
              "      <td>0.762000</td>\n",
              "      <td>00:00</td>\n",
              "    </tr>\n",
              "    <tr>\n",
              "      <td>321</td>\n",
              "      <td>0.001467</td>\n",
              "      <td>2.256407</td>\n",
              "      <td>0.758000</td>\n",
              "      <td>00:00</td>\n",
              "    </tr>\n",
              "    <tr>\n",
              "      <td>322</td>\n",
              "      <td>0.001692</td>\n",
              "      <td>2.246286</td>\n",
              "      <td>0.760500</td>\n",
              "      <td>00:00</td>\n",
              "    </tr>\n",
              "    <tr>\n",
              "      <td>323</td>\n",
              "      <td>0.001824</td>\n",
              "      <td>2.230991</td>\n",
              "      <td>0.757500</td>\n",
              "      <td>00:00</td>\n",
              "    </tr>\n",
              "    <tr>\n",
              "      <td>324</td>\n",
              "      <td>0.001818</td>\n",
              "      <td>2.285524</td>\n",
              "      <td>0.758000</td>\n",
              "      <td>00:00</td>\n",
              "    </tr>\n",
              "    <tr>\n",
              "      <td>325</td>\n",
              "      <td>0.001635</td>\n",
              "      <td>2.311339</td>\n",
              "      <td>0.760000</td>\n",
              "      <td>00:00</td>\n",
              "    </tr>\n",
              "    <tr>\n",
              "      <td>326</td>\n",
              "      <td>0.001516</td>\n",
              "      <td>2.268393</td>\n",
              "      <td>0.766000</td>\n",
              "      <td>00:00</td>\n",
              "    </tr>\n",
              "    <tr>\n",
              "      <td>327</td>\n",
              "      <td>0.001367</td>\n",
              "      <td>2.238068</td>\n",
              "      <td>0.765500</td>\n",
              "      <td>00:00</td>\n",
              "    </tr>\n",
              "    <tr>\n",
              "      <td>328</td>\n",
              "      <td>0.001187</td>\n",
              "      <td>2.256916</td>\n",
              "      <td>0.761500</td>\n",
              "      <td>00:00</td>\n",
              "    </tr>\n",
              "    <tr>\n",
              "      <td>329</td>\n",
              "      <td>0.001024</td>\n",
              "      <td>2.268322</td>\n",
              "      <td>0.759000</td>\n",
              "      <td>00:00</td>\n",
              "    </tr>\n",
              "    <tr>\n",
              "      <td>330</td>\n",
              "      <td>0.000883</td>\n",
              "      <td>2.258801</td>\n",
              "      <td>0.761000</td>\n",
              "      <td>00:00</td>\n",
              "    </tr>\n",
              "    <tr>\n",
              "      <td>331</td>\n",
              "      <td>0.000765</td>\n",
              "      <td>2.244894</td>\n",
              "      <td>0.764000</td>\n",
              "      <td>00:00</td>\n",
              "    </tr>\n",
              "    <tr>\n",
              "      <td>332</td>\n",
              "      <td>0.000715</td>\n",
              "      <td>2.255945</td>\n",
              "      <td>0.763000</td>\n",
              "      <td>00:00</td>\n",
              "    </tr>\n",
              "    <tr>\n",
              "      <td>333</td>\n",
              "      <td>0.000627</td>\n",
              "      <td>2.286583</td>\n",
              "      <td>0.764000</td>\n",
              "      <td>00:00</td>\n",
              "    </tr>\n",
              "    <tr>\n",
              "      <td>334</td>\n",
              "      <td>0.000541</td>\n",
              "      <td>2.276498</td>\n",
              "      <td>0.760000</td>\n",
              "      <td>00:00</td>\n",
              "    </tr>\n",
              "    <tr>\n",
              "      <td>335</td>\n",
              "      <td>0.000533</td>\n",
              "      <td>2.265143</td>\n",
              "      <td>0.762000</td>\n",
              "      <td>00:00</td>\n",
              "    </tr>\n",
              "    <tr>\n",
              "      <td>336</td>\n",
              "      <td>0.000455</td>\n",
              "      <td>2.254662</td>\n",
              "      <td>0.765500</td>\n",
              "      <td>00:00</td>\n",
              "    </tr>\n",
              "    <tr>\n",
              "      <td>337</td>\n",
              "      <td>0.000448</td>\n",
              "      <td>2.268511</td>\n",
              "      <td>0.764500</td>\n",
              "      <td>00:00</td>\n",
              "    </tr>\n",
              "    <tr>\n",
              "      <td>338</td>\n",
              "      <td>0.000404</td>\n",
              "      <td>2.305016</td>\n",
              "      <td>0.762000</td>\n",
              "      <td>00:00</td>\n",
              "    </tr>\n",
              "    <tr>\n",
              "      <td>339</td>\n",
              "      <td>0.000381</td>\n",
              "      <td>2.238691</td>\n",
              "      <td>0.764500</td>\n",
              "      <td>00:00</td>\n",
              "    </tr>\n",
              "    <tr>\n",
              "      <td>340</td>\n",
              "      <td>0.000352</td>\n",
              "      <td>2.230028</td>\n",
              "      <td>0.764500</td>\n",
              "      <td>00:00</td>\n",
              "    </tr>\n",
              "    <tr>\n",
              "      <td>341</td>\n",
              "      <td>0.000455</td>\n",
              "      <td>2.315363</td>\n",
              "      <td>0.760500</td>\n",
              "      <td>00:00</td>\n",
              "    </tr>\n",
              "    <tr>\n",
              "      <td>342</td>\n",
              "      <td>0.000487</td>\n",
              "      <td>2.316347</td>\n",
              "      <td>0.766500</td>\n",
              "      <td>00:00</td>\n",
              "    </tr>\n",
              "    <tr>\n",
              "      <td>343</td>\n",
              "      <td>0.000562</td>\n",
              "      <td>2.292414</td>\n",
              "      <td>0.764000</td>\n",
              "      <td>00:00</td>\n",
              "    </tr>\n",
              "    <tr>\n",
              "      <td>344</td>\n",
              "      <td>0.000611</td>\n",
              "      <td>2.366646</td>\n",
              "      <td>0.760000</td>\n",
              "      <td>00:00</td>\n",
              "    </tr>\n",
              "    <tr>\n",
              "      <td>345</td>\n",
              "      <td>0.000588</td>\n",
              "      <td>2.358059</td>\n",
              "      <td>0.766500</td>\n",
              "      <td>00:00</td>\n",
              "    </tr>\n",
              "    <tr>\n",
              "      <td>346</td>\n",
              "      <td>0.000600</td>\n",
              "      <td>2.305743</td>\n",
              "      <td>0.767500</td>\n",
              "      <td>00:00</td>\n",
              "    </tr>\n",
              "    <tr>\n",
              "      <td>347</td>\n",
              "      <td>0.000584</td>\n",
              "      <td>2.305312</td>\n",
              "      <td>0.756000</td>\n",
              "      <td>00:00</td>\n",
              "    </tr>\n",
              "    <tr>\n",
              "      <td>348</td>\n",
              "      <td>0.000654</td>\n",
              "      <td>2.273620</td>\n",
              "      <td>0.763000</td>\n",
              "      <td>00:00</td>\n",
              "    </tr>\n",
              "    <tr>\n",
              "      <td>349</td>\n",
              "      <td>0.000662</td>\n",
              "      <td>2.265474</td>\n",
              "      <td>0.760000</td>\n",
              "      <td>00:00</td>\n",
              "    </tr>\n",
              "    <tr>\n",
              "      <td>350</td>\n",
              "      <td>0.000599</td>\n",
              "      <td>2.266381</td>\n",
              "      <td>0.765500</td>\n",
              "      <td>00:00</td>\n",
              "    </tr>\n",
              "    <tr>\n",
              "      <td>351</td>\n",
              "      <td>0.000612</td>\n",
              "      <td>2.271964</td>\n",
              "      <td>0.768500</td>\n",
              "      <td>00:00</td>\n",
              "    </tr>\n",
              "    <tr>\n",
              "      <td>352</td>\n",
              "      <td>0.000538</td>\n",
              "      <td>2.256359</td>\n",
              "      <td>0.762000</td>\n",
              "      <td>00:00</td>\n",
              "    </tr>\n",
              "    <tr>\n",
              "      <td>353</td>\n",
              "      <td>0.000479</td>\n",
              "      <td>2.267761</td>\n",
              "      <td>0.762500</td>\n",
              "      <td>00:00</td>\n",
              "    </tr>\n",
              "    <tr>\n",
              "      <td>354</td>\n",
              "      <td>0.000421</td>\n",
              "      <td>2.274774</td>\n",
              "      <td>0.766500</td>\n",
              "      <td>00:00</td>\n",
              "    </tr>\n",
              "    <tr>\n",
              "      <td>355</td>\n",
              "      <td>0.000488</td>\n",
              "      <td>2.284385</td>\n",
              "      <td>0.761000</td>\n",
              "      <td>00:00</td>\n",
              "    </tr>\n",
              "    <tr>\n",
              "      <td>356</td>\n",
              "      <td>0.000526</td>\n",
              "      <td>2.287174</td>\n",
              "      <td>0.765000</td>\n",
              "      <td>00:00</td>\n",
              "    </tr>\n",
              "    <tr>\n",
              "      <td>357</td>\n",
              "      <td>0.000618</td>\n",
              "      <td>2.376679</td>\n",
              "      <td>0.766000</td>\n",
              "      <td>00:00</td>\n",
              "    </tr>\n",
              "    <tr>\n",
              "      <td>358</td>\n",
              "      <td>0.000752</td>\n",
              "      <td>2.382369</td>\n",
              "      <td>0.756500</td>\n",
              "      <td>00:00</td>\n",
              "    </tr>\n",
              "    <tr>\n",
              "      <td>359</td>\n",
              "      <td>0.000861</td>\n",
              "      <td>2.353835</td>\n",
              "      <td>0.761000</td>\n",
              "      <td>00:00</td>\n",
              "    </tr>\n",
              "    <tr>\n",
              "      <td>360</td>\n",
              "      <td>0.000988</td>\n",
              "      <td>2.309310</td>\n",
              "      <td>0.764500</td>\n",
              "      <td>00:00</td>\n",
              "    </tr>\n",
              "    <tr>\n",
              "      <td>361</td>\n",
              "      <td>0.000985</td>\n",
              "      <td>2.317892</td>\n",
              "      <td>0.772000</td>\n",
              "      <td>00:00</td>\n",
              "    </tr>\n",
              "    <tr>\n",
              "      <td>362</td>\n",
              "      <td>0.000995</td>\n",
              "      <td>2.313245</td>\n",
              "      <td>0.772000</td>\n",
              "      <td>00:00</td>\n",
              "    </tr>\n",
              "    <tr>\n",
              "      <td>363</td>\n",
              "      <td>0.000936</td>\n",
              "      <td>2.306607</td>\n",
              "      <td>0.767500</td>\n",
              "      <td>00:00</td>\n",
              "    </tr>\n",
              "    <tr>\n",
              "      <td>364</td>\n",
              "      <td>0.001193</td>\n",
              "      <td>2.262535</td>\n",
              "      <td>0.764500</td>\n",
              "      <td>00:00</td>\n",
              "    </tr>\n",
              "    <tr>\n",
              "      <td>365</td>\n",
              "      <td>0.001158</td>\n",
              "      <td>2.274571</td>\n",
              "      <td>0.761000</td>\n",
              "      <td>00:00</td>\n",
              "    </tr>\n",
              "    <tr>\n",
              "      <td>366</td>\n",
              "      <td>0.001358</td>\n",
              "      <td>2.323021</td>\n",
              "      <td>0.763500</td>\n",
              "      <td>00:00</td>\n",
              "    </tr>\n",
              "    <tr>\n",
              "      <td>367</td>\n",
              "      <td>0.001352</td>\n",
              "      <td>2.334339</td>\n",
              "      <td>0.767500</td>\n",
              "      <td>00:00</td>\n",
              "    </tr>\n",
              "    <tr>\n",
              "      <td>368</td>\n",
              "      <td>0.001352</td>\n",
              "      <td>2.350872</td>\n",
              "      <td>0.758000</td>\n",
              "      <td>00:00</td>\n",
              "    </tr>\n",
              "    <tr>\n",
              "      <td>369</td>\n",
              "      <td>0.001281</td>\n",
              "      <td>2.337432</td>\n",
              "      <td>0.767500</td>\n",
              "      <td>00:00</td>\n",
              "    </tr>\n",
              "    <tr>\n",
              "      <td>370</td>\n",
              "      <td>0.001159</td>\n",
              "      <td>2.323710</td>\n",
              "      <td>0.767500</td>\n",
              "      <td>00:00</td>\n",
              "    </tr>\n",
              "    <tr>\n",
              "      <td>371</td>\n",
              "      <td>0.000998</td>\n",
              "      <td>2.331855</td>\n",
              "      <td>0.768500</td>\n",
              "      <td>00:00</td>\n",
              "    </tr>\n",
              "    <tr>\n",
              "      <td>372</td>\n",
              "      <td>0.000868</td>\n",
              "      <td>2.346827</td>\n",
              "      <td>0.767500</td>\n",
              "      <td>00:00</td>\n",
              "    </tr>\n",
              "    <tr>\n",
              "      <td>373</td>\n",
              "      <td>0.000750</td>\n",
              "      <td>2.345364</td>\n",
              "      <td>0.767500</td>\n",
              "      <td>00:00</td>\n",
              "    </tr>\n",
              "    <tr>\n",
              "      <td>374</td>\n",
              "      <td>0.000705</td>\n",
              "      <td>2.351294</td>\n",
              "      <td>0.764000</td>\n",
              "      <td>00:00</td>\n",
              "    </tr>\n",
              "    <tr>\n",
              "      <td>375</td>\n",
              "      <td>0.000620</td>\n",
              "      <td>2.383601</td>\n",
              "      <td>0.766500</td>\n",
              "      <td>00:00</td>\n",
              "    </tr>\n",
              "    <tr>\n",
              "      <td>376</td>\n",
              "      <td>0.000569</td>\n",
              "      <td>2.352697</td>\n",
              "      <td>0.764500</td>\n",
              "      <td>00:00</td>\n",
              "    </tr>\n",
              "    <tr>\n",
              "      <td>377</td>\n",
              "      <td>0.000511</td>\n",
              "      <td>2.300002</td>\n",
              "      <td>0.766000</td>\n",
              "      <td>00:00</td>\n",
              "    </tr>\n",
              "    <tr>\n",
              "      <td>378</td>\n",
              "      <td>0.000449</td>\n",
              "      <td>2.287758</td>\n",
              "      <td>0.766500</td>\n",
              "      <td>00:00</td>\n",
              "    </tr>\n",
              "    <tr>\n",
              "      <td>379</td>\n",
              "      <td>0.000492</td>\n",
              "      <td>2.278273</td>\n",
              "      <td>0.768500</td>\n",
              "      <td>00:00</td>\n",
              "    </tr>\n",
              "    <tr>\n",
              "      <td>380</td>\n",
              "      <td>0.000440</td>\n",
              "      <td>2.301869</td>\n",
              "      <td>0.771000</td>\n",
              "      <td>00:00</td>\n",
              "    </tr>\n",
              "    <tr>\n",
              "      <td>381</td>\n",
              "      <td>0.000388</td>\n",
              "      <td>2.316868</td>\n",
              "      <td>0.775000</td>\n",
              "      <td>00:00</td>\n",
              "    </tr>\n",
              "    <tr>\n",
              "      <td>382</td>\n",
              "      <td>0.000341</td>\n",
              "      <td>2.332406</td>\n",
              "      <td>0.774000</td>\n",
              "      <td>00:00</td>\n",
              "    </tr>\n",
              "    <tr>\n",
              "      <td>383</td>\n",
              "      <td>0.000317</td>\n",
              "      <td>2.316772</td>\n",
              "      <td>0.774500</td>\n",
              "      <td>00:00</td>\n",
              "    </tr>\n",
              "    <tr>\n",
              "      <td>384</td>\n",
              "      <td>0.000281</td>\n",
              "      <td>2.313000</td>\n",
              "      <td>0.772000</td>\n",
              "      <td>00:00</td>\n",
              "    </tr>\n",
              "    <tr>\n",
              "      <td>385</td>\n",
              "      <td>0.000244</td>\n",
              "      <td>2.313629</td>\n",
              "      <td>0.770000</td>\n",
              "      <td>00:00</td>\n",
              "    </tr>\n",
              "    <tr>\n",
              "      <td>386</td>\n",
              "      <td>0.000213</td>\n",
              "      <td>2.316105</td>\n",
              "      <td>0.770000</td>\n",
              "      <td>00:00</td>\n",
              "    </tr>\n",
              "    <tr>\n",
              "      <td>387</td>\n",
              "      <td>0.000275</td>\n",
              "      <td>2.310805</td>\n",
              "      <td>0.772500</td>\n",
              "      <td>00:00</td>\n",
              "    </tr>\n",
              "    <tr>\n",
              "      <td>388</td>\n",
              "      <td>0.000239</td>\n",
              "      <td>2.314135</td>\n",
              "      <td>0.775000</td>\n",
              "      <td>00:00</td>\n",
              "    </tr>\n",
              "    <tr>\n",
              "      <td>389</td>\n",
              "      <td>0.000209</td>\n",
              "      <td>2.310144</td>\n",
              "      <td>0.774500</td>\n",
              "      <td>00:00</td>\n",
              "    </tr>\n",
              "    <tr>\n",
              "      <td>390</td>\n",
              "      <td>0.000198</td>\n",
              "      <td>2.304718</td>\n",
              "      <td>0.774500</td>\n",
              "      <td>00:00</td>\n",
              "    </tr>\n",
              "    <tr>\n",
              "      <td>391</td>\n",
              "      <td>0.000221</td>\n",
              "      <td>2.305677</td>\n",
              "      <td>0.774000</td>\n",
              "      <td>00:00</td>\n",
              "    </tr>\n",
              "    <tr>\n",
              "      <td>392</td>\n",
              "      <td>0.000279</td>\n",
              "      <td>2.299277</td>\n",
              "      <td>0.774000</td>\n",
              "      <td>00:00</td>\n",
              "    </tr>\n",
              "    <tr>\n",
              "      <td>393</td>\n",
              "      <td>0.000287</td>\n",
              "      <td>2.298560</td>\n",
              "      <td>0.778000</td>\n",
              "      <td>00:00</td>\n",
              "    </tr>\n",
              "    <tr>\n",
              "      <td>394</td>\n",
              "      <td>0.000264</td>\n",
              "      <td>2.292806</td>\n",
              "      <td>0.776000</td>\n",
              "      <td>00:00</td>\n",
              "    </tr>\n",
              "    <tr>\n",
              "      <td>395</td>\n",
              "      <td>0.000266</td>\n",
              "      <td>2.279765</td>\n",
              "      <td>0.774500</td>\n",
              "      <td>00:00</td>\n",
              "    </tr>\n",
              "    <tr>\n",
              "      <td>396</td>\n",
              "      <td>0.000255</td>\n",
              "      <td>2.270350</td>\n",
              "      <td>0.768000</td>\n",
              "      <td>00:00</td>\n",
              "    </tr>\n",
              "    <tr>\n",
              "      <td>397</td>\n",
              "      <td>0.000282</td>\n",
              "      <td>2.285939</td>\n",
              "      <td>0.771000</td>\n",
              "      <td>00:00</td>\n",
              "    </tr>\n",
              "    <tr>\n",
              "      <td>398</td>\n",
              "      <td>0.000247</td>\n",
              "      <td>2.300084</td>\n",
              "      <td>0.772000</td>\n",
              "      <td>00:00</td>\n",
              "    </tr>\n",
              "    <tr>\n",
              "      <td>399</td>\n",
              "      <td>0.000254</td>\n",
              "      <td>2.314394</td>\n",
              "      <td>0.770500</td>\n",
              "      <td>00:00</td>\n",
              "    </tr>\n",
              "    <tr>\n",
              "      <td>400</td>\n",
              "      <td>0.000397</td>\n",
              "      <td>2.321889</td>\n",
              "      <td>0.768000</td>\n",
              "      <td>00:00</td>\n",
              "    </tr>\n",
              "    <tr>\n",
              "      <td>401</td>\n",
              "      <td>0.000362</td>\n",
              "      <td>2.324375</td>\n",
              "      <td>0.770000</td>\n",
              "      <td>00:00</td>\n",
              "    </tr>\n",
              "    <tr>\n",
              "      <td>402</td>\n",
              "      <td>0.000315</td>\n",
              "      <td>2.334281</td>\n",
              "      <td>0.768500</td>\n",
              "      <td>00:00</td>\n",
              "    </tr>\n",
              "    <tr>\n",
              "      <td>403</td>\n",
              "      <td>0.000386</td>\n",
              "      <td>2.329027</td>\n",
              "      <td>0.767500</td>\n",
              "      <td>00:00</td>\n",
              "    </tr>\n",
              "    <tr>\n",
              "      <td>404</td>\n",
              "      <td>0.000349</td>\n",
              "      <td>2.321218</td>\n",
              "      <td>0.770500</td>\n",
              "      <td>00:00</td>\n",
              "    </tr>\n",
              "    <tr>\n",
              "      <td>405</td>\n",
              "      <td>0.000310</td>\n",
              "      <td>2.313028</td>\n",
              "      <td>0.769500</td>\n",
              "      <td>00:00</td>\n",
              "    </tr>\n",
              "    <tr>\n",
              "      <td>406</td>\n",
              "      <td>0.000291</td>\n",
              "      <td>2.304327</td>\n",
              "      <td>0.774000</td>\n",
              "      <td>00:00</td>\n",
              "    </tr>\n",
              "    <tr>\n",
              "      <td>407</td>\n",
              "      <td>0.000287</td>\n",
              "      <td>2.303401</td>\n",
              "      <td>0.772500</td>\n",
              "      <td>00:00</td>\n",
              "    </tr>\n",
              "    <tr>\n",
              "      <td>408</td>\n",
              "      <td>0.000362</td>\n",
              "      <td>2.297604</td>\n",
              "      <td>0.773500</td>\n",
              "      <td>00:00</td>\n",
              "    </tr>\n",
              "    <tr>\n",
              "      <td>409</td>\n",
              "      <td>0.000396</td>\n",
              "      <td>2.299621</td>\n",
              "      <td>0.772500</td>\n",
              "      <td>00:00</td>\n",
              "    </tr>\n",
              "    <tr>\n",
              "      <td>410</td>\n",
              "      <td>0.000541</td>\n",
              "      <td>2.323018</td>\n",
              "      <td>0.774000</td>\n",
              "      <td>00:00</td>\n",
              "    </tr>\n",
              "    <tr>\n",
              "      <td>411</td>\n",
              "      <td>0.000472</td>\n",
              "      <td>2.343113</td>\n",
              "      <td>0.771500</td>\n",
              "      <td>00:00</td>\n",
              "    </tr>\n",
              "    <tr>\n",
              "      <td>412</td>\n",
              "      <td>0.000433</td>\n",
              "      <td>2.356334</td>\n",
              "      <td>0.770000</td>\n",
              "      <td>00:00</td>\n",
              "    </tr>\n",
              "    <tr>\n",
              "      <td>413</td>\n",
              "      <td>0.000440</td>\n",
              "      <td>2.353289</td>\n",
              "      <td>0.768500</td>\n",
              "      <td>00:00</td>\n",
              "    </tr>\n",
              "    <tr>\n",
              "      <td>414</td>\n",
              "      <td>0.000380</td>\n",
              "      <td>2.347136</td>\n",
              "      <td>0.769500</td>\n",
              "      <td>00:00</td>\n",
              "    </tr>\n",
              "    <tr>\n",
              "      <td>415</td>\n",
              "      <td>0.000348</td>\n",
              "      <td>2.341472</td>\n",
              "      <td>0.770500</td>\n",
              "      <td>00:00</td>\n",
              "    </tr>\n",
              "    <tr>\n",
              "      <td>416</td>\n",
              "      <td>0.000300</td>\n",
              "      <td>2.335144</td>\n",
              "      <td>0.772500</td>\n",
              "      <td>00:00</td>\n",
              "    </tr>\n",
              "    <tr>\n",
              "      <td>417</td>\n",
              "      <td>0.000301</td>\n",
              "      <td>2.333653</td>\n",
              "      <td>0.774000</td>\n",
              "      <td>00:00</td>\n",
              "    </tr>\n",
              "    <tr>\n",
              "      <td>418</td>\n",
              "      <td>0.000379</td>\n",
              "      <td>2.335779</td>\n",
              "      <td>0.775500</td>\n",
              "      <td>00:00</td>\n",
              "    </tr>\n",
              "    <tr>\n",
              "      <td>419</td>\n",
              "      <td>0.000323</td>\n",
              "      <td>2.341099</td>\n",
              "      <td>0.773500</td>\n",
              "      <td>00:00</td>\n",
              "    </tr>\n",
              "    <tr>\n",
              "      <td>420</td>\n",
              "      <td>0.000282</td>\n",
              "      <td>2.343450</td>\n",
              "      <td>0.773000</td>\n",
              "      <td>00:00</td>\n",
              "    </tr>\n",
              "    <tr>\n",
              "      <td>421</td>\n",
              "      <td>0.000278</td>\n",
              "      <td>2.350482</td>\n",
              "      <td>0.771500</td>\n",
              "      <td>00:00</td>\n",
              "    </tr>\n",
              "    <tr>\n",
              "      <td>422</td>\n",
              "      <td>0.000245</td>\n",
              "      <td>2.347219</td>\n",
              "      <td>0.773000</td>\n",
              "      <td>00:00</td>\n",
              "    </tr>\n",
              "    <tr>\n",
              "      <td>423</td>\n",
              "      <td>0.000319</td>\n",
              "      <td>2.332883</td>\n",
              "      <td>0.775000</td>\n",
              "      <td>00:00</td>\n",
              "    </tr>\n",
              "    <tr>\n",
              "      <td>424</td>\n",
              "      <td>0.000289</td>\n",
              "      <td>2.321584</td>\n",
              "      <td>0.778500</td>\n",
              "      <td>00:00</td>\n",
              "    </tr>\n",
              "    <tr>\n",
              "      <td>425</td>\n",
              "      <td>0.000247</td>\n",
              "      <td>2.323962</td>\n",
              "      <td>0.778000</td>\n",
              "      <td>00:00</td>\n",
              "    </tr>\n",
              "    <tr>\n",
              "      <td>426</td>\n",
              "      <td>0.000249</td>\n",
              "      <td>2.328135</td>\n",
              "      <td>0.777000</td>\n",
              "      <td>00:00</td>\n",
              "    </tr>\n",
              "    <tr>\n",
              "      <td>427</td>\n",
              "      <td>0.000212</td>\n",
              "      <td>2.332567</td>\n",
              "      <td>0.775500</td>\n",
              "      <td>00:00</td>\n",
              "    </tr>\n",
              "    <tr>\n",
              "      <td>428</td>\n",
              "      <td>0.000241</td>\n",
              "      <td>2.350950</td>\n",
              "      <td>0.773500</td>\n",
              "      <td>00:00</td>\n",
              "    </tr>\n",
              "    <tr>\n",
              "      <td>429</td>\n",
              "      <td>0.000220</td>\n",
              "      <td>2.363711</td>\n",
              "      <td>0.771500</td>\n",
              "      <td>00:00</td>\n",
              "    </tr>\n",
              "    <tr>\n",
              "      <td>430</td>\n",
              "      <td>0.000217</td>\n",
              "      <td>2.372247</td>\n",
              "      <td>0.771500</td>\n",
              "      <td>00:00</td>\n",
              "    </tr>\n",
              "    <tr>\n",
              "      <td>431</td>\n",
              "      <td>0.000188</td>\n",
              "      <td>2.372983</td>\n",
              "      <td>0.768500</td>\n",
              "      <td>00:00</td>\n",
              "    </tr>\n",
              "    <tr>\n",
              "      <td>432</td>\n",
              "      <td>0.000164</td>\n",
              "      <td>2.384863</td>\n",
              "      <td>0.768500</td>\n",
              "      <td>00:00</td>\n",
              "    </tr>\n",
              "    <tr>\n",
              "      <td>433</td>\n",
              "      <td>0.000150</td>\n",
              "      <td>2.381069</td>\n",
              "      <td>0.766000</td>\n",
              "      <td>00:00</td>\n",
              "    </tr>\n",
              "    <tr>\n",
              "      <td>434</td>\n",
              "      <td>0.000131</td>\n",
              "      <td>2.376224</td>\n",
              "      <td>0.766000</td>\n",
              "      <td>00:00</td>\n",
              "    </tr>\n",
              "    <tr>\n",
              "      <td>435</td>\n",
              "      <td>0.000118</td>\n",
              "      <td>2.375336</td>\n",
              "      <td>0.766000</td>\n",
              "      <td>00:00</td>\n",
              "    </tr>\n",
              "    <tr>\n",
              "      <td>436</td>\n",
              "      <td>0.000109</td>\n",
              "      <td>2.380844</td>\n",
              "      <td>0.766000</td>\n",
              "      <td>00:00</td>\n",
              "    </tr>\n",
              "    <tr>\n",
              "      <td>437</td>\n",
              "      <td>0.000099</td>\n",
              "      <td>2.372210</td>\n",
              "      <td>0.765000</td>\n",
              "      <td>00:00</td>\n",
              "    </tr>\n",
              "    <tr>\n",
              "      <td>438</td>\n",
              "      <td>0.000089</td>\n",
              "      <td>2.369386</td>\n",
              "      <td>0.764500</td>\n",
              "      <td>00:00</td>\n",
              "    </tr>\n",
              "    <tr>\n",
              "      <td>439</td>\n",
              "      <td>0.000082</td>\n",
              "      <td>2.365327</td>\n",
              "      <td>0.764500</td>\n",
              "      <td>00:00</td>\n",
              "    </tr>\n",
              "    <tr>\n",
              "      <td>440</td>\n",
              "      <td>0.000143</td>\n",
              "      <td>2.361902</td>\n",
              "      <td>0.765000</td>\n",
              "      <td>00:00</td>\n",
              "    </tr>\n",
              "    <tr>\n",
              "      <td>441</td>\n",
              "      <td>0.000126</td>\n",
              "      <td>2.364427</td>\n",
              "      <td>0.764000</td>\n",
              "      <td>00:00</td>\n",
              "    </tr>\n",
              "    <tr>\n",
              "      <td>442</td>\n",
              "      <td>0.000122</td>\n",
              "      <td>2.367439</td>\n",
              "      <td>0.763000</td>\n",
              "      <td>00:00</td>\n",
              "    </tr>\n",
              "    <tr>\n",
              "      <td>443</td>\n",
              "      <td>0.000334</td>\n",
              "      <td>2.363173</td>\n",
              "      <td>0.763000</td>\n",
              "      <td>00:00</td>\n",
              "    </tr>\n",
              "    <tr>\n",
              "      <td>444</td>\n",
              "      <td>0.000327</td>\n",
              "      <td>2.363598</td>\n",
              "      <td>0.766000</td>\n",
              "      <td>00:00</td>\n",
              "    </tr>\n",
              "    <tr>\n",
              "      <td>445</td>\n",
              "      <td>0.000349</td>\n",
              "      <td>2.359590</td>\n",
              "      <td>0.767500</td>\n",
              "      <td>00:00</td>\n",
              "    </tr>\n",
              "    <tr>\n",
              "      <td>446</td>\n",
              "      <td>0.000303</td>\n",
              "      <td>2.359201</td>\n",
              "      <td>0.768000</td>\n",
              "      <td>00:00</td>\n",
              "    </tr>\n",
              "    <tr>\n",
              "      <td>447</td>\n",
              "      <td>0.000259</td>\n",
              "      <td>2.358256</td>\n",
              "      <td>0.766500</td>\n",
              "      <td>00:00</td>\n",
              "    </tr>\n",
              "    <tr>\n",
              "      <td>448</td>\n",
              "      <td>0.000226</td>\n",
              "      <td>2.351314</td>\n",
              "      <td>0.768500</td>\n",
              "      <td>00:00</td>\n",
              "    </tr>\n",
              "    <tr>\n",
              "      <td>449</td>\n",
              "      <td>0.000198</td>\n",
              "      <td>2.349252</td>\n",
              "      <td>0.768000</td>\n",
              "      <td>00:00</td>\n",
              "    </tr>\n",
              "    <tr>\n",
              "      <td>450</td>\n",
              "      <td>0.000175</td>\n",
              "      <td>2.350453</td>\n",
              "      <td>0.766500</td>\n",
              "      <td>00:00</td>\n",
              "    </tr>\n",
              "    <tr>\n",
              "      <td>451</td>\n",
              "      <td>0.000161</td>\n",
              "      <td>2.349208</td>\n",
              "      <td>0.767000</td>\n",
              "      <td>00:00</td>\n",
              "    </tr>\n",
              "    <tr>\n",
              "      <td>452</td>\n",
              "      <td>0.000154</td>\n",
              "      <td>2.346414</td>\n",
              "      <td>0.767000</td>\n",
              "      <td>00:00</td>\n",
              "    </tr>\n",
              "    <tr>\n",
              "      <td>453</td>\n",
              "      <td>0.000132</td>\n",
              "      <td>2.351271</td>\n",
              "      <td>0.768500</td>\n",
              "      <td>00:00</td>\n",
              "    </tr>\n",
              "    <tr>\n",
              "      <td>454</td>\n",
              "      <td>0.000252</td>\n",
              "      <td>2.349575</td>\n",
              "      <td>0.767000</td>\n",
              "      <td>00:00</td>\n",
              "    </tr>\n",
              "    <tr>\n",
              "      <td>455</td>\n",
              "      <td>0.000214</td>\n",
              "      <td>2.348863</td>\n",
              "      <td>0.767000</td>\n",
              "      <td>00:00</td>\n",
              "    </tr>\n",
              "    <tr>\n",
              "      <td>456</td>\n",
              "      <td>0.000230</td>\n",
              "      <td>2.350897</td>\n",
              "      <td>0.766500</td>\n",
              "      <td>00:00</td>\n",
              "    </tr>\n",
              "    <tr>\n",
              "      <td>457</td>\n",
              "      <td>0.000196</td>\n",
              "      <td>2.344887</td>\n",
              "      <td>0.766500</td>\n",
              "      <td>00:00</td>\n",
              "    </tr>\n",
              "    <tr>\n",
              "      <td>458</td>\n",
              "      <td>0.000166</td>\n",
              "      <td>2.348267</td>\n",
              "      <td>0.766000</td>\n",
              "      <td>00:00</td>\n",
              "    </tr>\n",
              "    <tr>\n",
              "      <td>459</td>\n",
              "      <td>0.000358</td>\n",
              "      <td>2.354791</td>\n",
              "      <td>0.764500</td>\n",
              "      <td>00:00</td>\n",
              "    </tr>\n",
              "    <tr>\n",
              "      <td>460</td>\n",
              "      <td>0.000304</td>\n",
              "      <td>2.349477</td>\n",
              "      <td>0.764000</td>\n",
              "      <td>00:00</td>\n",
              "    </tr>\n",
              "    <tr>\n",
              "      <td>461</td>\n",
              "      <td>0.000308</td>\n",
              "      <td>2.346846</td>\n",
              "      <td>0.764500</td>\n",
              "      <td>00:00</td>\n",
              "    </tr>\n",
              "    <tr>\n",
              "      <td>462</td>\n",
              "      <td>0.000260</td>\n",
              "      <td>2.348670</td>\n",
              "      <td>0.765500</td>\n",
              "      <td>00:00</td>\n",
              "    </tr>\n",
              "    <tr>\n",
              "      <td>463</td>\n",
              "      <td>0.000284</td>\n",
              "      <td>2.348242</td>\n",
              "      <td>0.767000</td>\n",
              "      <td>00:00</td>\n",
              "    </tr>\n",
              "    <tr>\n",
              "      <td>464</td>\n",
              "      <td>0.000239</td>\n",
              "      <td>2.350536</td>\n",
              "      <td>0.766500</td>\n",
              "      <td>00:00</td>\n",
              "    </tr>\n",
              "    <tr>\n",
              "      <td>465</td>\n",
              "      <td>0.000235</td>\n",
              "      <td>2.349096</td>\n",
              "      <td>0.767000</td>\n",
              "      <td>00:00</td>\n",
              "    </tr>\n",
              "    <tr>\n",
              "      <td>466</td>\n",
              "      <td>0.000209</td>\n",
              "      <td>2.347540</td>\n",
              "      <td>0.767000</td>\n",
              "      <td>00:00</td>\n",
              "    </tr>\n",
              "    <tr>\n",
              "      <td>467</td>\n",
              "      <td>0.000182</td>\n",
              "      <td>2.347682</td>\n",
              "      <td>0.766000</td>\n",
              "      <td>00:00</td>\n",
              "    </tr>\n",
              "    <tr>\n",
              "      <td>468</td>\n",
              "      <td>0.000155</td>\n",
              "      <td>2.350893</td>\n",
              "      <td>0.765500</td>\n",
              "      <td>00:00</td>\n",
              "    </tr>\n",
              "    <tr>\n",
              "      <td>469</td>\n",
              "      <td>0.000134</td>\n",
              "      <td>2.353570</td>\n",
              "      <td>0.765500</td>\n",
              "      <td>00:00</td>\n",
              "    </tr>\n",
              "    <tr>\n",
              "      <td>470</td>\n",
              "      <td>0.000118</td>\n",
              "      <td>2.350126</td>\n",
              "      <td>0.766000</td>\n",
              "      <td>00:00</td>\n",
              "    </tr>\n",
              "    <tr>\n",
              "      <td>471</td>\n",
              "      <td>0.000119</td>\n",
              "      <td>2.349826</td>\n",
              "      <td>0.767000</td>\n",
              "      <td>00:00</td>\n",
              "    </tr>\n",
              "    <tr>\n",
              "      <td>472</td>\n",
              "      <td>0.000104</td>\n",
              "      <td>2.348629</td>\n",
              "      <td>0.764000</td>\n",
              "      <td>00:00</td>\n",
              "    </tr>\n",
              "    <tr>\n",
              "      <td>473</td>\n",
              "      <td>0.000090</td>\n",
              "      <td>2.355323</td>\n",
              "      <td>0.767000</td>\n",
              "      <td>00:00</td>\n",
              "    </tr>\n",
              "    <tr>\n",
              "      <td>474</td>\n",
              "      <td>0.000083</td>\n",
              "      <td>2.352925</td>\n",
              "      <td>0.768000</td>\n",
              "      <td>00:00</td>\n",
              "    </tr>\n",
              "    <tr>\n",
              "      <td>475</td>\n",
              "      <td>0.000074</td>\n",
              "      <td>2.348534</td>\n",
              "      <td>0.766500</td>\n",
              "      <td>00:00</td>\n",
              "    </tr>\n",
              "    <tr>\n",
              "      <td>476</td>\n",
              "      <td>0.000069</td>\n",
              "      <td>2.349618</td>\n",
              "      <td>0.766000</td>\n",
              "      <td>00:00</td>\n",
              "    </tr>\n",
              "    <tr>\n",
              "      <td>477</td>\n",
              "      <td>0.000060</td>\n",
              "      <td>2.353432</td>\n",
              "      <td>0.765500</td>\n",
              "      <td>00:00</td>\n",
              "    </tr>\n",
              "    <tr>\n",
              "      <td>478</td>\n",
              "      <td>0.000058</td>\n",
              "      <td>2.350719</td>\n",
              "      <td>0.766500</td>\n",
              "      <td>00:00</td>\n",
              "    </tr>\n",
              "    <tr>\n",
              "      <td>479</td>\n",
              "      <td>0.000060</td>\n",
              "      <td>2.347457</td>\n",
              "      <td>0.765000</td>\n",
              "      <td>00:00</td>\n",
              "    </tr>\n",
              "    <tr>\n",
              "      <td>480</td>\n",
              "      <td>0.000070</td>\n",
              "      <td>2.348913</td>\n",
              "      <td>0.768000</td>\n",
              "      <td>00:00</td>\n",
              "    </tr>\n",
              "    <tr>\n",
              "      <td>481</td>\n",
              "      <td>0.000117</td>\n",
              "      <td>2.350322</td>\n",
              "      <td>0.766000</td>\n",
              "      <td>00:00</td>\n",
              "    </tr>\n",
              "    <tr>\n",
              "      <td>482</td>\n",
              "      <td>0.000119</td>\n",
              "      <td>2.346148</td>\n",
              "      <td>0.765500</td>\n",
              "      <td>00:00</td>\n",
              "    </tr>\n",
              "    <tr>\n",
              "      <td>483</td>\n",
              "      <td>0.000113</td>\n",
              "      <td>2.347049</td>\n",
              "      <td>0.765500</td>\n",
              "      <td>00:00</td>\n",
              "    </tr>\n",
              "    <tr>\n",
              "      <td>484</td>\n",
              "      <td>0.000161</td>\n",
              "      <td>2.348005</td>\n",
              "      <td>0.766500</td>\n",
              "      <td>00:00</td>\n",
              "    </tr>\n",
              "    <tr>\n",
              "      <td>485</td>\n",
              "      <td>0.000138</td>\n",
              "      <td>2.348860</td>\n",
              "      <td>0.767500</td>\n",
              "      <td>00:00</td>\n",
              "    </tr>\n",
              "    <tr>\n",
              "      <td>486</td>\n",
              "      <td>0.000300</td>\n",
              "      <td>2.352867</td>\n",
              "      <td>0.767500</td>\n",
              "      <td>00:00</td>\n",
              "    </tr>\n",
              "    <tr>\n",
              "      <td>487</td>\n",
              "      <td>0.000257</td>\n",
              "      <td>2.350164</td>\n",
              "      <td>0.768000</td>\n",
              "      <td>00:00</td>\n",
              "    </tr>\n",
              "    <tr>\n",
              "      <td>488</td>\n",
              "      <td>0.000236</td>\n",
              "      <td>2.346704</td>\n",
              "      <td>0.767500</td>\n",
              "      <td>00:00</td>\n",
              "    </tr>\n",
              "    <tr>\n",
              "      <td>489</td>\n",
              "      <td>0.000200</td>\n",
              "      <td>2.350359</td>\n",
              "      <td>0.766000</td>\n",
              "      <td>00:00</td>\n",
              "    </tr>\n",
              "    <tr>\n",
              "      <td>490</td>\n",
              "      <td>0.000174</td>\n",
              "      <td>2.350557</td>\n",
              "      <td>0.766500</td>\n",
              "      <td>00:00</td>\n",
              "    </tr>\n",
              "    <tr>\n",
              "      <td>491</td>\n",
              "      <td>0.000157</td>\n",
              "      <td>2.347993</td>\n",
              "      <td>0.768000</td>\n",
              "      <td>00:00</td>\n",
              "    </tr>\n",
              "    <tr>\n",
              "      <td>492</td>\n",
              "      <td>0.000148</td>\n",
              "      <td>2.351095</td>\n",
              "      <td>0.769500</td>\n",
              "      <td>00:00</td>\n",
              "    </tr>\n",
              "    <tr>\n",
              "      <td>493</td>\n",
              "      <td>0.000126</td>\n",
              "      <td>2.350391</td>\n",
              "      <td>0.768500</td>\n",
              "      <td>00:00</td>\n",
              "    </tr>\n",
              "    <tr>\n",
              "      <td>494</td>\n",
              "      <td>0.000112</td>\n",
              "      <td>2.346150</td>\n",
              "      <td>0.766500</td>\n",
              "      <td>00:00</td>\n",
              "    </tr>\n",
              "    <tr>\n",
              "      <td>495</td>\n",
              "      <td>0.000131</td>\n",
              "      <td>2.346524</td>\n",
              "      <td>0.768500</td>\n",
              "      <td>00:00</td>\n",
              "    </tr>\n",
              "    <tr>\n",
              "      <td>496</td>\n",
              "      <td>0.000113</td>\n",
              "      <td>2.343394</td>\n",
              "      <td>0.767500</td>\n",
              "      <td>00:00</td>\n",
              "    </tr>\n",
              "    <tr>\n",
              "      <td>497</td>\n",
              "      <td>0.000104</td>\n",
              "      <td>2.346816</td>\n",
              "      <td>0.767000</td>\n",
              "      <td>00:00</td>\n",
              "    </tr>\n",
              "    <tr>\n",
              "      <td>498</td>\n",
              "      <td>0.000089</td>\n",
              "      <td>2.346977</td>\n",
              "      <td>0.767500</td>\n",
              "      <td>00:00</td>\n",
              "    </tr>\n",
              "    <tr>\n",
              "      <td>499</td>\n",
              "      <td>0.000078</td>\n",
              "      <td>2.344716</td>\n",
              "      <td>0.767500</td>\n",
              "      <td>00:00</td>\n",
              "    </tr>\n",
              "  </tbody>\n",
              "</table>"
            ],
            "text/plain": [
              "<IPython.core.display.HTML object>"
            ]
          },
          "metadata": {}
        }
      ]
    },
    {
      "cell_type": "markdown",
      "source": [
        "## Training XGBoost"
      ],
      "metadata": {
        "id": "DWxw5ts_eBsG"
      }
    },
    {
      "cell_type": "code",
      "source": [
        "seed = 112 # Random seed\n",
        "import sklearn.metrics as skm\n",
        "import xgboost as xgb\n",
        "\n",
        "def xgbc_cv(max_depth,learning_rate,n_estimators,reg_alpha, colsample_bytree, gamma, min_child_weight):   \n",
        "    estimator_function = xgb.XGBClassifier(\n",
        "                                        max_depth=int(max_depth),\n",
        "                                        colsample_bytree= colsample_bytree,\n",
        "                                        gamma=gamma,\n",
        "                                        min_child_weight= int(min_child_weight),\n",
        "                                        learning_rate= learning_rate,\n",
        "                                        n_estimators= int(n_estimators),\n",
        "                                        reg_alpha = reg_alpha,\n",
        "                                        nthread = -1,\n",
        "                                        objective='multi:softmax',\n",
        "                                        #objective='binary:logistic',\n",
        "                                        #subsample=subsample,\n",
        "                                        seed = seed)\n",
        "    # Fit the estimator\n",
        "    estimator_function.fit(X_train,y_train)\n",
        "    \n",
        "    # calculate out-of-the-box roc_score using validation set 1\n",
        "    probs = estimator_function.predict_proba(X_val)\n",
        "    \n",
        "    val = skm.accuracy_score([estimator_function.classes_[item.argmax()] for item in probs], y_val)\n",
        "        \n",
        "    # return the mean validation score to be maximized \n",
        "    return np.array([val]).mean()"
      ],
      "metadata": {
        "id": "oVG38AWhyq94"
      },
      "execution_count": 34,
      "outputs": []
    },
    {
      "cell_type": "code",
      "source": [
        "X_train, y_train = df_train.iloc[:,0:512].to_numpy(), df_train['label'].to_numpy()\n",
        "X_val, y_val = df_val.iloc[:,0:512].to_numpy(), df_val['label'].to_numpy()\n",
        "X_test = df_test.iloc[:,0:512].to_numpy()"
      ],
      "metadata": {
        "id": "HjNFEusz0nkq"
      },
      "execution_count": 13,
      "outputs": []
    },
    {
      "cell_type": "code",
      "source": [
        "gp_params = {\"alpha\": 1e-10}\n",
        "\n",
        "# We create the BayesianOptimization objects using the functions that utilize\n",
        "# the respective classifiers and return cross-validated scores to be optimized.\n",
        "\n",
        "seed = 112 # Random seed\n",
        "\n",
        "# We create the bayes_opt object and pass the function to be maximized\n",
        "# together with the parameters names and their bounds.\n",
        "# Note the syntax of bayes_opt package: bounds of hyperparameters are passed as two-tuples\n",
        "\n",
        "hyperparameter_space = {\n",
        "    'max_depth': (2, 10),\n",
        "    'learning_rate': (0, 1),\n",
        "    'n_estimators' : (10,200),\n",
        "    'reg_alpha': (0,1),\n",
        "    'min_child_weight': (1, 20),\n",
        "    'colsample_bytree': (0.1, 1),\n",
        "    'gamma' : (0,1),\n",
        "    #'subsample': (0.2,0.9)\n",
        "}\n",
        "\n",
        "xgbcBO = BayesianOptimization(f = xgbc_cv, \n",
        "                             pbounds =  hyperparameter_space,\n",
        "                             random_state = seed,\n",
        "                             verbose = 10)\n",
        "\n",
        "# Finally we call .maximize method of the optimizer with the appropriate arguments\n",
        "# kappa is a measure of 'aggressiveness' of the bayesian optimization process\n",
        "# The algorithm will randomly choose 3 points to establish a 'prior', then will perform \n",
        "# 10 interations to maximize the value of estimator function\n",
        "xgbcBO.maximize(init_points=2,n_iter=20,acq='ucb', kappa= 3, **gp_params)"
      ],
      "metadata": {
        "id": "uddRD7lBzvUR",
        "outputId": "a0e3b214-8f41-4e31-a90a-8b8a43a8de72",
        "colab": {
          "base_uri": "https://localhost:8080/"
        }
      },
      "execution_count": 35,
      "outputs": [
        {
          "output_type": "stream",
          "name": "stdout",
          "text": [
            "|   iter    |  target   | colsam... |   gamma   | learni... | max_depth | min_ch... | n_esti... | reg_alpha |\n",
            "-------------------------------------------------------------------------------------------------------------\n",
            "| \u001b[0m 1       \u001b[0m | \u001b[0m 0.738   \u001b[0m | \u001b[0m 0.4376  \u001b[0m | \u001b[0m 0.6403  \u001b[0m | \u001b[0m 0.95    \u001b[0m | \u001b[0m 2.605   \u001b[0m | \u001b[0m 15.76   \u001b[0m | \u001b[0m 168.2   \u001b[0m | \u001b[0m 0.05481 \u001b[0m |\n",
            "| \u001b[0m 2       \u001b[0m | \u001b[0m 0.7225  \u001b[0m | \u001b[0m 0.8359  \u001b[0m | \u001b[0m 0.8854  \u001b[0m | \u001b[0m 0.7223  \u001b[0m | \u001b[0m 2.02    \u001b[0m | \u001b[0m 19.64   \u001b[0m | \u001b[0m 75.25   \u001b[0m | \u001b[0m 0.09476 \u001b[0m |\n",
            "| \u001b[0m 3       \u001b[0m | \u001b[0m 0.7255  \u001b[0m | \u001b[0m 0.8419  \u001b[0m | \u001b[0m 0.03895 \u001b[0m | \u001b[0m 0.2165  \u001b[0m | \u001b[0m 2.775   \u001b[0m | \u001b[0m 15.07   \u001b[0m | \u001b[0m 168.9   \u001b[0m | \u001b[0m 0.3362  \u001b[0m |\n",
            "| \u001b[95m 4       \u001b[0m | \u001b[95m 0.7405  \u001b[0m | \u001b[95m 0.1502  \u001b[0m | \u001b[95m 0.5569  \u001b[0m | \u001b[95m 0.6168  \u001b[0m | \u001b[95m 2.511   \u001b[0m | \u001b[95m 16.08   \u001b[0m | \u001b[95m 150.8   \u001b[0m | \u001b[95m 0.924   \u001b[0m |\n",
            "| \u001b[0m 5       \u001b[0m | \u001b[0m 0.717   \u001b[0m | \u001b[0m 0.5066  \u001b[0m | \u001b[0m 0.3194  \u001b[0m | \u001b[0m 0.5964  \u001b[0m | \u001b[0m 8.665   \u001b[0m | \u001b[0m 13.68   \u001b[0m | \u001b[0m 33.63   \u001b[0m | \u001b[0m 0.892   \u001b[0m |\n",
            "| \u001b[0m 6       \u001b[0m | \u001b[0m 0.6935  \u001b[0m | \u001b[0m 0.2203  \u001b[0m | \u001b[0m 0.885   \u001b[0m | \u001b[0m 0.8635  \u001b[0m | \u001b[0m 8.071   \u001b[0m | \u001b[0m 12.41   \u001b[0m | \u001b[0m 31.79   \u001b[0m | \u001b[0m 0.7216  \u001b[0m |\n",
            "| \u001b[0m 7       \u001b[0m | \u001b[0m 0.7325  \u001b[0m | \u001b[0m 0.2791  \u001b[0m | \u001b[0m 0.6861  \u001b[0m | \u001b[0m 0.7367  \u001b[0m | \u001b[0m 4.564   \u001b[0m | \u001b[0m 16.72   \u001b[0m | \u001b[0m 150.6   \u001b[0m | \u001b[0m 0.622   \u001b[0m |\n",
            "| \u001b[0m 8       \u001b[0m | \u001b[0m 0.735   \u001b[0m | \u001b[0m 0.8353  \u001b[0m | \u001b[0m 0.8371  \u001b[0m | \u001b[0m 0.38    \u001b[0m | \u001b[0m 2.119   \u001b[0m | \u001b[0m 15.56   \u001b[0m | \u001b[0m 148.4   \u001b[0m | \u001b[0m 0.7064  \u001b[0m |\n",
            "| \u001b[0m 9       \u001b[0m | \u001b[0m 0.7345  \u001b[0m | \u001b[0m 0.3308  \u001b[0m | \u001b[0m 0.1544  \u001b[0m | \u001b[0m 0.3421  \u001b[0m | \u001b[0m 2.574   \u001b[0m | \u001b[0m 13.15   \u001b[0m | \u001b[0m 151.1   \u001b[0m | \u001b[0m 0.7881  \u001b[0m |\n",
            "| \u001b[0m 10      \u001b[0m | \u001b[0m 0.736   \u001b[0m | \u001b[0m 0.8367  \u001b[0m | \u001b[0m 0.6407  \u001b[0m | \u001b[0m 0.8078  \u001b[0m | \u001b[0m 2.848   \u001b[0m | \u001b[0m 17.44   \u001b[0m | \u001b[0m 165.4   \u001b[0m | \u001b[0m 0.05746 \u001b[0m |\n",
            "| \u001b[95m 11      \u001b[0m | \u001b[95m 0.748   \u001b[0m | \u001b[95m 0.3304  \u001b[0m | \u001b[95m 0.2468  \u001b[0m | \u001b[95m 0.7536  \u001b[0m | \u001b[95m 2.1     \u001b[0m | \u001b[95m 19.0    \u001b[0m | \u001b[95m 168.2   \u001b[0m | \u001b[95m 0.853   \u001b[0m |\n",
            "| \u001b[0m 12      \u001b[0m | \u001b[0m 0.7285  \u001b[0m | \u001b[0m 0.1461  \u001b[0m | \u001b[0m 0.432   \u001b[0m | \u001b[0m 0.9008  \u001b[0m | \u001b[0m 4.303   \u001b[0m | \u001b[0m 19.75   \u001b[0m | \u001b[0m 170.3   \u001b[0m | \u001b[0m 0.1084  \u001b[0m |\n",
            "| \u001b[0m 13      \u001b[0m | \u001b[0m 0.32    \u001b[0m | \u001b[0m 1.0     \u001b[0m | \u001b[0m 0.1377  \u001b[0m | \u001b[0m 0.0     \u001b[0m | \u001b[0m 2.0     \u001b[0m | \u001b[0m 16.63   \u001b[0m | \u001b[0m 154.4   \u001b[0m | \u001b[0m 1.0     \u001b[0m |\n",
            "| \u001b[0m 14      \u001b[0m | \u001b[0m 0.723   \u001b[0m | \u001b[0m 0.1     \u001b[0m | \u001b[0m 0.0     \u001b[0m | \u001b[0m 1.0     \u001b[0m | \u001b[0m 6.351   \u001b[0m | \u001b[0m 12.47   \u001b[0m | \u001b[0m 148.1   \u001b[0m | \u001b[0m 1.0     \u001b[0m |\n",
            "| \u001b[0m 15      \u001b[0m | \u001b[0m 0.7215  \u001b[0m | \u001b[0m 0.6823  \u001b[0m | \u001b[0m 0.07707 \u001b[0m | \u001b[0m 0.7788  \u001b[0m | \u001b[0m 8.115   \u001b[0m | \u001b[0m 18.74   \u001b[0m | \u001b[0m 166.4   \u001b[0m | \u001b[0m 0.3742  \u001b[0m |\n",
            "| \u001b[0m 16      \u001b[0m | \u001b[0m 0.7075  \u001b[0m | \u001b[0m 0.5474  \u001b[0m | \u001b[0m 0.9419  \u001b[0m | \u001b[0m 0.1173  \u001b[0m | \u001b[0m 2.906   \u001b[0m | \u001b[0m 8.501   \u001b[0m | \u001b[0m 149.1   \u001b[0m | \u001b[0m 0.392   \u001b[0m |\n",
            "| \u001b[0m 17      \u001b[0m | \u001b[0m 0.7425  \u001b[0m | \u001b[0m 0.9296  \u001b[0m | \u001b[0m 0.6904  \u001b[0m | \u001b[0m 0.296   \u001b[0m | \u001b[0m 6.921   \u001b[0m | \u001b[0m 18.78   \u001b[0m | \u001b[0m 146.1   \u001b[0m | \u001b[0m 0.1327  \u001b[0m |\n",
            "| \u001b[0m 18      \u001b[0m | \u001b[0m 0.734   \u001b[0m | \u001b[0m 0.1436  \u001b[0m | \u001b[0m 0.709   \u001b[0m | \u001b[0m 0.8376  \u001b[0m | \u001b[0m 2.501   \u001b[0m | \u001b[0m 19.96   \u001b[0m | \u001b[0m 147.5   \u001b[0m | \u001b[0m 0.6393  \u001b[0m |\n",
            "| \u001b[0m 19      \u001b[0m | \u001b[0m 0.7435  \u001b[0m | \u001b[0m 0.3013  \u001b[0m | \u001b[0m 0.8224  \u001b[0m | \u001b[0m 0.6401  \u001b[0m | \u001b[0m 3.679   \u001b[0m | \u001b[0m 18.28   \u001b[0m | \u001b[0m 142.9   \u001b[0m | \u001b[0m 0.4351  \u001b[0m |\n",
            "| \u001b[0m 20      \u001b[0m | \u001b[0m 0.7155  \u001b[0m | \u001b[0m 0.1     \u001b[0m | \u001b[0m 0.0     \u001b[0m | \u001b[0m 1.0     \u001b[0m | \u001b[0m 7.485   \u001b[0m | \u001b[0m 15.42   \u001b[0m | \u001b[0m 142.8   \u001b[0m | \u001b[0m 0.2618  \u001b[0m |\n",
            "| \u001b[0m 21      \u001b[0m | \u001b[0m 0.32    \u001b[0m | \u001b[0m 1.0     \u001b[0m | \u001b[0m 1.0     \u001b[0m | \u001b[0m 0.0     \u001b[0m | \u001b[0m 7.592   \u001b[0m | \u001b[0m 20.0    \u001b[0m | \u001b[0m 141.4   \u001b[0m | \u001b[0m 1.0     \u001b[0m |\n",
            "| \u001b[0m 22      \u001b[0m | \u001b[0m 0.736   \u001b[0m | \u001b[0m 0.196   \u001b[0m | \u001b[0m 0.6142  \u001b[0m | \u001b[0m 0.61    \u001b[0m | \u001b[0m 3.005   \u001b[0m | \u001b[0m 13.39   \u001b[0m | \u001b[0m 143.7   \u001b[0m | \u001b[0m 0.2693  \u001b[0m |\n",
            "=============================================================================================================\n"
          ]
        }
      ]
    },
    {
      "cell_type": "code",
      "source": [
        "print(xgbcBO.max)"
      ],
      "metadata": {
        "colab": {
          "base_uri": "https://localhost:8080/"
        },
        "id": "CSJyjNDXZACt",
        "outputId": "033ca9f1-9c2c-4a13-8ca2-aa8ebaa8a01f"
      },
      "execution_count": 36,
      "outputs": [
        {
          "output_type": "stream",
          "name": "stdout",
          "text": [
            "{'target': 0.748, 'params': {'colsample_bytree': 0.33040192103972954, 'gamma': 0.2467946644336091, 'learning_rate': 0.7536491431894581, 'max_depth': 2.099678761138768, 'min_child_weight': 19.002554923102117, 'n_estimators': 168.22504211149993, 'reg_alpha': 0.8530107686566905}}\n"
          ]
        }
      ]
    },
    {
      "cell_type": "code",
      "source": [
        "clf_xgb = xgb.XGBClassifier(\n",
        "    max_depth=int(xgbcBO.max['params']['max_depth']),\n",
        "    learning_rate=float(xgbcBO.max['params']['learning_rate']),\n",
        "    n_estimators=int(xgbcBO.max['params']['n_estimators']), \n",
        "    reg_alpha=float(xgbcBO.max['params']['reg_alpha']),\n",
        "    colsample_bytree=float(xgbcBO.max['params']['colsample_bytree']), \n",
        "    gamma=float(xgbcBO.max['params']['gamma']), \n",
        "    min_child_weight=int(xgbcBO.max['params']['min_child_weight']), \n",
        "    )"
      ],
      "metadata": {
        "id": "thMxEq6GeVyq"
      },
      "execution_count": 37,
      "outputs": []
    },
    {
      "cell_type": "code",
      "source": [
        "xgb_model = clf_xgb.fit(X_train, y_train)"
      ],
      "metadata": {
        "id": "mB2LkjrBed47"
      },
      "execution_count": 38,
      "outputs": []
    },
    {
      "cell_type": "code",
      "source": [
        "xgb_preds = xgb_model.predict_proba(X_val)\n",
        "xgb_preds"
      ],
      "metadata": {
        "colab": {
          "base_uri": "https://localhost:8080/"
        },
        "id": "Gh00nw52emFY",
        "outputId": "37e7a51a-a575-4098-a088-2dab4049693f"
      },
      "execution_count": 39,
      "outputs": [
        {
          "output_type": "execute_result",
          "data": {
            "text/plain": [
              "array([[4.1253911e-03, 2.4641410e-01, 7.4946052e-01],\n",
              "       [9.2650473e-02, 8.8563144e-01, 2.1718062e-02],\n",
              "       [9.9838591e-01, 1.5929089e-03, 2.1180693e-05],\n",
              "       ...,\n",
              "       [9.2886382e-01, 7.0672214e-02, 4.6399713e-04],\n",
              "       [9.6690714e-01, 3.2640103e-02, 4.5269667e-04],\n",
              "       [6.9670414e-04, 2.1072609e-02, 9.7823071e-01]], dtype=float32)"
            ]
          },
          "metadata": {},
          "execution_count": 39
        }
      ]
    },
    {
      "cell_type": "code",
      "source": [
        "skm.accuracy_score([xgb_model.classes_[item.argmax()] for item in xgb_preds], y_val)"
      ],
      "metadata": {
        "colab": {
          "base_uri": "https://localhost:8080/"
        },
        "id": "YMoqHMDdepPX",
        "outputId": "90a6e4e0-a7df-4553-d3d9-0f1ec940d887"
      },
      "execution_count": 40,
      "outputs": [
        {
          "output_type": "execute_result",
          "data": {
            "text/plain": [
              "0.7445"
            ]
          },
          "metadata": {},
          "execution_count": 40
        }
      ]
    },
    {
      "cell_type": "markdown",
      "source": [
        "### TabNet"
      ],
      "metadata": {
        "id": "1zKiKotngQeT"
      }
    },
    {
      "cell_type": "code",
      "source": [
        "from pytorch_tabnet.tab_model import TabNetClassifier, TabNetRegressor\n",
        "\n",
        "clf_tabnet = TabNetClassifier()  #TabNetRegressor()\n",
        "clf_tabnet.fit(\n",
        "  X_train, y_train,\n",
        "  eval_set=[(X_val, y_val)],\n",
        "  max_epochs=500,\n",
        "  patience=20,\n",
        ")"
      ],
      "metadata": {
        "id": "hRGyUD3lj-Y-"
      },
      "execution_count": null,
      "outputs": []
    },
    {
      "cell_type": "code",
      "source": [
        "tabnet_preds = clf_tabnet.predict_proba(X_val)\n",
        "tabnet_preds"
      ],
      "metadata": {
        "id": "bXjUjoiSp4zy"
      },
      "execution_count": null,
      "outputs": []
    },
    {
      "cell_type": "code",
      "source": [
        "#[clf_tabnet.classes_[item.argmax()] for item in tabnet_preds]\n",
        "skm.accuracy_score([clf_tabnet.classes_[item.argmax()] for item in tabnet_preds], y_val)"
      ],
      "metadata": {
        "colab": {
          "base_uri": "https://localhost:8080/"
        },
        "id": "eblCsnuY568T",
        "outputId": "47e5b836-9dcf-42e5-f0b1-6a894acb998d"
      },
      "execution_count": 43,
      "outputs": [
        {
          "output_type": "execute_result",
          "data": {
            "text/plain": [
              "0.7545"
            ]
          },
          "metadata": {},
          "execution_count": 43
        }
      ]
    },
    {
      "cell_type": "markdown",
      "source": [
        "## LightGBM"
      ],
      "metadata": {
        "id": "95oLfrGLdS95"
      }
    },
    {
      "cell_type": "code",
      "source": [
        "from lightgbm import LGBMClassifier"
      ],
      "metadata": {
        "id": "9Ay1iYxFdUow"
      },
      "execution_count": 44,
      "outputs": []
    },
    {
      "cell_type": "code",
      "source": [
        "lgb_params = {\n",
        "    'objective' : 'multiclass',\n",
        "    'metric' : 'multi_logloss',\n",
        "    'device' : 'cpu',\n",
        "}\n",
        "\n",
        "model_lgbm = LGBMClassifier(**lgb_params)\n",
        "model_lgbm.fit(X_train, y_train, verbose = 5)\n",
        "\n",
        "lgbm_preds = model_lgbm.predict_proba(X_val)\n",
        "skm.accuracy_score([model_lgbm.classes_[item.argmax()] for item in lgbm_preds], y_val)"
      ],
      "metadata": {
        "colab": {
          "base_uri": "https://localhost:8080/"
        },
        "id": "b7H0deGfdWD1",
        "outputId": "f545f6ce-a703-4ef5-e406-de8f2db0c033"
      },
      "execution_count": 45,
      "outputs": [
        {
          "output_type": "execute_result",
          "data": {
            "text/plain": [
              "0.726"
            ]
          },
          "metadata": {},
          "execution_count": 45
        }
      ]
    },
    {
      "cell_type": "markdown",
      "source": [
        "## CatBoost"
      ],
      "metadata": {
        "id": "jpBXaYv_dLhv"
      }
    },
    {
      "cell_type": "code",
      "source": [
        "from catboost import CatBoostClassifier\n",
        "\n",
        "catb_params = {\n",
        "    \"objective\": \"MultiClass\",\n",
        "    \"task_type\": \"CPU\",\n",
        "    \"loss_function\": 'CrossEntropy'\n",
        "}\n",
        "\n",
        "model_catb = CatBoostClassifier(**catb_params)\n",
        "model_catb.fit(X_train, y_train, verbose = 5)\n",
        "\n",
        "catb_preds = model_catb.predict_proba(X_val)\n",
        "skm.accuracy_score([model_catb.classes_[item.argmax()] for item in catb_preds], y_val)"
      ],
      "metadata": {
        "id": "Iuw3HxcsdNLV"
      },
      "execution_count": null,
      "outputs": []
    },
    {
      "cell_type": "markdown",
      "source": [
        "## Sklearn Ensemble"
      ],
      "metadata": {
        "id": "hS6yvaGqgM71"
      }
    },
    {
      "cell_type": "code",
      "source": [
        "from sklearn.ensemble import VotingClassifier"
      ],
      "metadata": {
        "id": "dumV4NKmgQJT"
      },
      "execution_count": 47,
      "outputs": []
    },
    {
      "cell_type": "code",
      "source": [
        "eclf_soft = VotingClassifier(\n",
        "  estimators=[\n",
        "              ('xgb', xgb_model), \n",
        "              ('lgbm', model_lgbm), \n",
        "              ('catb', model_catb),\n",
        "              ],\n",
        "  voting='soft')\n",
        "\n",
        "eclf_soft = eclf_soft.fit(X_train, y_train)"
      ],
      "metadata": {
        "id": "L_u4u6vGinwN"
      },
      "execution_count": null,
      "outputs": []
    },
    {
      "cell_type": "code",
      "source": [
        "eclf_soft_preds = eclf_soft.predict_proba(X_val)\n",
        "skm.accuracy_score([eclf_soft.classes_[item.argmax()] for item in eclf_soft_preds], y_val)"
      ],
      "metadata": {
        "colab": {
          "base_uri": "https://localhost:8080/"
        },
        "id": "M7sRLoeuw4qw",
        "outputId": "e6fafde3-3caf-4db9-ff08-acd78a65d40d"
      },
      "execution_count": 49,
      "outputs": [
        {
          "output_type": "execute_result",
          "data": {
            "text/plain": [
              "0.751"
            ]
          },
          "metadata": {},
          "execution_count": 49
        }
      ]
    },
    {
      "cell_type": "markdown",
      "source": [
        "# Linear Predictions"
      ],
      "metadata": {
        "id": "kXLp9AlC0P8p"
      }
    },
    {
      "cell_type": "code",
      "source": [
        "from sklearn.preprocessing import StandardScaler\n",
        "from sklearn.preprocessing import LabelEncoder\n",
        "from sklearn.svm import SVC\n",
        "from sklearn.model_selection import cross_val_score, GridSearchCV\n",
        "from sklearn.metrics import accuracy_score\n",
        "\n",
        "scaler = StandardScaler()\n",
        "X_train_scaled = scaler.fit_transform(X_train)\n",
        "X_val_scaled = scaler.transform(X_val)\n",
        "\n",
        "le_scaler = LabelEncoder()\n",
        "Y_train_scaled = le_scaler.fit_transform(y_train)\n",
        "Y_val_scaled = le_scaler.transform(y_val)\n",
        "\n"
      ],
      "metadata": {
        "colab": {
          "base_uri": "https://localhost:8080/"
        },
        "id": "AGxQ6RF60SWZ",
        "outputId": "df9946ad-5c55-41c5-fa2f-b3b10dfe6863"
      },
      "execution_count": 16,
      "outputs": [
        {
          "output_type": "execute_result",
          "data": {
            "text/plain": [
              "SVC(probability=True)"
            ]
          },
          "metadata": {},
          "execution_count": 16
        }
      ]
    },
    {
      "cell_type": "code",
      "source": [
        "svm_model = SVC(probability=True)\n",
        "svm_model.fit(X_train_scaled, Y_train_scaled)"
      ],
      "metadata": {
        "id": "fLtW2Hf3S_Oj"
      },
      "execution_count": null,
      "outputs": []
    },
    {
      "cell_type": "code",
      "source": [
        "from sklearn.metrics import accuracy_score\n",
        "svm_preds = svm_model.predict_proba(X_val_scaled)\n",
        "accuracy_score([le_scaler.classes_[item.argmax()] for item in svm_preds], le_scaler.inverse_transform(Y_val_scaled))"
      ],
      "metadata": {
        "colab": {
          "base_uri": "https://localhost:8080/"
        },
        "id": "qotB-cmd0jAw",
        "outputId": "63796284-c4c7-4c91-a57c-fd10990d9334"
      },
      "execution_count": 23,
      "outputs": [
        {
          "output_type": "execute_result",
          "data": {
            "text/plain": [
              "0.785"
            ]
          },
          "metadata": {},
          "execution_count": 23
        }
      ]
    },
    {
      "cell_type": "markdown",
      "source": [
        "### XGBoost Linear"
      ],
      "metadata": {
        "id": "tmAMre8sS178"
      }
    },
    {
      "cell_type": "code",
      "source": [
        "from sklearn.metrics import mean_squared_error\n",
        "\n",
        "xgb_linear_model = xgb.XGBRegressor(objective=\"reg:squarederror\", random_state=42)\n",
        "\n",
        "xgb_linear_model.fit(X_train_scaled, Y_train_scaled)"
      ],
      "metadata": {
        "colab": {
          "base_uri": "https://localhost:8080/"
        },
        "id": "ZSGVZVrrS5JT",
        "outputId": "72a3db18-f2b7-4ecd-a030-b098f44675ab"
      },
      "execution_count": 94,
      "outputs": [
        {
          "output_type": "execute_result",
          "data": {
            "text/plain": [
              "XGBRegressor(objective='reg:squarederror', random_state=42)"
            ]
          },
          "metadata": {},
          "execution_count": 94
        }
      ]
    },
    {
      "cell_type": "code",
      "source": [
        "xgb_linear_preds = xgb_linear_model.predict(X_val_scaled)\n",
        "\n",
        "mse=mean_squared_error(Y_val_scaled, xgb_linear_preds)\n",
        "\n",
        "print(mse)\n",
        "print(np.sqrt(mse))"
      ],
      "metadata": {
        "colab": {
          "base_uri": "https://localhost:8080/"
        },
        "id": "vHRDBTdGUcW9",
        "outputId": "cd85a374-1a6a-42b0-e5d4-1dd69cab4612"
      },
      "execution_count": 95,
      "outputs": [
        {
          "output_type": "stream",
          "name": "stdout",
          "text": [
            "0.24768435364349073\n",
            "0.49767896644673537\n"
          ]
        }
      ]
    },
    {
      "cell_type": "code",
      "source": [
        "np.absolute(np.round(xgb_linear_preds)).astype(int)\n",
        "accuracy_score(np.absolute(np.round(xgb_linear_preds)).astype(int), Y_val_scaled)"
      ],
      "metadata": {
        "colab": {
          "base_uri": "https://localhost:8080/"
        },
        "id": "daJkODO6Uo9m",
        "outputId": "48b30225-9523-4ad5-e24a-01497185b244"
      },
      "execution_count": 113,
      "outputs": [
        {
          "output_type": "execute_result",
          "data": {
            "text/plain": [
              "0.69"
            ]
          },
          "metadata": {},
          "execution_count": 113
        }
      ]
    },
    {
      "cell_type": "code",
      "source": [
        "xgb_linear_preds \n",
        "xgb2 = xgb.XGBClassifier(objective='multi:softmax', random_state=42)\n",
        "xgb2.fit(xgb_linear_preds, y_val)\n",
        "\n",
        "\n"
      ],
      "metadata": {
        "id": "OZTykwARmdPd"
      },
      "execution_count": null,
      "outputs": []
    },
    {
      "cell_type": "code",
      "source": [
        "import matplotlib.pyplot as plt\n",
        "import seaborn as sns\n",
        "\n",
        "df_reg = pd.DataFrame({\"label\": y_val, \"pred\": xgb_linear_preds, \"label_num\": Y_val_scaled})\n",
        "\n",
        "sns.histplot(data=df_reg, x=\"pred\", hue=\"label\")"
      ],
      "metadata": {
        "colab": {
          "base_uri": "https://localhost:8080/",
          "height": 297
        },
        "id": "M3oO5kkdcWKl",
        "outputId": "816e7a3d-66b3-4932-ed0f-7fb541156ce3"
      },
      "execution_count": 148,
      "outputs": [
        {
          "output_type": "execute_result",
          "data": {
            "text/plain": [
              "<matplotlib.axes._subplots.AxesSubplot at 0x7fa43a176750>"
            ]
          },
          "metadata": {},
          "execution_count": 148
        },
        {
          "output_type": "display_data",
          "data": {
            "image/png": "[encoded data removed]",
            "text/plain": [
              "<Figure size 432x288 with 1 Axes>"
            ]
          },
          "metadata": {
            "needs_background": "light"
          }
        }
      ]
    },
    {
      "cell_type": "code",
      "source": [
        "sns.histplot(data=df_reg, x=\"pred\", hue=\"label\", multiple=\"stack\")"
      ],
      "metadata": {
        "colab": {
          "base_uri": "https://localhost:8080/",
          "height": 297
        },
        "id": "4ImGE9Vspjzr",
        "outputId": "bac75b91-c8f8-415c-8b05-93cf9f446f0c"
      },
      "execution_count": 124,
      "outputs": [
        {
          "output_type": "execute_result",
          "data": {
            "text/plain": [
              "<matplotlib.axes._subplots.AxesSubplot at 0x7fa43b9b0590>"
            ]
          },
          "metadata": {},
          "execution_count": 124
        },
        {
          "output_type": "display_data",
          "data": {
            "image/png": "[encoded data removed]",
            "text/plain": [
              "<Figure size 432x288 with 1 Axes>"
            ]
          },
          "metadata": {
            "needs_background": "light"
          }
        }
      ]
    },
    {
      "cell_type": "code",
      "source": [
        "f, ax = plt.subplots(figsize=(7, 6))\n",
        "sns.set_theme(style=\"ticks\")\n",
        "sns.boxplot(data=df_reg, x=\"pred\", y=\"label\")\n",
        "# Add in points to show each observation\n",
        "sns.stripplot(x=\"pred\", y=\"label\", data=df_reg,\n",
        "              size=4, color=\".3\", linewidth=0)\n",
        "# Tweak the visual presentation\n",
        "ax.xaxis.grid(True)\n",
        "ax.set(ylabel=\"\")\n",
        "sns.despine(trim=True, left=True)"
      ],
      "metadata": {
        "colab": {
          "base_uri": "https://localhost:8080/",
          "height": 388
        },
        "id": "4cREfws7xoin",
        "outputId": "7ca0fe52-f8f9-4a9b-d597-02bc7399e380"
      },
      "execution_count": 154,
      "outputs": [
        {
          "output_type": "display_data",
          "data": {
            "image/png": "[encoded data removed]",
            "text/plain": [
              "<Figure size 504x432 with 1 Axes>"
            ]
          },
          "metadata": {
            "needs_background": "light"
          }
        }
      ]
    },
    {
      "cell_type": "code",
      "source": [
        "from scipy.optimize import minimize\n",
        "\n",
        "def objective_function(x, y_hat, y_true):\n",
        "  tsh0 = x[0]\n",
        "  tsh1 = x[1]\n",
        "  f_preds = []\n",
        "  for pred in y_hat:\n",
        "    if pred < tsh0:\n",
        "      f_preds.append(0)\n",
        "    elif pred > tsh1:\n",
        "      f_preds.append(2)\n",
        "    else:\n",
        "      f_preds.append(1)\n",
        "\n",
        "  return float(1-accuracy_score(y_true, f_preds))\n",
        "\n",
        "#objective_function([0.4, 1.25], xgb_linear_preds, Y_val_scaled)\n",
        "\n",
        "opt_reg = minimize(objective_function, [0.6, 1.25], args=(xgb_linear_preds, Y_val_scaled), method='nelder-mead')\n",
        "\n",
        "opt_reg"
      ],
      "metadata": {
        "colab": {
          "base_uri": "https://localhost:8080/"
        },
        "id": "ETaAbeRX0Wlz",
        "outputId": "584fcbeb-d248-4d38-b040-560daf5b6575"
      },
      "execution_count": 172,
      "outputs": [
        {
          "output_type": "execute_result",
          "data": {
            "text/plain": [
              " final_simplex: (array([[0.57864258, 1.32556152],\n",
              "       [0.57865047, 1.32566118],\n",
              "       [0.57872191, 1.32565701]]), array([0.2905, 0.2905, 0.2905]))\n",
              "           fun: 0.2905\n",
              "       message: 'Optimization terminated successfully.'\n",
              "          nfev: 42\n",
              "           nit: 17\n",
              "        status: 0\n",
              "       success: True\n",
              "             x: array([0.57864258, 1.32556152])"
            ]
          },
          "metadata": {},
          "execution_count": 172
        }
      ]
    },
    {
      "cell_type": "code",
      "source": [
        "opt_reg['x']"
      ],
      "metadata": {
        "colab": {
          "base_uri": "https://localhost:8080/"
        },
        "id": "8Gkd0vUf3Gpn",
        "outputId": "f818d0f9-e449-4d86-c35e-f4e5830d75c4"
      },
      "execution_count": 173,
      "outputs": [
        {
          "output_type": "execute_result",
          "data": {
            "text/plain": [
              "array([0.57864258, 1.32556152])"
            ]
          },
          "metadata": {},
          "execution_count": 173
        }
      ]
    },
    {
      "cell_type": "code",
      "source": [
        "from scipy.optimize import minimize\n",
        "res = minimize(\n",
        "    objective_function,\n",
        "    [0.1, 1.6],\n",
        "    args=(xgb_linear_preds, Y_val_scaled),\n",
        "    method='nelder-mead'\n",
        ")\n",
        "res"
      ],
      "metadata": {
        "colab": {
          "base_uri": "https://localhost:8080/"
        },
        "id": "rbLd9IHPr-LU",
        "outputId": "77815847-7dd4-4825-8126-93324353bf93"
      },
      "execution_count": 163,
      "outputs": [
        {
          "output_type": "execute_result",
          "data": {
            "text/plain": [
              " final_simplex: (array([[0.67752594, 1.33331055],\n",
              "       [0.67745906, 1.33330415],\n",
              "       [0.67761531, 1.33330769]]), array([0.292, 0.292, 0.292]))\n",
              "           fun: 0.29200000000000004\n",
              "       message: 'Optimization terminated successfully.'\n",
              "          nfev: 106\n",
              "           nit: 47\n",
              "        status: 0\n",
              "       success: True\n",
              "             x: array([0.67752594, 1.33331055])"
            ]
          },
          "metadata": {},
          "execution_count": 163
        }
      ]
    },
    {
      "cell_type": "markdown",
      "source": [
        "### Simple Emsemble"
      ],
      "metadata": {
        "id": "YXnfMeuee26S"
      }
    },
    {
      "cell_type": "code",
      "source": [
        "nn_preds = learn.get_preds()[0]\n",
        "nn_preds"
      ],
      "metadata": {
        "colab": {
          "base_uri": "https://localhost:8080/",
          "height": 144
        },
        "id": "iFdX_emce5Te",
        "outputId": "97707998-5f11-47e7-8b7f-b75893fd65ad"
      },
      "execution_count": 51,
      "outputs": [
        {
          "output_type": "display_data",
          "data": {
            "text/html": [
              "\n",
              "<style>\n",
              "    /* Turns off some styling */\n",
              "    progress {\n",
              "        /* gets rid of default border in Firefox and Opera. */\n",
              "        border: none;\n",
              "        /* Needs to be in here for Safari polyfill so background images work as expected. */\n",
              "        background-size: auto;\n",
              "    }\n",
              "    .progress-bar-interrupted, .progress-bar-interrupted::-webkit-progress-bar {\n",
              "        background: #F44336;\n",
              "    }\n",
              "</style>\n"
            ],
            "text/plain": [
              "<IPython.core.display.HTML object>"
            ]
          },
          "metadata": {}
        },
        {
          "output_type": "display_data",
          "data": {
            "text/html": [
              ""
            ],
            "text/plain": [
              "<IPython.core.display.HTML object>"
            ]
          },
          "metadata": {}
        },
        {
          "output_type": "execute_result",
          "data": {
            "text/plain": [
              "tensor([[1.0959e-23, 2.6789e-01, 7.3211e-01],\n",
              "        [2.8499e-12, 1.0000e+00, 1.4000e-15],\n",
              "        [1.0000e+00, 1.2462e-18, 1.1471e-26],\n",
              "        ...,\n",
              "        [1.0000e+00, 2.4700e-16, 2.7459e-29],\n",
              "        [7.0494e-01, 2.9506e-01, 1.9245e-11],\n",
              "        [1.2818e-28, 2.7728e-11, 1.0000e+00]])"
            ]
          },
          "metadata": {},
          "execution_count": 51
        }
      ]
    },
    {
      "cell_type": "code",
      "source": [
        "accuracy(tensor(nn_preds), tensor(to.valid.ys.values.ravel()))"
      ],
      "metadata": {
        "colab": {
          "base_uri": "https://localhost:8080/"
        },
        "id": "kKxanMtMfgbL",
        "outputId": "55e3b563-6cfa-4cc4-b6ca-97519f0dda41"
      },
      "execution_count": 52,
      "outputs": [
        {
          "output_type": "execute_result",
          "data": {
            "text/plain": [
              "TensorBase(0.7675)"
            ]
          },
          "metadata": {},
          "execution_count": 52
        }
      ]
    },
    {
      "cell_type": "code",
      "source": [
        "skm.accuracy_score([clf_tabnet.classes_[item.argmax()] for item in tabnet_preds], y_val)"
      ],
      "metadata": {
        "colab": {
          "base_uri": "https://localhost:8080/"
        },
        "id": "qxYaCqjOp0Jz",
        "outputId": "b1c60f72-6a62-4444-9664-3ed80c04de30"
      },
      "execution_count": 64,
      "outputs": [
        {
          "output_type": "execute_result",
          "data": {
            "text/plain": [
              "0.7545"
            ]
          },
          "metadata": {},
          "execution_count": 64
        }
      ]
    },
    {
      "cell_type": "code",
      "source": [
        "skm.accuracy_score([xgb_model.classes_[item.argmax()] for item in xgb_preds], y_val)"
      ],
      "metadata": {
        "colab": {
          "base_uri": "https://localhost:8080/"
        },
        "id": "UW05n5_Hfh8b",
        "outputId": "7ab150f1-7b8f-4ea7-8df3-6f1bee0b834e"
      },
      "execution_count": 54,
      "outputs": [
        {
          "output_type": "execute_result",
          "data": {
            "text/plain": [
              "0.7445"
            ]
          },
          "metadata": {},
          "execution_count": 54
        }
      ]
    },
    {
      "cell_type": "code",
      "source": [
        "skm.accuracy_score([model_catb.classes_[item.argmax()] for item in catb_preds], y_val)"
      ],
      "metadata": {
        "colab": {
          "base_uri": "https://localhost:8080/"
        },
        "id": "JUceEygYxKOF",
        "outputId": "47dd6b89-4cd6-4b82-e157-e5972f72e3e7"
      },
      "execution_count": 55,
      "outputs": [
        {
          "output_type": "execute_result",
          "data": {
            "text/plain": [
              "0.754"
            ]
          },
          "metadata": {},
          "execution_count": 55
        }
      ]
    },
    {
      "cell_type": "code",
      "source": [
        "skm.accuracy_score([model_lgbm.classes_[item.argmax()] for item in lgbm_preds], y_val)"
      ],
      "metadata": {
        "colab": {
          "base_uri": "https://localhost:8080/"
        },
        "id": "hojdIc0txRGy",
        "outputId": "8e9668ca-cad3-4183-d9a3-2d7024a9e275"
      },
      "execution_count": 56,
      "outputs": [
        {
          "output_type": "execute_result",
          "data": {
            "text/plain": [
              "0.726"
            ]
          },
          "metadata": {},
          "execution_count": 56
        }
      ]
    },
    {
      "cell_type": "code",
      "source": [
        "skm.accuracy_score([eclf_soft.classes_[item.argmax()] for item in eclf_soft_preds], y_val)"
      ],
      "metadata": {
        "colab": {
          "base_uri": "https://localhost:8080/"
        },
        "id": "TfA-qxVBxWRd",
        "outputId": "ecd09ddb-a91d-4550-ed53-f7e1bf91dc1d"
      },
      "execution_count": 57,
      "outputs": [
        {
          "output_type": "execute_result",
          "data": {
            "text/plain": [
              "0.751"
            ]
          },
          "metadata": {},
          "execution_count": 57
        }
      ]
    },
    {
      "cell_type": "code",
      "source": [
        "accuracy_score([le_scaler.classes_[item.argmax()] for item in svm_preds], le_scaler.inverse_transform(Y_val_scaled))"
      ],
      "metadata": {
        "colab": {
          "base_uri": "https://localhost:8080/"
        },
        "id": "YO4O4nJCQ7JY",
        "outputId": "90d28d35-e9ab-43ed-83fa-5b2f9631c3f8"
      },
      "execution_count": 58,
      "outputs": [
        {
          "output_type": "execute_result",
          "data": {
            "text/plain": [
              "0.785"
            ]
          },
          "metadata": {},
          "execution_count": 58
        }
      ]
    },
    {
      "cell_type": "code",
      "source": [
        "#avgs = (nn_preds + xgb_preds + tabnet_preds + catb_preds + lgbm_preds + eclf_soft_preds) / 6\n",
        "#avgs = (nn_preds + tabnet_preds + eclf_soft_preds) / 3\n",
        "avgs = np.average([nn_preds, tabnet_preds, eclf_soft_preds, svm_preds], weights=[0.78, 0.7545, 0.7510, 0.79])\n",
        "avgs"
      ],
      "metadata": {
        "id": "zYPoyCFLfNso"
      },
      "execution_count": null,
      "outputs": []
    },
    {
      "cell_type": "code",
      "source": [
        "class_avg = [clf_tabnet.classes_[item.argmax()] for item in avgs.numpy()]"
      ],
      "metadata": {
        "id": "OteNyngpfV8i"
      },
      "execution_count": 82,
      "outputs": []
    },
    {
      "cell_type": "code",
      "source": [
        "skm.accuracy_score(class_avg, y_val)"
      ],
      "metadata": {
        "colab": {
          "base_uri": "https://localhost:8080/"
        },
        "id": "DdmFP5FXfki7",
        "outputId": "6e50a0eb-bbcd-4bfd-92de-47995f94f1ae"
      },
      "execution_count": 83,
      "outputs": [
        {
          "output_type": "execute_result",
          "data": {
            "text/plain": [
              "0.806"
            ]
          },
          "metadata": {},
          "execution_count": 83
        }
      ]
    },
    {
      "cell_type": "markdown",
      "source": [
        "## Predict Test Set"
      ],
      "metadata": {
        "id": "VZMwKOefqqCE"
      }
    },
    {
      "cell_type": "code",
      "source": [
        "#XGB\n",
        "xgb_preds_final = xgb_model.predict_proba(X_test)"
      ],
      "metadata": {
        "id": "b07WCVSZqpZd"
      },
      "execution_count": 63,
      "outputs": []
    },
    {
      "cell_type": "code",
      "source": [
        "#Tabnet\n",
        "tabnet_preds_final = clf_tabnet.predict_proba(X_test)"
      ],
      "metadata": {
        "id": "mtDq4lXk003w"
      },
      "execution_count": 65,
      "outputs": []
    },
    {
      "cell_type": "code",
      "source": [
        "#NN Tabular\n",
        "test_dl_df = dls.test_dl(df_test)\n",
        "nn_preds_final = learn.get_preds(dl=test_dl_df)[0]"
      ],
      "metadata": {
        "id": "BQ2htmvUrOTi",
        "colab": {
          "base_uri": "https://localhost:8080/",
          "height": 17
        },
        "outputId": "97552e5f-be15-46ee-acfb-d67d9b6fcb9b"
      },
      "execution_count": 66,
      "outputs": [
        {
          "output_type": "display_data",
          "data": {
            "text/html": [
              "\n",
              "<style>\n",
              "    /* Turns off some styling */\n",
              "    progress {\n",
              "        /* gets rid of default border in Firefox and Opera. */\n",
              "        border: none;\n",
              "        /* Needs to be in here for Safari polyfill so background images work as expected. */\n",
              "        background-size: auto;\n",
              "    }\n",
              "    .progress-bar-interrupted, .progress-bar-interrupted::-webkit-progress-bar {\n",
              "        background: #F44336;\n",
              "    }\n",
              "</style>\n"
            ],
            "text/plain": [
              "<IPython.core.display.HTML object>"
            ]
          },
          "metadata": {}
        },
        {
          "output_type": "display_data",
          "data": {
            "text/html": [
              ""
            ],
            "text/plain": [
              "<IPython.core.display.HTML object>"
            ]
          },
          "metadata": {}
        }
      ]
    },
    {
      "cell_type": "code",
      "source": [
        "# LGBM\n",
        "lgbm_preds_final = model_lgbm.predict_proba(X_test)"
      ],
      "metadata": {
        "id": "XYMIIInL05z2"
      },
      "execution_count": 67,
      "outputs": []
    },
    {
      "cell_type": "code",
      "source": [
        "#CATBOOST\n",
        "catb_preds_final = model_catb.predict_proba(X_test)"
      ],
      "metadata": {
        "id": "8Xs-qOaY07Y5"
      },
      "execution_count": 68,
      "outputs": []
    },
    {
      "cell_type": "code",
      "source": [
        "#ECFL\n",
        "eclf_soft_preds_final = eclf_soft.predict_proba(X_test)"
      ],
      "metadata": {
        "id": "HHVuKekg1QAm"
      },
      "execution_count": 69,
      "outputs": []
    },
    {
      "cell_type": "code",
      "source": [
        "#SVM\n",
        "X_test_scaled = scaler.transform(X_test)\n",
        "svm_preds_final = svm_model.predict_proba(X_test_scaled)"
      ],
      "metadata": {
        "id": "pH8IwbvXRdAm"
      },
      "execution_count": 71,
      "outputs": []
    },
    {
      "cell_type": "code",
      "source": [
        "#avgs_final = (nn_preds_final + tabnet_preds_final + eclf_soft_preds_final) / 3\n",
        "avgs_final = np.average([nn_preds_final, tabnet_preds_final, eclf_soft_preds_final, svm_preds_final], weights=[0.78, 0.7545, 0.7510, 0.79])"
      ],
      "metadata": {
        "id": "tRItfuOd9nzr",
        "colab": {
          "base_uri": "https://localhost:8080/"
        },
        "outputId": "10455df0-10b0-47af-ec05-155b298dc616"
      },
      "execution_count": 84,
      "outputs": [
        {
          "output_type": "stream",
          "name": "stderr",
          "text": [
            "/usr/local/lib/python3.7/dist-packages/numpy/lib/function_base.py:377: FutureWarning: The input object of type 'Tensor' is an array-like implementing one of the corresponding protocols (`__array__`, `__array_interface__` or `__array_struct__`); but not a sequence (or 0-D). In the future, this object will be coerced as if it was first converted using `np.array(obj)`. To retain the old behaviour, you have to either modify the type 'Tensor', or assign to an empty array created with `np.empty(correct_shape, dtype=object)`.\n",
            "  a = np.asanyarray(a)\n",
            "/usr/local/lib/python3.7/dist-packages/numpy/lib/function_base.py:377: VisibleDeprecationWarning: Creating an ndarray from ragged nested sequences (which is a list-or-tuple of lists-or-tuples-or ndarrays with different lengths or shapes) is deprecated. If you meant to do this, you must specify 'dtype=object' when creating the ndarray.\n",
            "  a = np.asanyarray(a)\n"
          ]
        }
      ]
    },
    {
      "cell_type": "code",
      "source": [
        "class_avg_final = [clf_tabnet.classes_[item.argmax()] for item in avgs_final.numpy()]"
      ],
      "metadata": {
        "id": "oyLbbtU7-TvK"
      },
      "execution_count": 85,
      "outputs": []
    },
    {
      "cell_type": "code",
      "source": [
        "class_avg_final"
      ],
      "metadata": {
        "id": "ht8VRcOD-ZCx"
      },
      "execution_count": null,
      "outputs": []
    },
    {
      "cell_type": "markdown",
      "source": [
        "## Generating Prediction File\n",
        "\n",
        "In this starter kit we will directly be submitting the sample prediction file. In case you would like to see a submission via baseline model, check it out here. "
      ],
      "metadata": {
        "id": "pVCAU-zoH2mV"
      }
    },
    {
      "cell_type": "code",
      "metadata": {
        "id": "gA7x8V3SZpq-"
      },
      "source": [
        "submission = pd.read_csv('data/sample_submission.csv')"
      ],
      "execution_count": 87,
      "outputs": []
    },
    {
      "cell_type": "code",
      "source": [
        "submission['label'] = class_avg_final"
      ],
      "metadata": {
        "id": "OjB7s3PI_MvH"
      },
      "execution_count": 88,
      "outputs": []
    },
    {
      "cell_type": "code",
      "source": [
        "import datetime \n",
        "\n",
        "current_date = datetime.datetime.now().strftime(\"%Y%m%d_%H%M%S\")\n",
        "name = \"ensemble_tablearn_tabnet_eclf_catb_xgb_lgbm_svm\"\n",
        "submission.to_csv(f\"/content/drive/MyDrive/models/face-sentiment-embbedings/submission_{name}_{current_date}.csv\", index = False)"
      ],
      "metadata": {
        "id": "zzprkCxE_vl1"
      },
      "execution_count": 89,
      "outputs": []
    },
    {
      "cell_type": "code",
      "metadata": {
        "id": "gNZQmMmeaD3V"
      },
      "source": [
        "!rm -rf assets\n",
        "!mkdir assets\n",
        "submission.to_csv(os.path.join(\"assets\", \"submission.csv\"))"
      ],
      "execution_count": 90,
      "outputs": []
    },
    {
      "cell_type": "markdown",
      "source": [
        "\n",
        "# Submitting our Predictions\n",
        "\n",
        "Note : Please save the notebook before submitting it (Ctrl + S)\n"
      ],
      "metadata": {
        "id": "zVH_sGk4AW86"
      }
    },
    {
      "cell_type": "code",
      "source": [
        "%aicrowd notebook submit -c sentiment-classification -a assets --no-verify"
      ],
      "metadata": {
        "colab": {
          "base_uri": "https://localhost:8080/",
          "height": 328,
          "referenced_widgets": [
            "32dd6d0038644457a336035784ced507",
            "c6c2e4a32985470bb77b6b1324aa8da6"
          ]
        },
        "id": "aSq4P4o69tp_",
        "outputId": "bd8fb4b7-de3c-4b85-c5d1-d9624483a528"
      },
      "execution_count": 91,
      "outputs": [
        {
          "output_type": "stream",
          "name": "stdout",
          "text": [
            "Using notebook: Cópia de Cópia de Getting Starter Notebook for Sentiment Classification  for submission...\n",
            "Scrubbing API keys from the notebook...\n",
            "Collecting notebook...\n"
          ]
        },
        {
          "output_type": "display_data",
          "data": {
            "application/vnd.jupyter.widget-view+json": {
              "model_id": "32dd6d0038644457a336035784ced507",
              "version_minor": 0,
              "version_major": 2
            },
            "text/plain": [
              "Output()"
            ]
          },
          "metadata": {}
        },
        {
          "output_type": "display_data",
          "data": {
            "text/html": [
              "<pre style=\"white-space:pre;overflow-x:auto;line-height:normal;font-family:Menlo,'DejaVu Sans Mono',consolas,'Courier New',monospace\"></pre>\n"
            ],
            "text/plain": [
              ""
            ]
          },
          "metadata": {}
        },
        {
          "output_type": "display_data",
          "data": {
            "text/html": [
              "<pre style=\"white-space:pre;overflow-x:auto;line-height:normal;font-family:Menlo,'DejaVu Sans Mono',consolas,'Courier New',monospace\">\n",
              "</pre>\n"
            ],
            "text/plain": [
              "\n"
            ]
          },
          "metadata": {}
        },
        {
          "output_type": "display_data",
          "data": {
            "text/html": [
              "<pre style=\"white-space:pre;overflow-x:auto;line-height:normal;font-family:Menlo,'DejaVu Sans Mono',consolas,'Courier New',monospace\">                                                       ╭─────────────────────────╮                                                       \n",
              "                                                       │ <span style=\"font-weight: bold\">Successfully submitted!</span> │                                                       \n",
              "                                                       ╰─────────────────────────╯                                                       \n",
              "</pre>\n"
            ],
            "text/plain": [
              "                                                       ╭─────────────────────────╮                                                       \n",
              "                                                       │ \u001b[1mSuccessfully submitted!\u001b[0m │                                                       \n",
              "                                                       ╰─────────────────────────╯                                                       \n"
            ]
          },
          "metadata": {}
        },
        {
          "output_type": "display_data",
          "data": {
            "text/html": [
              "<pre style=\"white-space:pre;overflow-x:auto;line-height:normal;font-family:Menlo,'DejaVu Sans Mono',consolas,'Courier New',monospace\"><span style=\"font-style: italic\">                                                             Important links                                                             </span>\n",
              "┌──────────────────┬────────────────────────────────────────────────────────────────────────────────────────────────────────────────────┐\n",
              "│  This submission │ https://www.aicrowd.com/challenges/ai-blitz-xiii/problems/sentiment-classification/submissions/175504              │\n",
              "│                  │                                                                                                                    │\n",
              "│  All submissions │ https://www.aicrowd.com/challenges/ai-blitz-xiii/problems/sentiment-classification/submissions?my_submissions=true │\n",
              "│                  │                                                                                                                    │\n",
              "│      Leaderboard │ https://www.aicrowd.com/challenges/ai-blitz-xiii/problems/sentiment-classification/leaderboards                    │\n",
              "│                  │                                                                                                                    │\n",
              "│ Discussion forum │ https://discourse.aicrowd.com/c/ai-blitz-xiii                                                                      │\n",
              "│                  │                                                                                                                    │\n",
              "│   Challenge page │ https://www.aicrowd.com/challenges/ai-blitz-xiii/problems/sentiment-classification                                 │\n",
              "└──────────────────┴────────────────────────────────────────────────────────────────────────────────────────────────────────────────────┘\n",
              "</pre>\n"
            ],
            "text/plain": [
              "\u001b[3m                                                             Important links                                                             \u001b[0m\n",
              "┌──────────────────┬────────────────────────────────────────────────────────────────────────────────────────────────────────────────────┐\n",
              "│  This submission │ https://www.aicrowd.com/challenges/ai-blitz-xiii/problems/sentiment-classification/submissions/175504              │\n",
              "│                  │                                                                                                                    │\n",
              "│  All submissions │ https://www.aicrowd.com/challenges/ai-blitz-xiii/problems/sentiment-classification/submissions?my_submissions=true │\n",
              "│                  │                                                                                                                    │\n",
              "│      Leaderboard │ https://www.aicrowd.com/challenges/ai-blitz-xiii/problems/sentiment-classification/leaderboards                    │\n",
              "│                  │                                                                                                                    │\n",
              "│ Discussion forum │ https://discourse.aicrowd.com/c/ai-blitz-xiii                                                                      │\n",
              "│                  │                                                                                                                    │\n",
              "│   Challenge page │ https://www.aicrowd.com/challenges/ai-blitz-xiii/problems/sentiment-classification                                 │\n",
              "└──────────────────┴────────────────────────────────────────────────────────────────────────────────────────────────────────────────────┘\n"
            ]
          },
          "metadata": {}
        }
      ]
    }
  ]
}